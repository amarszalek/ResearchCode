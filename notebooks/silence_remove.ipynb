{
 "cells": [
  {
   "cell_type": "code",
   "execution_count": 1,
   "metadata": {
    "collapsed": true
   },
   "outputs": [],
   "source": [
    "import os\n",
    "import numpy as np\n",
    "import pandas as pd\n",
    "import matplotlib.pyplot as plt\n",
    "from scipy.io import wavfile\n",
    "from scipy import signal\n",
    "from scipy import stats\n",
    "from pyorderedfuzzy.ofcandles import ofcandle\n",
    "from pyorderedfuzzy.ofnumbers import ofnumber\n",
    "import prepare_data as prep\n",
    "%matplotlib tk\n",
    "import IPython.display as ipd"
   ]
  },
  {
   "cell_type": "code",
   "execution_count": 2,
   "metadata": {},
   "outputs": [
    {
     "data": {
      "text/html": [
       "<div>\n",
       "<style>\n",
       "    .dataframe thead tr:only-child th {\n",
       "        text-align: right;\n",
       "    }\n",
       "\n",
       "    .dataframe thead th {\n",
       "        text-align: left;\n",
       "    }\n",
       "\n",
       "    .dataframe tbody tr th {\n",
       "        vertical-align: top;\n",
       "    }\n",
       "</style>\n",
       "<table border=\"1\" class=\"dataframe\">\n",
       "  <thead>\n",
       "    <tr style=\"text-align: right;\">\n",
       "      <th></th>\n",
       "      <th>folder</th>\n",
       "      <th>file</th>\n",
       "      <th>label</th>\n",
       "    </tr>\n",
       "  </thead>\n",
       "  <tbody>\n",
       "    <tr>\n",
       "      <th>0</th>\n",
       "      <td>bed</td>\n",
       "      <td>00176480_nohash_0.wav</td>\n",
       "      <td>unknown</td>\n",
       "    </tr>\n",
       "    <tr>\n",
       "      <th>1</th>\n",
       "      <td>bed</td>\n",
       "      <td>004ae714_nohash_0.wav</td>\n",
       "      <td>unknown</td>\n",
       "    </tr>\n",
       "    <tr>\n",
       "      <th>2</th>\n",
       "      <td>bed</td>\n",
       "      <td>004ae714_nohash_1.wav</td>\n",
       "      <td>unknown</td>\n",
       "    </tr>\n",
       "    <tr>\n",
       "      <th>3</th>\n",
       "      <td>bed</td>\n",
       "      <td>00f0204f_nohash_0.wav</td>\n",
       "      <td>unknown</td>\n",
       "    </tr>\n",
       "    <tr>\n",
       "      <th>4</th>\n",
       "      <td>bed</td>\n",
       "      <td>00f0204f_nohash_1.wav</td>\n",
       "      <td>unknown</td>\n",
       "    </tr>\n",
       "  </tbody>\n",
       "</table>\n",
       "</div>"
      ],
      "text/plain": [
       "  folder                   file    label\n",
       "0    bed  00176480_nohash_0.wav  unknown\n",
       "1    bed  004ae714_nohash_0.wav  unknown\n",
       "2    bed  004ae714_nohash_1.wav  unknown\n",
       "3    bed  00f0204f_nohash_0.wav  unknown\n",
       "4    bed  00f0204f_nohash_1.wav  unknown"
      ]
     },
     "execution_count": 2,
     "metadata": {},
     "output_type": "execute_result"
    }
   ],
   "source": [
    "ftrain = pd.read_pickle('../data/ftrain.pkl')\n",
    "ftrain.head()"
   ]
  },
  {
   "cell_type": "code",
   "execution_count": 3,
   "metadata": {},
   "outputs": [
    {
     "data": {
      "text/plain": [
       "{'bed': '../data/train/audio/bed/b21f0fa4_nohash_0.wav',\n",
       " 'bird': '../data/train/audio/bird/f6af2457_nohash_0.wav',\n",
       " 'cat': '../data/train/audio/cat/cfde27ba_nohash_0.wav',\n",
       " 'dog': '../data/train/audio/dog/61e50f62_nohash_0.wav',\n",
       " 'down': '../data/train/audio/down/67961766_nohash_0.wav',\n",
       " 'eight': '../data/train/audio/eight/c1d39ce8_nohash_3.wav',\n",
       " 'five': '../data/train/audio/five/f44f440f_nohash_1.wav',\n",
       " 'four': '../data/train/audio/four/acfd3bc3_nohash_0.wav',\n",
       " 'go': '../data/train/audio/go/31e686d2_nohash_0.wav',\n",
       " 'happy': '../data/train/audio/happy/cc2f1a85_nohash_0.wav',\n",
       " 'house': '../data/train/audio/house/27b9a84f_nohash_0.wav',\n",
       " 'left': '../data/train/audio/left/ffd2ba2f_nohash_3.wav',\n",
       " 'marvin': '../data/train/audio/marvin/7bf801d1_nohash_1.wav',\n",
       " 'nine': '../data/train/audio/nine/135c6841_nohash_0.wav',\n",
       " 'no': '../data/train/audio/no/e41e41f7_nohash_0.wav',\n",
       " 'off': '../data/train/audio/off/80c45ed6_nohash_0.wav',\n",
       " 'on': '../data/train/audio/on/f3d06008_nohash_3.wav',\n",
       " 'one': '../data/train/audio/one/66276b0e_nohash_1.wav',\n",
       " 'right': '../data/train/audio/right/c6a23ff5_nohash_2.wav',\n",
       " 'seven': '../data/train/audio/seven/1b459024_nohash_1.wav',\n",
       " 'sheila': '../data/train/audio/sheila/6b7d5101_nohash_0.wav',\n",
       " 'silence': '../data/train/audio/silence/s_1400_59.wav',\n",
       " 'six': '../data/train/audio/six/f104f742_nohash_2.wav',\n",
       " 'stop': '../data/train/audio/stop/1c45ceb2_nohash_0.wav',\n",
       " 'three': '../data/train/audio/three/4f781a59_nohash_0.wav',\n",
       " 'tree': '../data/train/audio/tree/ccfd721c_nohash_0.wav',\n",
       " 'two': '../data/train/audio/two/b00c4c53_nohash_0.wav',\n",
       " 'up': '../data/train/audio/up/32a19ecf_nohash_0.wav',\n",
       " 'wow': '../data/train/audio/wow/370844f7_nohash_0.wav',\n",
       " 'yes': '../data/train/audio/yes/dec73123_nohash_0.wav',\n",
       " 'zero': '../data/train/audio/zero/46a153d8_nohash_1.wav'}"
      ]
     },
     "execution_count": 3,
     "metadata": {},
     "output_type": "execute_result"
    }
   ],
   "source": [
    "df_folder = ftrain.groupby(['folder'])\n",
    "samples_path = {}\n",
    "for i, folder in df_folder:\n",
    "    sample = folder.sample(1)\n",
    "    samples_path[i] = '../data/train/audio/'+str(sample['folder'].min())+'/'+str(sample['file'].min())\n",
    "samples_path"
   ]
  },
  {
   "cell_type": "code",
   "execution_count": 16,
   "metadata": {
    "collapsed": true
   },
   "outputs": [],
   "source": [
    "def moving_average(data, period):\n",
    "    smooth = np.zeros(len(data))\n",
    "    for i in range(len(data)):\n",
    "        smooth[i]=data[i]\n",
    "        it = 1\n",
    "        for j in range(1, period):\n",
    "            if i-j>=0:\n",
    "                smooth[i]+=data[i-j]\n",
    "                it+=1\n",
    "        smooth[i]=smooth[i]/it\n",
    "    return smooth\n",
    "\n"
   ]
  },
  {
   "cell_type": "code",
   "execution_count": 108,
   "metadata": {},
   "outputs": [
    {
     "name": "stdout",
     "output_type": "stream",
     "text": [
      "../data/train/audio/zero/51f4d5b0_nohash_0.wav\n"
     ]
    }
   ],
   "source": [
    "sample = ftrain.sample(1)\n",
    "sample_path = '../data/train/audio/'+str(sample['folder'].min())+'/'+str(sample['file'].min())\n",
    "#sample_path = '../data/train/audio/two/d0faf7e4_nohash_4.wav'\n",
    "print(sample_path)\n",
    "silence_level = 0.052\n",
    "rate, data = wavfile.read(sample_path)\n",
    "norm_data = (data-np.mean(data))/np.max(np.abs(data))\n",
    "frequencies, times, spectogram = signal.spectrogram(norm_data, rate)\n",
    "analytic_signal = signal.hilbert(norm_data)\n",
    "amplitude_envelope = np.abs(analytic_signal)\n",
    "smooth_amplitude = moving_average(amplitude_envelope, 11)\n",
    "last = np.argwhere(smooth_amplitude>silence_level)[-1][0]\n",
    "smooth_amplitude_back = moving_average(amplitude_envelope[::-1], 11)\n",
    "first = np.argwhere(smooth_amplitude_back[::-1]>silence_level)[0][0]"
   ]
  },
  {
   "cell_type": "code",
   "execution_count": 111,
   "metadata": {},
   "outputs": [],
   "source": [
    "fig = plt.figure(figsize = (14,4))\n",
    "ax1 = fig.add_subplot(111)\n",
    "ax1.set_title('signal - amplitude')\n",
    "ax1.plot(norm_data)\n",
    "ax1.plot(amplitude_envelope)\n",
    "ax1.plot(smooth_amplitude)\n",
    "ax1.plot(smooth_amplitude_back[::-1])\n",
    "ax1.axhline(0.051)\n",
    "ax1.axhline(-0.051)\n",
    "ax1.axvline(first, c='r')\n",
    "ax1.axvline(last, c='g')\n",
    "plt.show()"
   ]
  },
  {
   "cell_type": "code",
   "execution_count": 110,
   "metadata": {},
   "outputs": [
    {
     "data": {
      "text/html": [
       "\n",
       "                <audio controls=\"controls\" >\n",
       "                    <source src=\"data:audio/wav;base64,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\" type=\"audio/wav\" />\n",
       "                    Your browser does not support the audio element.\n",
       "                </audio>\n",
       "              "
      ],
      "text/plain": [
       "<IPython.lib.display.Audio object>"
      ]
     },
     "execution_count": 110,
     "metadata": {},
     "output_type": "execute_result"
    }
   ],
   "source": [
    "ipd.Audio(data[first:last], rate=rate)"
   ]
  },
  {
   "cell_type": "code",
   "execution_count": 65,
   "metadata": {},
   "outputs": [],
   "source": [
    "from pydub import AudioSegment, silence\n",
    "song = AudioSegment.from_wav(\"../data/train/audio/stop/977a3be4_nohash_0.wav\")"
   ]
  },
  {
   "cell_type": "code",
   "execution_count": 60,
   "metadata": {},
   "outputs": [
    {
     "data": {
      "text/plain": [
       "[[0, 836]]"
      ]
     },
     "execution_count": 60,
     "metadata": {},
     "output_type": "execute_result"
    }
   ],
   "source": [
    "silence.detect_nonsilent(song)"
   ]
  },
  {
   "cell_type": "code",
   "execution_count": 63,
   "metadata": {},
   "outputs": [
    {
     "data": {
      "text/plain": [
       "2519"
      ]
     },
     "execution_count": 63,
     "metadata": {},
     "output_type": "execute_result"
    }
   ],
   "source": [
    "song.rms"
   ]
  },
  {
   "cell_type": "code",
   "execution_count": 67,
   "metadata": {},
   "outputs": [
    {
     "data": {
      "text/html": [
       "\n",
       "                    <audio controls>\n",
       "                        <source src=\"data:audio/mpeg;base64,SUQzBAAAAAAAI1RTU0UAAAAPAAADTGF2ZjU2LjQwLjEwMQAAAAAAAAAAAAAA//NYwAAAAAAAAAAAAEluZm8AAAAPAAAABQAAAtAAZmZmZmZmZmZmZmZmZmZmZmZmZoyMjIyMjIyMjIyMjIyMjIyMjIyMs7Ozs7Ozs7Ozs7Ozs7Ozs7Ozs7PZ2dnZ2dnZ2dnZ2dnZ2dnZ2dnZ2f//////////////////////////AAAAAExhdmM1Ni42MAAAAAAAAAAAAAAAACQAAAAAAAAAAALQe/5dGwAAAAAAAAAAAAAA//M4xAAQoL6FRUMYAACDAAxZxEREdzP+uiIiIif/Xf/ru7uLABAY4nB8HwfBB34gB9/xAclwfB//g4CAIAgGH5cHP8oCBz9Hm8HwcBAEAQUtx5PkJBaGiz2fahWfuKhxLJNiW4GQOTUMA1LH//M4xBwcGdqQAY9AADc0WoNSAAom2Fg9m8alQ6Cwcipot7npcqLaOUPPLzkWTbItqGqtSITmjmWG0pLvd+IVHH0EAVFhYFjqRp14oSOGTQTFVDhPhqxDbh1N3axZmd///UoBKZEdg3SNp7O3//M4xAoXwb6QAYwwAb6/7PVmdq+ePdGHu1QxCSkKceaV3W87jXF2sitJ2v+Geqn1lbNVLZ/dTXxHc/7POxk+vuNyhkVuW8Dsr4/K3/eKhhwX/YV8eN7tOc73oc+9Z/n735EOd6Lm5wtqtviu//M4xAoWEhaQAY9AAFaruGwMWueC+FkS8kmkWLh0HQBh/rIu4LBEpmk1VX+qZ4WRRiSq+WbmPGq9ra9V/7dpw9crs0usq23/K8Xd/DP9GPeRut9WjpqpT/6v+ioAGicBJSAQQBQAILRxQtat//M4xBAUIQIWF8gQAPWsquq1+qupS6GN/MZkMY38xnUKAuCp2Co8FfqBpR6WPA09pZQdgqGwVdBUqCv4K8qdEp34iDgif/lVA0MDssHKTEFNRTMuOTkuNaqqqqqqqqqqqqqqqqqqqqqqqqqq\" type=\"audio/mpeg\"/>\n",
       "                        Your browser does not support the audio element.\n",
       "                    </audio>\n",
       "                  "
      ],
      "text/plain": [
       "<pydub.audio_segment.AudioSegment at 0x7f7b7b7088d0>"
      ]
     },
     "execution_count": 67,
     "metadata": {},
     "output_type": "execute_result"
    }
   ],
   "source": [
    "song[1:100]"
   ]
  },
  {
   "cell_type": "code",
   "execution_count": 55,
   "metadata": {},
   "outputs": [
    {
     "data": {
      "text/plain": [
       "2"
      ]
     },
     "execution_count": 55,
     "metadata": {},
     "output_type": "execute_result"
    }
   ],
   "source": [
    "a.sample_width"
   ]
  },
  {
   "cell_type": "code",
   "execution_count": 56,
   "metadata": {},
   "outputs": [
    {
     "data": {
      "text/plain": [
       "2"
      ]
     },
     "execution_count": 56,
     "metadata": {},
     "output_type": "execute_result"
    }
   ],
   "source": [
    "song.sample_width"
   ]
  },
  {
   "cell_type": "code",
   "execution_count": 81,
   "metadata": {
    "collapsed": true
   },
   "outputs": [],
   "source": [
    "a = silence.split_on_silence(song, silence_thresh=0)"
   ]
  },
  {
   "cell_type": "code",
   "execution_count": 82,
   "metadata": {},
   "outputs": [
    {
     "data": {
      "text/plain": [
       "[<pydub.audio_segment.AudioSegment at 0x7f7b7adb7c18>]"
      ]
     },
     "execution_count": 82,
     "metadata": {},
     "output_type": "execute_result"
    }
   ],
   "source": [
    "a"
   ]
  },
  {
   "cell_type": "code",
   "execution_count": 78,
   "metadata": {},
   "outputs": [
    {
     "data": {
      "text/html": [
       "\n",
       "                    <audio controls>\n",
       "                        <source src=\"data:audio/mpeg;base64,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\" type=\"audio/mpeg\"/>\n",
       "                        Your browser does not support the audio element.\n",
       "                    </audio>\n",
       "                  "
      ],
      "text/plain": [
       "<pydub.audio_segment.AudioSegment at 0x7f7b7c07cb38>"
      ]
     },
     "execution_count": 78,
     "metadata": {},
     "output_type": "execute_result"
    }
   ],
   "source": [
    "a[0]"
   ]
  },
  {
   "cell_type": "code",
   "execution_count": 72,
   "metadata": {},
   "outputs": [
    {
     "data": {
      "text/plain": [
       "-26.020599913279625"
      ]
     },
     "execution_count": 72,
     "metadata": {},
     "output_type": "execute_result"
    }
   ],
   "source": [
    "20*np.log10(0.05)"
   ]
  },
  {
   "cell_type": "code",
   "execution_count": null,
   "metadata": {
    "collapsed": true
   },
   "outputs": [],
   "source": []
  }
 ],
 "metadata": {
  "kernelspec": {
   "display_name": "Python 3",
   "language": "python",
   "name": "python3"
  },
  "language_info": {
   "codemirror_mode": {
    "name": "ipython",
    "version": 3
   },
   "file_extension": ".py",
   "mimetype": "text/x-python",
   "name": "python",
   "nbconvert_exporter": "python",
   "pygments_lexer": "ipython3",
   "version": "3.6.1"
  }
 },
 "nbformat": 4,
 "nbformat_minor": 2
}
