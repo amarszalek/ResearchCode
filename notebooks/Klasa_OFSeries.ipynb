{
 "cells": [
  {
   "cell_type": "markdown",
   "metadata": {},
   "source": [
    "## Klasa OFSeries"
   ]
  },
  {
   "cell_type": "code",
   "execution_count": 1,
   "metadata": {},
   "outputs": [],
   "source": [
    "import sys\n",
    "sys.path.append('../pyorderedfuzzy')"
   ]
  },
  {
   "cell_type": "code",
   "execution_count": 2,
   "metadata": {},
   "outputs": [],
   "source": [
    "%matplotlib inline\n",
    "import numpy as np\n",
    "import matplotlib.pyplot as plt\n",
    "import ofnumber as ofn\n",
    "import ofmodels as ofm"
   ]
  },
  {
   "cell_type": "code",
   "execution_count": 3,
   "metadata": {},
   "outputs": [],
   "source": [
    "a = ofn.OFNumber.init_trapezoid_x0x1(0, 2, 5, 3)\n",
    "b = ofn.OFNumber.init_trapezoid_x0x1(-1, 2, 5, 3)\n",
    "c = ofn.OFNumber.init_trapezoid_x0x1(5, 3, 1, 2)"
   ]
  },
  {
   "cell_type": "code",
   "execution_count": 4,
   "metadata": {},
   "outputs": [],
   "source": [
    "ofs = ofm.OFSeries([a,b,c]) "
   ]
  },
  {
   "cell_type": "code",
   "execution_count": 5,
   "metadata": {},
   "outputs": [
    {
     "data": {
      "text/plain": [
       "array([([0.  0.2 0.4 0.6 0.8 1.  1.2 1.4 1.6 1.8 2. ], [5.  4.8 4.6 4.4 4.2 4.  3.8 3.6 3.4 3.2 3. ]),\n",
       "       ([-1.  -0.7 -0.4 -0.1  0.2  0.5  0.8  1.1  1.4  1.7  2. ], [5.  4.8 4.6 4.4 4.2 4.  3.8 3.6 3.4 3.2 3. ]),\n",
       "       ([5.  4.8 4.6 4.4 4.2 4.  3.8 3.6 3.4 3.2 3. ], [1.  1.1 1.2 1.3 1.4 1.5 1.6 1.7 1.8 1.9 2. ])],\n",
       "      dtype=object)"
      ]
     },
     "execution_count": 5,
     "metadata": {},
     "output_type": "execute_result"
    }
   ],
   "source": [
    "ofs.values"
   ]
  },
  {
   "cell_type": "code",
   "execution_count": 6,
   "metadata": {},
   "outputs": [
    {
     "data": {
      "text/plain": [
       "array([([-1.  -0.7 -0.4 -0.1  0.2  0.5  0.8  1.1  1.4  1.7  2. ], [5.  4.8 4.6 4.4 4.2 4.  3.8 3.6 3.4 3.2 3. ]),\n",
       "       ([5.  4.8 4.6 4.4 4.2 4.  3.8 3.6 3.4 3.2 3. ], [1.  1.1 1.2 1.3 1.4 1.5 1.6 1.7 1.8 1.9 2. ])],\n",
       "      dtype=object)"
      ]
     },
     "execution_count": 6,
     "metadata": {},
     "output_type": "execute_result"
    }
   ],
   "source": [
    "ofs[1:]"
   ]
  },
  {
   "cell_type": "code",
   "execution_count": 7,
   "metadata": {},
   "outputs": [],
   "source": [
    "d = ofs[0]"
   ]
  },
  {
   "cell_type": "code",
   "execution_count": 8,
   "metadata": {},
   "outputs": [],
   "source": [
    "d.branch_f.fvalue_y[0]=100"
   ]
  },
  {
   "cell_type": "code",
   "execution_count": 9,
   "metadata": {},
   "outputs": [
    {
     "data": {
      "text/plain": [
       "([100.    0.2   0.4   0.6   0.8   1.    1.2   1.4   1.6   1.8   2. ], [5.  4.8 4.6 4.4 4.2 4.  3.8 3.6 3.4 3.2 3. ])"
      ]
     },
     "execution_count": 9,
     "metadata": {},
     "output_type": "execute_result"
    }
   ],
   "source": [
    "d"
   ]
  },
  {
   "cell_type": "code",
   "execution_count": 10,
   "metadata": {},
   "outputs": [
    {
     "data": {
      "text/plain": [
       "array([([100.    0.2   0.4   0.6   0.8   1.    1.2   1.4   1.6   1.8   2. ], [5.  4.8 4.6 4.4 4.2 4.  3.8 3.6 3.4 3.2 3. ]),\n",
       "       ([-1.  -0.7 -0.4 -0.1  0.2  0.5  0.8  1.1  1.4  1.7  2. ], [5.  4.8 4.6 4.4 4.2 4.  3.8 3.6 3.4 3.2 3. ]),\n",
       "       ([5.  4.8 4.6 4.4 4.2 4.  3.8 3.6 3.4 3.2 3. ], [1.  1.1 1.2 1.3 1.4 1.5 1.6 1.7 1.8 1.9 2. ])],\n",
       "      dtype=object)"
      ]
     },
     "execution_count": 10,
     "metadata": {},
     "output_type": "execute_result"
    }
   ],
   "source": [
    "ofs.values"
   ]
  },
  {
   "cell_type": "code",
   "execution_count": 11,
   "metadata": {},
   "outputs": [
    {
     "name": "stdout",
     "output_type": "stream",
     "text": [
      "([100.    0.2   0.4   0.6   0.8   1.    1.2   1.4   1.6   1.8   2. ], [5.  4.8 4.6 4.4 4.2 4.  3.8 3.6 3.4 3.2 3. ])\n",
      "([-1.  -0.7 -0.4 -0.1  0.2  0.5  0.8  1.1  1.4  1.7  2. ], [5.  4.8 4.6 4.4 4.2 4.  3.8 3.6 3.4 3.2 3. ])\n",
      "([5.  4.8 4.6 4.4 4.2 4.  3.8 3.6 3.4 3.2 3. ], [1.  1.1 1.2 1.3 1.4 1.5 1.6 1.7 1.8 1.9 2. ])\n"
     ]
    }
   ],
   "source": [
    "for el in ofs:\n",
    "    print(el)"
   ]
  },
  {
   "cell_type": "code",
   "execution_count": 12,
   "metadata": {},
   "outputs": [
    {
     "data": {
      "image/png": "[encoded data removed]",
      "text/plain": [
       "<Figure size 432x288 with 1 Axes>"
      ]
     },
     "metadata": {},
     "output_type": "display_data"
    }
   ],
   "source": [
    "a = ofn.OFNumber.init_trapezoid_x0x1(1, 7, 5, 3)\n",
    "b = ofn.OFNumber.init_trapezoid_x0x1(-1, 2, 5, 3)\n",
    "c = ofn.OFNumber.init_trapezoid_x0x1(5, 3, 1, 2)\n",
    "ofs = ofm.OFSeries([a,b,c]) \n",
    "fig, ax = plt.subplots()\n",
    "ofs.plot_ofseries(ax)\n",
    "plt.show()"
   ]
  },
  {
   "cell_type": "code",
   "execution_count": 13,
   "metadata": {},
   "outputs": [
    {
     "data": {
      "image/png": "[encoded data removed]",
      "text/plain": [
       "<Figure size 432x288 with 1 Axes>"
      ]
     },
     "metadata": {},
     "output_type": "display_data"
    }
   ],
   "source": [
    "a = ofn.OFNumber.init_trapezoid_x0x1(1, 7, 5, 3)\n",
    "b = ofn.OFNumber.init_trapezoid_x0x1(-1, 2, 5, 3)\n",
    "c = ofn.OFNumber.init_trapezoid_x0x1(5, 3, 1, 2)\n",
    "ofs = ofm.OFSeries([a,b,c]) \n",
    "pofs = ofs.to_positive_order()\n",
    "fig, ax = plt.subplots()\n",
    "pofs.plot_ofseries(ax)\n",
    "plt.show()"
   ]
  },
  {
   "cell_type": "code",
   "execution_count": 14,
   "metadata": {},
   "outputs": [
    {
     "data": {
      "text/plain": [
       "array([array([[1. , 1.6, 2.2, 2.8, 3.4, 4. , 4.6, 5.2, 5.8, 6.4, 7. ],\n",
       "       [5. , 4.8, 4.6, 4.4, 4.2, 4. , 3.8, 3.6, 3.4, 3.2, 3. ]]),\n",
       "       array([[-1. , -0.7, -0.4, -0.1,  0.2,  0.5,  0.8,  1.1,  1.4,  1.7,  2. ],\n",
       "       [ 5. ,  4.8,  4.6,  4.4,  4.2,  4. ,  3.8,  3.6,  3.4,  3.2,  3. ]]),\n",
       "       array([[5. , 4.8, 4.6, 4.4, 4.2, 4. , 3.8, 3.6, 3.4, 3.2, 3. ],\n",
       "       [1. , 1.1, 1.2, 1.3, 1.4, 1.5, 1.6, 1.7, 1.8, 1.9, 2. ]])],\n",
       "      dtype=object)"
      ]
     },
     "execution_count": 14,
     "metadata": {},
     "output_type": "execute_result"
    }
   ],
   "source": [
    "ofs.to_array()"
   ]
  },
  {
   "cell_type": "code",
   "execution_count": 15,
   "metadata": {},
   "outputs": [
    {
     "data": {
      "text/plain": [
       "array([4.        , 2.18928571, 2.801     ])"
      ]
     },
     "execution_count": 15,
     "metadata": {},
     "output_type": "execute_result"
    }
   ],
   "source": [
    "ofs.defuzzy()"
   ]
  },
  {
   "cell_type": "code",
   "execution_count": 16,
   "metadata": {},
   "outputs": [
    {
     "data": {
      "text/plain": [
       "array([ 1,  1, -1])"
      ]
     },
     "execution_count": 16,
     "metadata": {},
     "output_type": "execute_result"
    }
   ],
   "source": [
    "ofs.order()"
   ]
  },
  {
   "cell_type": "code",
   "execution_count": 17,
   "metadata": {},
   "outputs": [
    {
     "data": {
      "text/plain": [
       "0.6666666666666666"
      ]
     },
     "execution_count": 17,
     "metadata": {},
     "output_type": "execute_result"
    }
   ],
   "source": [
    "ofs.order_probability()"
   ]
  },
  {
   "cell_type": "code",
   "execution_count": 18,
   "metadata": {},
   "outputs": [
    {
     "data": {
      "text/plain": [
       "3.0"
      ]
     },
     "execution_count": 18,
     "metadata": {},
     "output_type": "execute_result"
    }
   ],
   "source": [
    "ofs.mean_crisp()"
   ]
  },
  {
   "cell_type": "code",
   "execution_count": 19,
   "metadata": {},
   "outputs": [
    {
     "data": {
      "text/plain": [
       "([1.66666667 1.9        2.13333333 2.36666667 2.6        2.83333333\n",
       " 3.06666667 3.3        3.53333333 3.76666667 4.        ], [3.66666667 3.56666667 3.46666667 3.36666667 3.26666667 3.16666667\n",
       " 3.06666667 2.96666667 2.86666667 2.76666667 2.66666667])"
      ]
     },
     "execution_count": 19,
     "metadata": {},
     "output_type": "execute_result"
    }
   ],
   "source": [
    "ofs.mean_fuzzy()"
   ]
  },
  {
   "cell_type": "code",
   "execution_count": 20,
   "metadata": {},
   "outputs": [
    {
     "data": {
      "text/plain": [
       "0.8124999999999997"
      ]
     },
     "execution_count": 20,
     "metadata": {},
     "output_type": "execute_result"
    }
   ],
   "source": [
    "ofs.var_crisp()"
   ]
  },
  {
   "cell_type": "code",
   "execution_count": 21,
   "metadata": {},
   "outputs": [
    {
     "data": {
      "text/plain": [
       "([9.33333333 7.63       6.25333333 5.20333333 4.48       4.08333333\n",
       " 4.01333333 4.27       4.85333333 5.76333333 7.        ], [5.33333333 4.56333333 3.85333333 3.20333333 2.61333333 2.08333333\n",
       " 1.61333333 1.20333333 0.85333333 0.56333333 0.33333333])"
      ]
     },
     "execution_count": 21,
     "metadata": {},
     "output_type": "execute_result"
    }
   ],
   "source": [
    "ofs.var_fuzzy()"
   ]
  },
  {
   "cell_type": "code",
   "execution_count": 22,
   "metadata": {},
   "outputs": [
    {
     "data": {
      "image/png": "[encoded data removed]",
      "text/plain": [
       "<Figure size 432x288 with 1 Axes>"
      ]
     },
     "metadata": {},
     "output_type": "display_data"
    }
   ],
   "source": [
    "a = ofn.OFNumber.init_trapezoid_x0x1(1, 7, 5, 3)\n",
    "b = ofn.OFNumber.init_trapezoid_x0x1(1, 2, 5, 3)\n",
    "c = ofn.OFNumber.init_trapezoid_x0x1(5, 3, 1, 2)\n",
    "ofs = ofm.OFSeries([a,b,c]) \n",
    "fig, ax = plt.subplots()\n",
    "ofs.plot_ofseries(ax)\n",
    "plt.show()"
   ]
  },
  {
   "cell_type": "code",
   "execution_count": 23,
   "metadata": {},
   "outputs": [
    {
     "data": {
      "image/png": "[encoded data removed]",
      "text/plain": [
       "<Figure size 432x288 with 1 Axes>"
      ]
     },
     "metadata": {},
     "output_type": "display_data"
    }
   ],
   "source": [
    "ofs_diff = ofs.transform()\n",
    "fig, ax = plt.subplots()\n",
    "ofs_diff.plot_ofseries(ax)\n",
    "plt.show()"
   ]
  },
  {
   "cell_type": "code",
   "execution_count": 24,
   "metadata": {},
   "outputs": [
    {
     "data": {
      "image/png": "[encoded data removed]",
      "text/plain": [
       "<Figure size 432x288 with 1 Axes>"
      ]
     },
     "metadata": {},
     "output_type": "display_data"
    }
   ],
   "source": [
    "ofs_ret = ofs.transform(method='ret')\n",
    "fig, ax = plt.subplots()\n",
    "ofs_ret.plot_ofseries(ax)\n",
    "plt.show()"
   ]
  },
  {
   "cell_type": "code",
   "execution_count": 25,
   "metadata": {},
   "outputs": [
    {
     "data": {
      "image/png": "[encoded data removed]",
      "text/plain": [
       "<Figure size 432x288 with 1 Axes>"
      ]
     },
     "metadata": {},
     "output_type": "display_data"
    }
   ],
   "source": [
    "ofs_logret = ofs.transform(method='logret')\n",
    "fig, ax = plt.subplots()\n",
    "ofs_logret.plot_ofseries(ax)\n",
    "plt.show()"
   ]
  },
  {
   "cell_type": "code",
   "execution_count": 26,
   "metadata": {},
   "outputs": [
    {
     "data": {
      "image/png": "[encoded data removed]",
      "text/plain": [
       "<Figure size 432x288 with 2 Axes>"
      ]
     },
     "metadata": {},
     "output_type": "display_data"
    }
   ],
   "source": [
    "fig, (axf, axg) = plt.subplots(1, 2)\n",
    "ofs.plot_histogram(axf, axg, 0.5)\n",
    "plt.show()"
   ]
  },
  {
   "cell_type": "code",
   "execution_count": null,
   "metadata": {},
   "outputs": [],
   "source": []
  }
 ],
 "metadata": {
  "kernelspec": {
   "display_name": "Python 3",
   "language": "python",
   "name": "python3"
  },
  "language_info": {
   "codemirror_mode": {
    "name": "ipython",
    "version": 3
   },
   "file_extension": ".py",
   "mimetype": "text/x-python",
   "name": "python",
   "nbconvert_exporter": "python",
   "pygments_lexer": "ipython3",
   "version": "3.7.0"
  }
 },
 "nbformat": 4,
 "nbformat_minor": 2
}
