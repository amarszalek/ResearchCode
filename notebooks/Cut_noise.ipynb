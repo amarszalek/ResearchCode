{
 "cells": [
  {
   "cell_type": "code",
   "execution_count": 1,
   "metadata": {
    "collapsed": true
   },
   "outputs": [],
   "source": [
    "import os\n",
    "import numpy as np\n",
    "import pandas as pd\n",
    "import matplotlib.pyplot as plt\n",
    "from scipy.io import wavfile\n",
    "from scipy import signal\n",
    "from scipy import stats\n",
    "from pyorderedfuzzy.ofcandles import ofcandle\n",
    "from pyorderedfuzzy.ofnumbers import ofnumber\n",
    "import prepare_data as prep\n",
    "import pickle\n",
    "%matplotlib tk"
   ]
  },
  {
   "cell_type": "code",
   "execution_count": 2,
   "metadata": {},
   "outputs": [
    {
     "name": "stdout",
     "output_type": "stream",
     "text": [
      "(22789, 159, 102)\n",
      "(22789, 12)\n",
      "(5693, 159, 102)\n",
      "(5693, 12)\n"
     ]
    }
   ],
   "source": [
    "# load test\n",
    "t_data, t_labels, v_data, v_labels = pickle.load(open('../data/train_val_data2.pkl', 'rb'))\n",
    "print(t_data.shape)\n",
    "print(t_labels.shape)\n",
    "print(v_data.shape)\n",
    "print(v_labels.shape)"
   ]
  },
  {
   "cell_type": "code",
   "execution_count": 53,
   "metadata": {},
   "outputs": [],
   "source": [
    "def field(arr):\n",
    "    dim2 = len(arr)\n",
    "    dim = int(dim2/2)\n",
    "    dx = 1.0/(dim-1)\n",
    "    f = arr[:dim]\n",
    "    g = arr[dim:]\n",
    "    r = np.abs(f-g)\n",
    "    p = 0.5*(abs(f[0]-g[0])+abs(f[-1]-g[-1]))\n",
    "    p += np.sum(r[1:-1])\n",
    "    return p*dx\n",
    "\n",
    "def sobel(arr):\n",
    "    temp = np.array([1,0,-1])\n",
    "    res = np.zeros(len(arr))\n",
    "    res[0]=arr[0]-arr[1]\n",
    "    res[-1]=arr[-2]-arr[-1]\n",
    "    for i in range(1,len(arr)-1):\n",
    "        res[i] = np.sum(arr[i-1:i+2]*temp)\n",
    "    return res\n",
    "\n",
    "def diff(arr):\n",
    "    res = np.zeros(len(arr))\n",
    "    for i in range(1,len(arr)):\n",
    "        res[i] = arr[i]-arr[i-1]\n",
    "    return res\n",
    "\n",
    "def get_start(arr, level):\n",
    "    return np.argwhere(arr>level)[0][0]\n",
    "\n",
    "def get_end(arr, level):\n",
    "    return np.argwhere(arr>level)[-1][0]"
   ]
  },
  {
   "cell_type": "code",
   "execution_count": 1,
   "metadata": {},
   "outputs": [
    {
     "ename": "NameError",
     "evalue": "name 'np' is not defined",
     "output_type": "error",
     "traceback": [
      "\u001b[0;31m---------------------------------------------------------------------------\u001b[0m",
      "\u001b[0;31mNameError\u001b[0m                                 Traceback (most recent call last)",
      "\u001b[0;32m<ipython-input-1-301f5854b901>\u001b[0m in \u001b[0;36m<module>\u001b[0;34m()\u001b[0m\n\u001b[0;32m----> 1\u001b[0;31m \u001b[0mie\u001b[0m \u001b[0;34m=\u001b[0m \u001b[0mnp\u001b[0m\u001b[0;34m.\u001b[0m\u001b[0mrandom\u001b[0m\u001b[0;34m.\u001b[0m\u001b[0mrandint\u001b[0m\u001b[0;34m(\u001b[0m\u001b[0;36m0\u001b[0m\u001b[0;34m,\u001b[0m\u001b[0mlen\u001b[0m\u001b[0;34m(\u001b[0m\u001b[0mt_data\u001b[0m\u001b[0;34m)\u001b[0m\u001b[0;34m)\u001b[0m\u001b[0;34m\u001b[0m\u001b[0m\n\u001b[0m\u001b[1;32m      2\u001b[0m \u001b[0mexample\u001b[0m \u001b[0;34m=\u001b[0m \u001b[0mt_data\u001b[0m\u001b[0;34m[\u001b[0m\u001b[0mie\u001b[0m\u001b[0;34m]\u001b[0m\u001b[0;34m\u001b[0m\u001b[0m\n\u001b[1;32m      3\u001b[0m \u001b[0mf\u001b[0m \u001b[0;34m=\u001b[0m \u001b[0mnp\u001b[0m\u001b[0;34m.\u001b[0m\u001b[0mapply_along_axis\u001b[0m\u001b[0;34m(\u001b[0m\u001b[0mfunc1d\u001b[0m\u001b[0;34m=\u001b[0m\u001b[0mfield\u001b[0m\u001b[0;34m,\u001b[0m \u001b[0marr\u001b[0m\u001b[0;34m=\u001b[0m\u001b[0mexample\u001b[0m\u001b[0;34m,\u001b[0m \u001b[0maxis\u001b[0m\u001b[0;34m=\u001b[0m\u001b[0;36m1\u001b[0m\u001b[0;34m)\u001b[0m\u001b[0;34m\u001b[0m\u001b[0m\n\u001b[1;32m      4\u001b[0m \u001b[0mpoch1\u001b[0m \u001b[0;34m=\u001b[0m \u001b[0mdiff\u001b[0m\u001b[0;34m(\u001b[0m\u001b[0mf\u001b[0m\u001b[0;34m)\u001b[0m\u001b[0;34m\u001b[0m\u001b[0m\n\u001b[1;32m      5\u001b[0m \u001b[0mpoch2\u001b[0m \u001b[0;34m=\u001b[0m \u001b[0mdiff\u001b[0m\u001b[0;34m(\u001b[0m\u001b[0mf\u001b[0m\u001b[0;34m[\u001b[0m\u001b[0;34m:\u001b[0m\u001b[0;34m:\u001b[0m\u001b[0;34m-\u001b[0m\u001b[0;36m1\u001b[0m\u001b[0;34m]\u001b[0m\u001b[0;34m)\u001b[0m\u001b[0;34m\u001b[0m\u001b[0m\n",
      "\u001b[0;31mNameError\u001b[0m: name 'np' is not defined"
     ]
    }
   ],
   "source": [
    "ie = np.random.randint(0,len(t_data))\n",
    "example = t_data[ie]\n",
    "f = np.apply_along_axis(func1d=field, arr=example, axis=1)\n",
    "poch1 = diff(f)\n",
    "poch2 = diff(f[::-1])\n",
    "first = get_start(poch1, 0.5*max(poch1))\n",
    "last = get_end(poch2[::-1], 0.3*max(poch2))\n",
    "\n",
    "fig = plt.figure()\n",
    "ax1 = fig.add_subplot(111)\n",
    "ax1.plot(f)\n",
    "ax1.plot(poch1)\n",
    "ax1.plot(poch2[::-1])\n",
    "ax1.axhline(max(poch1), c='k')\n",
    "ax1.axhline(max(poch2), c='k')\n",
    "ax1.axvline(first-3)\n",
    "ax1.axvline(last+3)\n",
    "plt.show()"
   ]
  },
  {
   "cell_type": "code",
   "execution_count": 36,
   "metadata": {},
   "outputs": [
    {
     "data": {
      "text/plain": [
       "array([[2],\n",
       "       [3],\n",
       "       [4]])"
      ]
     },
     "execution_count": 36,
     "metadata": {},
     "output_type": "execute_result"
    }
   ],
   "source": [
    "a = np.array([1,2,3,3,4])\n",
    "np.argwhere(a>2)"
   ]
  },
  {
   "cell_type": "code",
   "execution_count": null,
   "metadata": {
    "collapsed": true
   },
   "outputs": [],
   "source": []
  }
 ],
 "metadata": {
  "kernelspec": {
   "display_name": "Python 3",
   "language": "python",
   "name": "python3"
  },
  "language_info": {
   "codemirror_mode": {
    "name": "ipython",
    "version": 3
   },
   "file_extension": ".py",
   "mimetype": "text/x-python",
   "name": "python",
   "nbconvert_exporter": "python",
   "pygments_lexer": "ipython3",
   "version": "3.6.1"
  }
 },
 "nbformat": 4,
 "nbformat_minor": 2
}
