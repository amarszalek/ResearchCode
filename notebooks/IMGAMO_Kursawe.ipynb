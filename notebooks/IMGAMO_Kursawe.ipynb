{
 "cells": [
  {
   "cell_type": "code",
   "execution_count": 1,
   "metadata": {},
   "outputs": [],
   "source": [
    "import sys\n",
    "sys.path.append('../pyorderedfuzzy')\n",
    "sys.path.append('../pyimgamo')"
   ]
  },
  {
   "cell_type": "code",
   "execution_count": 2,
   "metadata": {},
   "outputs": [],
   "source": [
    "import imgamo\n",
    "from problems import Kursawe\n",
    "from players import ClonalSelection\n",
    "from operators import hiper_mutate\n",
    "%matplotlib inline\n",
    "import matplotlib.pyplot as plt"
   ]
  },
  {
   "cell_type": "code",
   "execution_count": 3,
   "metadata": {},
   "outputs": [],
   "source": [
    "nvars = 3\n",
    "nobjs = 2\n",
    "bounds = ((-5.0, 5.0),) * nvars"
   ]
  },
  {
   "cell_type": "code",
   "execution_count": 4,
   "metadata": {},
   "outputs": [],
   "source": [
    "problem = Kursawe(nvars=nvars, nobjs=nobjs, bounds=bounds, need_repair=False)"
   ]
  },
  {
   "cell_type": "code",
   "execution_count": 5,
   "metadata": {},
   "outputs": [],
   "source": [
    "players = [ClonalSelection(i, nclone=15, supp_level=0, mutate=hiper_mutate, mutate_args=(0.45, 0.9, 0.1))\n",
    "           for i in range(nobjs)]"
   ]
  },
  {
   "cell_type": "code",
   "execution_count": 6,
   "metadata": {},
   "outputs": [],
   "source": [
    "options = imgamo.Options(population_size=25, max_evaluations=-1, max_iterations=1000, exchange_iter=3, change_iter=3,\n",
    "                         front_max=200, seed=None, verbose=100)"
   ]
  },
  {
   "cell_type": "code",
   "execution_count": 7,
   "metadata": {},
   "outputs": [],
   "source": [
    "solver = imgamo.IMGAMO(problem, players, options)"
   ]
  },
  {
   "cell_type": "code",
   "execution_count": 8,
   "metadata": {},
   "outputs": [
    {
     "name": "stdout",
     "output_type": "stream",
     "text": [
      "Iteration:  100\n",
      "Evaluation count:  [21236. 21236.]\n",
      "Front size:  182\n",
      "Elapsed time: 0.223052307\n",
      "\n",
      "Iteration:  200\n",
      "Evaluation count:  [42750. 42750.]\n",
      "Front size:  200\n",
      "Elapsed time: 0.7637189459999999\n",
      "\n",
      "Iteration:  300\n",
      "Evaluation count:  [64460. 64460.]\n",
      "Front size:  200\n",
      "Elapsed time: 1.4565623100000002\n",
      "\n",
      "Iteration:  400\n",
      "Evaluation count:  [85662. 85662.]\n",
      "Front size:  200\n",
      "Elapsed time: 1.9499055220000003\n",
      "\n",
      "Iteration:  500\n",
      "Evaluation count:  [106402. 106402.]\n",
      "Front size:  200\n",
      "Elapsed time: 2.608126625\n",
      "\n",
      "Iteration:  600\n",
      "Evaluation count:  [127692. 127692.]\n",
      "Front size:  200\n",
      "Elapsed time: 3.2708843260000005\n",
      "\n",
      "Iteration:  700\n",
      "Evaluation count:  [149132. 149132.]\n",
      "Front size:  200\n",
      "Elapsed time: 4.045807019\n",
      "\n",
      "Iteration:  800\n",
      "Evaluation count:  [170200. 170200.]\n",
      "Front size:  200\n",
      "Elapsed time: 4.83517142\n",
      "\n",
      "Iteration:  900\n",
      "Evaluation count:  [191386. 191386.]\n",
      "Front size:  200\n",
      "Elapsed time: 5.432517545\n",
      "\n",
      "Iteration:  1000\n",
      "Evaluation count:  [212426. 212426.]\n",
      "Front size:  200\n",
      "Elapsed time: 6.09534828\n",
      "\n",
      "Iteration:  1000\n",
      "Evaluation count:  [212426. 212426.]\n",
      "Front size:  200\n",
      "Elapsed time: 6.095936747\n"
     ]
    }
   ],
   "source": [
    "solver.run_algorithm()"
   ]
  },
  {
   "cell_type": "code",
   "execution_count": 9,
   "metadata": {},
   "outputs": [
    {
     "name": "stdout",
     "output_type": "stream",
     "text": [
      "Iterations:  1000\n",
      "Evaluation count:  [212426. 212426.]\n",
      "Evaluation count per iteration:  [212.426 212.426]\n",
      "Front size:  200\n",
      "Time: 6.116834993\n",
      "Time per iteration: 0.006116834993000001\n"
     ]
    }
   ],
   "source": [
    "solver.result.summary()"
   ]
  },
  {
   "cell_type": "code",
   "execution_count": 10,
   "metadata": {},
   "outputs": [
    {
     "data": {
      "image/png": "[encoded data removed]",
      "text/plain": [
       "<Figure size 432x288 with 1 Axes>"
      ]
     },
     "metadata": {},
     "output_type": "display_data"
    }
   ],
   "source": [
    "fig, ax = plt.subplots()\n",
    "solver.result.plot_2d(ax, 0, 1)\n",
    "plt.show()"
   ]
  }
 ],
 "metadata": {
  "kernelspec": {
   "display_name": "Python 3",
   "language": "python",
   "name": "python3"
  },
  "language_info": {
   "codemirror_mode": {
    "name": "ipython",
    "version": 3
   },
   "file_extension": ".py",
   "mimetype": "text/x-python",
   "name": "python",
   "nbconvert_exporter": "python",
   "pygments_lexer": "ipython3",
   "version": "3.6.5"
  }
 },
 "nbformat": 4,
 "nbformat_minor": 2
}
