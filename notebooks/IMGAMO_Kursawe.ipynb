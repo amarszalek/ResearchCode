{
 "cells": [
  {
   "cell_type": "code",
   "execution_count": 1,
   "metadata": {},
   "outputs": [],
   "source": [
    "import sys\n",
    "sys.path.append('../pyorderedfuzzy')\n",
    "sys.path.append('../pyimgamo')"
   ]
  },
  {
   "cell_type": "code",
   "execution_count": 2,
   "metadata": {},
   "outputs": [],
   "source": [
    "import imgamo\n",
    "from problems import Kursawe\n",
    "from players import ClonalSelection\n",
    "from operators import hiper_mutate\n",
    "%matplotlib inline\n",
    "import matplotlib.pyplot as plt"
   ]
  },
  {
   "cell_type": "code",
   "execution_count": 3,
   "metadata": {},
   "outputs": [],
   "source": [
    "nvars = 3\n",
    "nobjs = 2\n",
    "bounds = ((-5.0, 5.0),) * nvars"
   ]
  },
  {
   "cell_type": "code",
   "execution_count": 4,
   "metadata": {},
   "outputs": [],
   "source": [
    "problem = Kursawe(nvars=nvars, nobjs=nobjs, bounds=bounds, need_repair=False)"
   ]
  },
  {
   "cell_type": "code",
   "execution_count": 5,
   "metadata": {},
   "outputs": [],
   "source": [
    "players = [ClonalSelection(i, nclone=15, supp_level=0, mutate=hiper_mutate, mutate_args=(0.45, 0.9, 0.1))\n",
    "           for i in range(nobjs)]"
   ]
  },
  {
   "cell_type": "code",
   "execution_count": 6,
   "metadata": {},
   "outputs": [],
   "source": [
    "options = imgamo.Options(population_size=25, max_evaluations=-1, max_iterations=1000, exchange_iter=3, change_iter=3,\n",
    "                         front_max=200, seed=None, verbose=100)"
   ]
  },
  {
   "cell_type": "code",
   "execution_count": 7,
   "metadata": {},
   "outputs": [],
   "source": [
    "solver = imgamo.IMGAMO(problem, players, options)"
   ]
  },
  {
   "cell_type": "code",
   "execution_count": 8,
   "metadata": {},
   "outputs": [
    {
     "name": "stdout",
     "output_type": "stream",
     "text": [
      "Iteration:  100\n",
      "Evaluation count:  [21754. 21754.]\n",
      "Front size:  183\n",
      "Elapsed time: 0.3321326769999997\n",
      "\n",
      "Iteration:  200\n",
      "Evaluation count:  [42890. 42890.]\n",
      "Front size:  200\n",
      "Elapsed time: 1.2262953639999994\n",
      "\n",
      "Iteration:  300\n",
      "Evaluation count:  [64666. 64666.]\n",
      "Front size:  200\n",
      "Elapsed time: 1.9878844399999993\n",
      "\n",
      "Iteration:  400\n",
      "Evaluation count:  [86076. 86076.]\n",
      "Front size:  198\n",
      "Elapsed time: 2.770349111\n",
      "\n",
      "Iteration:  500\n",
      "Evaluation count:  [107076. 107076.]\n",
      "Front size:  200\n",
      "Elapsed time: 3.697154758\n",
      "\n",
      "Iteration:  600\n",
      "Evaluation count:  [128728. 128728.]\n",
      "Front size:  200\n",
      "Elapsed time: 4.320128351999999\n",
      "\n",
      "Iteration:  700\n",
      "Evaluation count:  [149900. 149900.]\n",
      "Front size:  200\n",
      "Elapsed time: 5.246962197\n",
      "\n",
      "Iteration:  800\n",
      "Evaluation count:  [171448. 171448.]\n",
      "Front size:  200\n",
      "Elapsed time: 5.995703893\n",
      "\n",
      "Iteration:  900\n",
      "Evaluation count:  [192934. 192934.]\n",
      "Front size:  200\n",
      "Elapsed time: 6.746776815999999\n",
      "\n",
      "Iteration:  1000\n",
      "Evaluation count:  [214402. 214402.]\n",
      "Front size:  200\n",
      "Elapsed time: 7.584344038999999\n",
      "\n",
      "Iteration:  1000\n",
      "Evaluation count:  [214402. 214402.]\n",
      "Front size:  200\n",
      "Elapsed time: 7.585574125999999\n"
     ]
    }
   ],
   "source": [
    "solver.run_algorithm()"
   ]
  },
  {
   "cell_type": "code",
   "execution_count": 9,
   "metadata": {},
   "outputs": [
    {
     "name": "stdout",
     "output_type": "stream",
     "text": [
      "Iterations:  1000\n",
      "Evaluation count:  [214402. 214402.]\n",
      "Evaluation count per iteration:  [214.402 214.402]\n",
      "Front size:  200\n",
      "Time: 7.617938885\n",
      "Time per iteration: 0.007617938885\n"
     ]
    }
   ],
   "source": [
    "solver.result.summary()"
   ]
  },
  {
   "cell_type": "code",
   "execution_count": 10,
   "metadata": {},
   "outputs": [
    {
     "data": {
      "image/png": "[encoded data removed]",
      "text/plain": [
       "<Figure size 432x288 with 1 Axes>"
      ]
     },
     "metadata": {
      "needs_background": "light"
     },
     "output_type": "display_data"
    }
   ],
   "source": [
    "fig, ax = plt.subplots()\n",
    "solver.result.plot_2d(ax, 0, 1)\n",
    "plt.show()"
   ]
  },
  {
   "cell_type": "code",
   "execution_count": null,
   "metadata": {},
   "outputs": [],
   "source": []
  }
 ],
 "metadata": {
  "kernelspec": {
   "display_name": "Python (intel36)",
   "language": "python",
   "name": "intel36"
  },
  "language_info": {
   "codemirror_mode": {
    "name": "ipython",
    "version": 3
   },
   "file_extension": ".py",
   "mimetype": "text/x-python",
   "name": "python",
   "nbconvert_exporter": "python",
   "pygments_lexer": "ipython3",
   "version": "3.6.8"
  }
 },
 "nbformat": 4,
 "nbformat_minor": 2
}
