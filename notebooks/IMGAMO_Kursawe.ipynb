{
 "cells": [
  {
   "cell_type": "code",
   "execution_count": 1,
   "metadata": {},
   "outputs": [],
   "source": [
    "import sys\n",
    "sys.path.append('../pyorderedfuzzy')\n",
    "sys.path.append('../pyimgamo')"
   ]
  },
  {
   "cell_type": "code",
   "execution_count": 2,
   "metadata": {},
   "outputs": [],
   "source": [
    "import numpy as np\n",
    "import imgamo\n",
    "import problems\n",
    "from problems import Kursawe\n",
    "from players import ClonalSelection, SimulatedAnnealing, SimpleGeneticAlg, Player\n",
    "from operators import hiper_mutate\n",
    "%matplotlib inline\n",
    "import matplotlib.pyplot as plt"
   ]
  },
  {
   "cell_type": "code",
   "execution_count": 3,
   "metadata": {},
   "outputs": [],
   "source": [
    "nvars = 3\n",
    "nobjs = 2\n",
    "bounds = ((-5.0, 5.0),) * nvars"
   ]
  },
  {
   "cell_type": "code",
   "execution_count": 4,
   "metadata": {},
   "outputs": [],
   "source": [
    "problem = Kursawe(nvars=nvars, nobjs=nobjs, bounds=bounds, need_repair=False)"
   ]
  },
  {
   "cell_type": "code",
   "execution_count": 5,
   "metadata": {},
   "outputs": [],
   "source": [
    "solutions = np.random.random(size=(100000, 3))"
   ]
  },
  {
   "cell_type": "code",
   "execution_count": 6,
   "metadata": {},
   "outputs": [
    {
     "data": {
      "text/plain": [
       "array([[-17.29243181,   4.46823332],\n",
       "       [-17.3738163 ,   4.51014002],\n",
       "       [-17.1701264 ,   6.31799287],\n",
       "       ...,\n",
       "       [-16.24918207,   7.34119034],\n",
       "       [-16.15310959,   6.93106593],\n",
       "       [-15.40075299,  13.25526678]])"
      ]
     },
     "execution_count": 6,
     "metadata": {},
     "output_type": "execute_result"
    }
   ],
   "source": [
    "problem.evaluate_all(solutions)"
   ]
  },
  {
   "cell_type": "code",
   "execution_count": 9,
   "metadata": {},
   "outputs": [
    {
     "name": "stdout",
     "output_type": "stream",
     "text": [
      "5.11 ms ± 69.9 µs per loop (mean ± std. dev. of 7 runs, 100 loops each)\n"
     ]
    }
   ],
   "source": [
    "%%timeit\n",
    "problem.evaluate_one(solutions, 0)"
   ]
  },
  {
   "cell_type": "code",
   "execution_count": 10,
   "metadata": {},
   "outputs": [
    {
     "name": "stdout",
     "output_type": "stream",
     "text": [
      "6.14 ms ± 65.3 µs per loop (mean ± std. dev. of 7 runs, 100 loops each)\n"
     ]
    }
   ],
   "source": [
    "%%timeit\n",
    "problem.evaluate_one_c(solutions, 0)"
   ]
  },
  {
   "cell_type": "code",
   "execution_count": 11,
   "metadata": {},
   "outputs": [],
   "source": [
    "from numba import cfunc, types, carray\n",
    "import ctypes"
   ]
  },
  {
   "cell_type": "code",
   "execution_count": 12,
   "metadata": {},
   "outputs": [],
   "source": [
    "c_sig = types.void(types.CPointer(types.double), types.CPointer(types.double), types.intc, types.intc, types.intc)\n",
    "\n",
    "@cfunc(c_sig)\n",
    "def _evaluate_one(in_, out, n, m, i):\n",
    "    solutions = carray(in_, (n, m))\n",
    "    out_array = carray(out, (n,))\n",
    "    if i == 0:\n",
    "        out_array[:] = np.sum(-10.0 * np.exp(-0.2 * np.sqrt(solutions[:, :-1] ** 2 + solutions[:, 1:] ** 2)), axis=1)[:]\n",
    "    if i == 1:\n",
    "        out_array[:] = np.sum(np.abs(solutions) ** 0.8 + 5.0 * np.sin(solutions ** 3), axis=1)[:]"
   ]
  },
  {
   "cell_type": "code",
   "execution_count": 13,
   "metadata": {},
   "outputs": [],
   "source": [
    "_evaluate_one.compile()"
   ]
  },
  {
   "cell_type": "code",
   "execution_count": 14,
   "metadata": {},
   "outputs": [
    {
     "name": "stdout",
     "output_type": "stream",
     "text": [
      "6.16 ms ± 80 µs per loop (mean ± std. dev. of 7 runs, 100 loops each)\n"
     ]
    }
   ],
   "source": [
    "%%timeit\n",
    "n, m = solutions.shape\n",
    "evaluated = np.zeros(n)\n",
    "doublep = ctypes.POINTER(ctypes.c_double)\n",
    "addr_in = solutions.ctypes.data\n",
    "addr_out = evaluated.ctypes.data\n",
    "ptr_in = ctypes.cast(addr_in, doublep)\n",
    "ptr_out = ctypes.cast(addr_out, doublep)\n",
    "\n",
    "_evaluate_one.ctypes(ptr_in, ptr_out, n, m, 0)"
   ]
  },
  {
   "cell_type": "code",
   "execution_count": null,
   "metadata": {},
   "outputs": [],
   "source": []
  },
  {
   "cell_type": "code",
   "execution_count": 5,
   "metadata": {},
   "outputs": [],
   "source": [
    "players = [ClonalSelection(i, nclone=15, supp_level=0, mutate=hiper_mutate, mutate_args=(0.45, 0.9, 0.1))\n",
    "           for i in range(nobjs)]"
   ]
  },
  {
   "cell_type": "code",
   "execution_count": 6,
   "metadata": {},
   "outputs": [],
   "source": [
    "options = imgamo.Options(population_size=25, max_evaluations=-1, max_iterations=1000, exchange_iter=3, change_iter=3,\n",
    "                         front_max=200, seed=None, verbose=100)"
   ]
  },
  {
   "cell_type": "code",
   "execution_count": 7,
   "metadata": {},
   "outputs": [],
   "source": [
    "solver = imgamo.IMGAMO(problem, players, options)"
   ]
  },
  {
   "cell_type": "code",
   "execution_count": 8,
   "metadata": {},
   "outputs": [
    {
     "name": "stdout",
     "output_type": "stream",
     "text": [
      "Iteration:  100\n",
      "Evaluation count:  [21610. 21610.]\n",
      "Front size:  184\n",
      "Elapsed time: 0.43673648399999987\n",
      "\n",
      "Iteration:  200\n",
      "Evaluation count:  [43028. 43028.]\n",
      "Front size:  200\n",
      "Elapsed time: 0.9447486330000001\n",
      "\n",
      "Iteration:  300\n",
      "Evaluation count:  [64364. 64364.]\n",
      "Front size:  200\n",
      "Elapsed time: 1.8424981870000003\n",
      "\n",
      "Iteration:  400\n",
      "Evaluation count:  [85748. 85748.]\n",
      "Front size:  200\n",
      "Elapsed time: 2.5276439039999996\n",
      "\n",
      "Iteration:  500\n",
      "Evaluation count:  [107216. 107216.]\n",
      "Front size:  200\n",
      "Elapsed time: 3.1972438810000003\n",
      "\n",
      "Iteration:  600\n",
      "Evaluation count:  [128416. 128416.]\n",
      "Front size:  200\n",
      "Elapsed time: 3.959944801\n",
      "\n",
      "Iteration:  700\n",
      "Evaluation count:  [150266. 150266.]\n",
      "Front size:  199\n",
      "Elapsed time: 4.540476233\n",
      "\n",
      "Iteration:  800\n",
      "Evaluation count:  [171618. 171618.]\n",
      "Front size:  200\n",
      "Elapsed time: 5.336284963\n",
      "\n",
      "Iteration:  900\n",
      "Evaluation count:  [193016. 193016.]\n",
      "Front size:  200\n",
      "Elapsed time: 6.228474702\n",
      "\n",
      "Iteration:  1000\n",
      "Evaluation count:  [214504. 214504.]\n",
      "Front size:  200\n",
      "Elapsed time: 6.955754557000001\n",
      "\n",
      "Iteration:  1000\n",
      "Evaluation count:  [214504. 214504.]\n",
      "Front size:  200\n",
      "Elapsed time: 6.956313893999999\n"
     ]
    }
   ],
   "source": [
    "solver.run_algorithm()"
   ]
  },
  {
   "cell_type": "code",
   "execution_count": 9,
   "metadata": {},
   "outputs": [
    {
     "name": "stdout",
     "output_type": "stream",
     "text": [
      "Iterations:  1000\n",
      "Evaluation count:  [214504. 214504.]\n",
      "Evaluation count per iteration:  [214.504 214.504]\n",
      "Front size:  200\n",
      "Time: 6.977296460999999\n",
      "Time per iteration: 0.006977296460999999\n"
     ]
    }
   ],
   "source": [
    "solver.result.summary()"
   ]
  },
  {
   "cell_type": "code",
   "execution_count": 10,
   "metadata": {},
   "outputs": [
    {
     "data": {
      "text/plain": [
       "array([155552., 155552.])"
      ]
     },
     "execution_count": 10,
     "metadata": {},
     "output_type": "execute_result"
    }
   ],
   "source": [
    "problem.evaluation_count"
   ]
  },
  {
   "cell_type": "code",
   "execution_count": 10,
   "metadata": {},
   "outputs": [
    {
     "data": {
      "image/png": "[encoded data removed]",
      "text/plain": [
       "<Figure size 432x288 with 1 Axes>"
      ]
     },
     "metadata": {
      "needs_background": "light"
     },
     "output_type": "display_data"
    }
   ],
   "source": [
    "fig, ax = plt.subplots()\n",
    "solver.result.plot_2d(ax, 0, 1)\n",
    "plt.show()"
   ]
  },
  {
   "cell_type": "code",
   "execution_count": 5,
   "metadata": {},
   "outputs": [
    {
     "data": {
      "text/plain": [
       "0.9960956189881034"
      ]
     },
     "execution_count": 5,
     "metadata": {},
     "output_type": "execute_result"
    }
   ],
   "source": [
    "np.power(0.1/5, 1/1000)"
   ]
  },
  {
   "cell_type": "code",
   "execution_count": 6,
   "metadata": {},
   "outputs": [],
   "source": [
    "players = [SimulatedAnnealing(i, temp=5, dec_step=0.996, mutate=hiper_mutate, mutate_args=(0.45, 0.9, 0.1))\n",
    "           for i in range(nobjs)]\n",
    "options = imgamo.Options(population_size=25, max_evaluations=-1, max_iterations=1000, exchange_iter=3, change_iter=3,\n",
    "                         front_max=200, seed=None, verbose=100)"
   ]
  },
  {
   "cell_type": "code",
   "execution_count": 7,
   "metadata": {},
   "outputs": [],
   "source": [
    "solver = imgamo.IMGAMO(problem, players, options)"
   ]
  },
  {
   "cell_type": "code",
   "execution_count": 8,
   "metadata": {},
   "outputs": [
    {
     "name": "stdout",
     "output_type": "stream",
     "text": [
      "Iteration:  100\n",
      "Evaluation count:  [10900. 10900.]\n",
      "Front size:  20\n",
      "Elapsed time: 0.1605627169999999\n",
      "\n",
      "Iteration:  200\n",
      "Evaluation count:  [21700. 21700.]\n",
      "Front size:  25\n",
      "Elapsed time: 0.31399946300000003\n",
      "\n",
      "Iteration:  300\n",
      "Evaluation count:  [32600. 32600.]\n",
      "Front size:  34\n",
      "Elapsed time: 0.456646632\n",
      "\n",
      "Iteration:  400\n",
      "Evaluation count:  [43400. 43400.]\n",
      "Front size:  44\n",
      "Elapsed time: 0.6067927449999999\n",
      "\n",
      "Iteration:  500\n",
      "Evaluation count:  [54200. 54200.]\n",
      "Front size:  44\n",
      "Elapsed time: 0.7723475900000003\n",
      "\n",
      "Iteration:  600\n",
      "Evaluation count:  [65100. 65100.]\n",
      "Front size:  48\n",
      "Elapsed time: 0.9185818070000002\n",
      "\n",
      "Iteration:  700\n",
      "Evaluation count:  [75900. 75900.]\n",
      "Front size:  51\n",
      "Elapsed time: 1.0631732570000003\n",
      "\n",
      "Iteration:  800\n",
      "Evaluation count:  [86700. 86700.]\n",
      "Front size:  54\n",
      "Elapsed time: 1.2122463840000002\n",
      "\n",
      "Iteration:  900\n",
      "Evaluation count:  [97600. 97600.]\n",
      "Front size:  55\n",
      "Elapsed time: 1.3750850519999998\n",
      "\n",
      "Iteration:  1000\n",
      "Evaluation count:  [108400. 108400.]\n",
      "Front size:  58\n",
      "Elapsed time: 1.5296179520000002\n",
      "\n",
      "Iteration:  1000\n",
      "Evaluation count:  [108400. 108400.]\n",
      "Front size:  58\n",
      "Elapsed time: 1.530161459\n"
     ]
    }
   ],
   "source": [
    "solver.run_algorithm()"
   ]
  },
  {
   "cell_type": "code",
   "execution_count": 9,
   "metadata": {},
   "outputs": [
    {
     "name": "stdout",
     "output_type": "stream",
     "text": [
      "Iterations:  1000\n",
      "Evaluation count:  [108400. 108400.]\n",
      "Evaluation count per iteration:  [108.4 108.4]\n",
      "Front size:  58\n",
      "Time: 1.5522712360000002\n",
      "Time per iteration: 0.0015522712360000002\n"
     ]
    }
   ],
   "source": [
    "solver.result.summary()"
   ]
  },
  {
   "cell_type": "code",
   "execution_count": 10,
   "metadata": {},
   "outputs": [
    {
     "data": {
      "image/png": "[encoded data removed]",
      "text/plain": [
       "<Figure size 432x288 with 1 Axes>"
      ]
     },
     "metadata": {
      "needs_background": "light"
     },
     "output_type": "display_data"
    }
   ],
   "source": [
    "fig, ax = plt.subplots()\n",
    "solver.result.plot_2d(ax, 0, 1)\n",
    "plt.show()"
   ]
  },
  {
   "cell_type": "code",
   "execution_count": 5,
   "metadata": {},
   "outputs": [],
   "source": [
    "players = [SimpleGeneticAlg(i, pc=0.7, pm=0.05, dx=0.001) for i in range(nobjs)]\n",
    "options = imgamo.Options(population_size=25, max_evaluations=-1, max_iterations=3000, exchange_iter=3, change_iter=3,\n",
    "                         front_max=200, seed=None, verbose=100)"
   ]
  },
  {
   "cell_type": "code",
   "execution_count": 6,
   "metadata": {},
   "outputs": [],
   "source": [
    "solver = imgamo.IMGAMO(problem, players, options)"
   ]
  },
  {
   "cell_type": "code",
   "execution_count": 7,
   "metadata": {},
   "outputs": [
    {
     "name": "stdout",
     "output_type": "stream",
     "text": [
      "Iteration:  100\n",
      "Evaluation count:  [8400. 8400.]\n",
      "Front size:  56\n",
      "Elapsed time: 0.16282706700000027\n",
      "\n",
      "Iteration:  200\n",
      "Evaluation count:  [16700. 16700.]\n",
      "Front size:  84\n",
      "Elapsed time: 0.338678244\n",
      "\n",
      "Iteration:  300\n",
      "Evaluation count:  [25100. 25100.]\n",
      "Front size:  122\n",
      "Elapsed time: 0.533330098\n",
      "\n",
      "Iteration:  400\n",
      "Evaluation count:  [33400. 33400.]\n",
      "Front size:  123\n",
      "Elapsed time: 0.7447595680000001\n",
      "\n",
      "Iteration:  500\n",
      "Evaluation count:  [41700. 41700.]\n",
      "Front size:  132\n",
      "Elapsed time: 0.9693729060000003\n",
      "\n",
      "Iteration:  600\n",
      "Evaluation count:  [50100. 50100.]\n",
      "Front size:  154\n",
      "Elapsed time: 1.2182835079999998\n",
      "\n",
      "Iteration:  700\n",
      "Evaluation count:  [58400. 58400.]\n",
      "Front size:  197\n",
      "Elapsed time: 1.49786705\n",
      "\n",
      "Iteration:  800\n",
      "Evaluation count:  [66700. 66700.]\n",
      "Front size:  200\n",
      "Elapsed time: 1.8632894149999997\n",
      "\n",
      "Iteration:  900\n",
      "Evaluation count:  [75100. 75100.]\n",
      "Front size:  200\n",
      "Elapsed time: 2.179603436\n",
      "\n",
      "Iteration:  1000\n",
      "Evaluation count:  [83400. 83400.]\n",
      "Front size:  200\n",
      "Elapsed time: 2.4844415619999998\n",
      "\n",
      "Iteration:  1100\n",
      "Evaluation count:  [91700. 91700.]\n",
      "Front size:  200\n",
      "Elapsed time: 2.849093257\n",
      "\n",
      "Iteration:  1200\n",
      "Evaluation count:  [100100. 100100.]\n",
      "Front size:  200\n",
      "Elapsed time: 3.1492643940000002\n",
      "\n",
      "Iteration:  1300\n",
      "Evaluation count:  [108400. 108400.]\n",
      "Front size:  200\n",
      "Elapsed time: 3.4981542900000004\n",
      "\n",
      "Iteration:  1400\n",
      "Evaluation count:  [116700. 116700.]\n",
      "Front size:  199\n",
      "Elapsed time: 3.884551912\n",
      "\n",
      "Iteration:  1500\n",
      "Evaluation count:  [125100. 125100.]\n",
      "Front size:  200\n",
      "Elapsed time: 4.198302473\n",
      "\n",
      "Iteration:  1600\n",
      "Evaluation count:  [133400. 133400.]\n",
      "Front size:  199\n",
      "Elapsed time: 4.554439014\n",
      "\n",
      "Iteration:  1700\n",
      "Evaluation count:  [141700. 141700.]\n",
      "Front size:  199\n",
      "Elapsed time: 4.874272088\n",
      "\n",
      "Iteration:  1800\n",
      "Evaluation count:  [150100. 150100.]\n",
      "Front size:  194\n",
      "Elapsed time: 5.247084476\n",
      "\n",
      "Iteration:  1900\n",
      "Evaluation count:  [158400. 158400.]\n",
      "Front size:  184\n",
      "Elapsed time: 5.534674516999999\n",
      "\n",
      "Iteration:  2000\n",
      "Evaluation count:  [166700. 166700.]\n",
      "Front size:  183\n",
      "Elapsed time: 5.819587971000001\n",
      "\n",
      "Iteration:  2100\n",
      "Evaluation count:  [175100. 175100.]\n",
      "Front size:  180\n",
      "Elapsed time: 6.097105589\n",
      "\n",
      "Iteration:  2200\n",
      "Evaluation count:  [183400. 183400.]\n",
      "Front size:  194\n",
      "Elapsed time: 6.395785839\n",
      "\n",
      "Iteration:  2300\n",
      "Evaluation count:  [191700. 191700.]\n",
      "Front size:  195\n",
      "Elapsed time: 6.6942576549999995\n",
      "\n",
      "Iteration:  2400\n",
      "Evaluation count:  [200100. 200100.]\n",
      "Front size:  197\n",
      "Elapsed time: 7.001016870000001\n",
      "\n",
      "Iteration:  2500\n",
      "Evaluation count:  [208400. 208400.]\n",
      "Front size:  200\n",
      "Elapsed time: 7.349717656999999\n",
      "\n",
      "Iteration:  2600\n",
      "Evaluation count:  [216700. 216700.]\n",
      "Front size:  187\n",
      "Elapsed time: 7.739787485999999\n",
      "\n",
      "Iteration:  2700\n",
      "Evaluation count:  [225100. 225100.]\n",
      "Front size:  187\n",
      "Elapsed time: 8.028857175\n",
      "\n",
      "Iteration:  2800\n",
      "Evaluation count:  [233400. 233400.]\n",
      "Front size:  200\n",
      "Elapsed time: 8.406169061\n",
      "\n",
      "Iteration:  2900\n",
      "Evaluation count:  [241700. 241700.]\n",
      "Front size:  200\n",
      "Elapsed time: 8.881242662\n",
      "\n",
      "Iteration:  3000\n",
      "Evaluation count:  [250000. 250000.]\n",
      "Front size:  196\n",
      "Elapsed time: 9.226210536\n",
      "\n",
      "Iteration:  3000\n",
      "Evaluation count:  [250000. 250000.]\n",
      "Front size:  196\n",
      "Elapsed time: 9.226638268\n"
     ]
    }
   ],
   "source": [
    "solver.run_algorithm()"
   ]
  },
  {
   "cell_type": "code",
   "execution_count": 8,
   "metadata": {},
   "outputs": [
    {
     "name": "stdout",
     "output_type": "stream",
     "text": [
      "Iterations:  3000\n",
      "Evaluation count:  [250000. 250000.]\n",
      "Evaluation count per iteration:  [83.33333333 83.33333333]\n",
      "Front size:  196\n",
      "Time: 9.247663278000001\n",
      "Time per iteration: 0.0030825544260000004\n"
     ]
    }
   ],
   "source": [
    "solver.result.summary()"
   ]
  },
  {
   "cell_type": "code",
   "execution_count": 9,
   "metadata": {},
   "outputs": [
    {
     "data": {
      "image/png": "[encoded data removed]",
      "text/plain": [
       "<Figure size 432x288 with 1 Axes>"
      ]
     },
     "metadata": {
      "needs_background": "light"
     },
     "output_type": "display_data"
    }
   ],
   "source": [
    "fig, ax = plt.subplots()\n",
    "solver.result.plot_2d(ax, 0, 1)\n",
    "plt.show()"
   ]
  },
  {
   "cell_type": "code",
   "execution_count": 10,
   "metadata": {},
   "outputs": [],
   "source": [
    "import copy\n",
    "from scipy.optimize import minimize\n",
    "class ScipyMinimize(Player):\n",
    "    def __init__(self, player_id, method='L-BFGS-B', niter=10):\n",
    "        super(ScipyMinimize, self).__init__(player_id)\n",
    "        self.method = method\n",
    "        self.options = {'maxiter': niter, 'disp': False}\n",
    "\n",
    "    def optimize(self, solutions, solutions_eval, pattern, problem):\n",
    "        def func(x, y):\n",
    "            xx = np.zeros((1, pattern.shape[0]))\n",
    "            xx[0, pattern] = x[:]\n",
    "            xx[0, np.logical_not(pattern)] = y[:]\n",
    "            return problem.evaluate_one(xx, self.player_id)[0]\n",
    "\n",
    "        evaluation_count = np.zeros(solutions_eval.shape[1])\n",
    "        new_solutions = copy.deepcopy(solutions)\n",
    "\n",
    "        bnds = []\n",
    "        for i in range(len(problem.bounds)):\n",
    "            if pattern[i]:\n",
    "                bnds.append(problem.bounds[i])\n",
    "        \n",
    "\n",
    "        for i in range(new_solutions.shape[0]):\n",
    "            x = new_solutions[i, pattern]\n",
    "            y = new_solutions[i, np.logical_not(pattern)]\n",
    "            res = minimize(func, x, (y,), method=self.method, bounds=tuple(bnds), options=self.options)\n",
    "            new_solutions[i, pattern] = res.x[:]\n",
    "            new_solutions[i, np.logical_not(pattern)] = y[:]\n",
    "            evaluation_count[self.player_id] += res.nfev\n",
    "\n",
    "        new_solutions_eval = problem.evaluate_all(new_solutions)\n",
    "        evaluation_count += new_solutions.shape[0]\n",
    "\n",
    "        return new_solutions, new_solutions_eval, evaluation_count, self"
   ]
  },
  {
   "cell_type": "code",
   "execution_count": 11,
   "metadata": {},
   "outputs": [],
   "source": [
    "players = [ScipyMinimize(i) for i in range(nobjs)]\n",
    "options = imgamo.Options(population_size=25, max_evaluations=-1, max_iterations=100, exchange_iter=3, change_iter=3,\n",
    "                         front_max=200, seed=None, verbose=1)"
   ]
  },
  {
   "cell_type": "code",
   "execution_count": 12,
   "metadata": {},
   "outputs": [],
   "source": [
    "solver = imgamo.IMGAMO(problem, players, options)"
   ]
  },
  {
   "cell_type": "code",
   "execution_count": 13,
   "metadata": {},
   "outputs": [
    {
     "name": "stdout",
     "output_type": "stream",
     "text": [
      "Iteration:  1\n",
      "Evaluation count:  [ 474. 1755.]\n",
      "Front size:  5\n",
      "Elapsed time: 0.017096872999999846\n",
      "\n",
      "Iteration:  2\n",
      "Evaluation count:  [ 574. 2468.]\n",
      "Front size:  7\n",
      "Elapsed time: 0.020592951000000248\n",
      "\n",
      "Iteration:  3\n",
      "Evaluation count:  [ 774. 3014.]\n",
      "Front size:  12\n",
      "Elapsed time: 0.02403537699999969\n",
      "\n",
      "Iteration:  4\n",
      "Evaluation count:  [2504. 4399.]\n",
      "Front size:  7\n",
      "Elapsed time: 0.026719446000000424\n",
      "\n",
      "Iteration:  5\n",
      "Evaluation count:  [3154. 4764.]\n",
      "Front size:  10\n",
      "Elapsed time: 0.030330241999999785\n",
      "\n",
      "Iteration:  6\n",
      "Evaluation count:  [4106. 5229.]\n",
      "Front size:  13\n",
      "Elapsed time: 0.03587460500000006\n",
      "\n",
      "Iteration:  7\n",
      "Evaluation count:  [7756. 6329.]\n",
      "Front size:  15\n",
      "Elapsed time: 0.03965032899999965\n",
      "\n",
      "Iteration:  8\n",
      "Evaluation count:  [9549. 7429.]\n",
      "Front size:  18\n",
      "Elapsed time: 0.044565328000000015\n",
      "\n",
      "Iteration:  9\n",
      "Evaluation count:  [10965.  8629.]\n",
      "Front size:  21\n",
      "Elapsed time: 0.04806245600000025\n",
      "\n",
      "Iteration:  10\n",
      "Evaluation count:  [12061. 10254.]\n",
      "Front size:  21\n",
      "Elapsed time: 0.05132845400000008\n",
      "\n",
      "Iteration:  11\n",
      "Evaluation count:  [13161. 11879.]\n",
      "Front size:  22\n",
      "Elapsed time: 0.055607532999999876\n",
      "\n",
      "Iteration:  12\n",
      "Evaluation count:  [14361. 13604.]\n",
      "Front size:  23\n",
      "Elapsed time: 0.059646756000000245\n",
      "\n",
      "Iteration:  13\n",
      "Evaluation count:  [15986. 14204.]\n",
      "Front size:  48\n",
      "Elapsed time: 0.06322849399999964\n",
      "\n",
      "Iteration:  14\n",
      "Evaluation count:  [17611. 14304.]\n",
      "Front size:  73\n",
      "Elapsed time: 0.06682629999999978\n",
      "\n",
      "Iteration:  15\n",
      "Evaluation count:  [19336. 14504.]\n",
      "Front size:  98\n",
      "Elapsed time: 0.07240487400000006\n",
      "\n",
      "Iteration:  16\n",
      "Evaluation count:  [20961. 14604.]\n",
      "Front size:  145\n",
      "Elapsed time: 0.0761715289999998\n",
      "\n",
      "Iteration:  17\n",
      "Evaluation count:  [22586. 14704.]\n",
      "Front size:  192\n",
      "Elapsed time: 0.08060149699999997\n",
      "\n",
      "Iteration:  18\n",
      "Evaluation count:  [24311. 14904.]\n",
      "Front size:  200\n",
      "Elapsed time: 0.09907023800000037\n",
      "\n",
      "Iteration:  19\n",
      "Evaluation count:  [25411. 16529.]\n",
      "Front size:  200\n",
      "Elapsed time: 0.11496195800000031\n",
      "\n",
      "Iteration:  20\n",
      "Evaluation count:  [26511. 18154.]\n",
      "Front size:  200\n",
      "Elapsed time: 0.13006630300000044\n",
      "\n",
      "Iteration:  21\n",
      "Evaluation count:  [27711. 19879.]\n",
      "Front size:  200\n",
      "Elapsed time: 0.14667181700000054\n",
      "\n",
      "Iteration:  22\n",
      "Evaluation count:  [29336. 20979.]\n",
      "Front size:  200\n",
      "Elapsed time: 0.16274228700000037\n",
      "\n",
      "Iteration:  23\n",
      "Evaluation count:  [30961. 22079.]\n",
      "Front size:  200\n",
      "Elapsed time: 0.18029574999999998\n",
      "\n",
      "Iteration:  24\n",
      "Evaluation count:  [32686. 23279.]\n",
      "Front size:  200\n",
      "Elapsed time: 0.19787457199999992\n",
      "\n",
      "Iteration:  25\n",
      "Evaluation count:  [34311. 24379.]\n",
      "Front size:  200\n",
      "Elapsed time: 0.21558082600000006\n",
      "\n",
      "Iteration:  26\n",
      "Evaluation count:  [35936. 25479.]\n",
      "Front size:  200\n",
      "Elapsed time: 0.23293914100000013\n",
      "\n",
      "Iteration:  27\n",
      "Evaluation count:  [37661. 26679.]\n",
      "Front size:  200\n",
      "Elapsed time: 0.24914994600000018\n",
      "\n",
      "Iteration:  28\n",
      "Evaluation count:  [39286. 26779.]\n",
      "Front size:  200\n",
      "Elapsed time: 0.26448176700000037\n",
      "\n",
      "Iteration:  29\n",
      "Evaluation count:  [40911. 26879.]\n",
      "Front size:  200\n",
      "Elapsed time: 0.2821742350000003\n",
      "\n",
      "Iteration:  30\n",
      "Evaluation count:  [42636. 27079.]\n",
      "Front size:  200\n",
      "Elapsed time: 0.2987552469999999\n",
      "\n",
      "Iteration:  31\n",
      "Evaluation count:  [43736. 28704.]\n",
      "Front size:  200\n",
      "Elapsed time: 0.3155713000000002\n",
      "\n",
      "Iteration:  32\n",
      "Evaluation count:  [44836. 30329.]\n",
      "Front size:  200\n",
      "Elapsed time: 0.3334361960000001\n",
      "\n",
      "Iteration:  33\n",
      "Evaluation count:  [46036. 32054.]\n",
      "Front size:  200\n",
      "Elapsed time: 0.35129932700000044\n",
      "\n",
      "Iteration:  34\n",
      "Evaluation count:  [47786. 33679.]\n",
      "Front size:  200\n",
      "Elapsed time: 0.36629868799999965\n",
      "\n",
      "Iteration:  35\n",
      "Evaluation count:  [48236. 35304.]\n",
      "Front size:  200\n",
      "Elapsed time: 0.38250807200000025\n",
      "\n",
      "Iteration:  36\n",
      "Evaluation count:  [49436. 37029.]\n",
      "Front size:  200\n",
      "Elapsed time: 0.397507257\n",
      "\n",
      "Iteration:  37\n",
      "Evaluation count:  [50536. 38654.]\n",
      "Front size:  200\n",
      "Elapsed time: 0.402819182\n",
      "\n",
      "Iteration:  38\n",
      "Evaluation count:  [51636. 40279.]\n",
      "Front size:  200\n",
      "Elapsed time: 0.40916501500000013\n",
      "\n",
      "Iteration:  39\n",
      "Evaluation count:  [52836. 42004.]\n",
      "Front size:  200\n",
      "Elapsed time: 0.41556985300000004\n",
      "\n",
      "Iteration:  40\n",
      "Evaluation count:  [53936. 43629.]\n",
      "Front size:  200\n",
      "Elapsed time: 0.421240064\n",
      "\n",
      "Iteration:  41\n",
      "Evaluation count:  [55036. 45254.]\n",
      "Front size:  200\n",
      "Elapsed time: 0.4268918199999998\n",
      "\n",
      "Iteration:  42\n",
      "Evaluation count:  [56236. 46979.]\n",
      "Front size:  200\n",
      "Elapsed time: 0.4333459529999999\n",
      "\n",
      "Iteration:  43\n",
      "Evaluation count:  [57861. 48079.]\n",
      "Front size:  200\n",
      "Elapsed time: 0.4392194390000004\n",
      "\n",
      "Iteration:  44\n",
      "Evaluation count:  [59486. 49179.]\n",
      "Front size:  200\n",
      "Elapsed time: 0.4455440719999997\n",
      "\n",
      "Iteration:  45\n",
      "Evaluation count:  [61211. 50379.]\n",
      "Front size:  200\n",
      "Elapsed time: 0.4515364900000005\n",
      "\n",
      "Iteration:  46\n",
      "Evaluation count:  [62311. 52004.]\n",
      "Front size:  200\n",
      "Elapsed time: 0.45777957700000016\n",
      "\n",
      "Iteration:  47\n",
      "Evaluation count:  [63411. 53629.]\n",
      "Front size:  200\n",
      "Elapsed time: 0.46326442800000045\n",
      "\n",
      "Iteration:  48\n",
      "Evaluation count:  [64611. 55354.]\n",
      "Front size:  200\n",
      "Elapsed time: 0.46967199699999984\n",
      "\n",
      "Iteration:  49\n",
      "Evaluation count:  [65711. 56979.]\n",
      "Front size:  200\n",
      "Elapsed time: 0.4747918020000004\n",
      "\n",
      "Iteration:  50\n",
      "Evaluation count:  [66811. 58604.]\n",
      "Front size:  200\n",
      "Elapsed time: 0.48132263300000044\n",
      "\n",
      "Iteration:  51\n",
      "Evaluation count:  [68011. 60329.]\n",
      "Front size:  200\n",
      "Elapsed time: 0.4868344279999999\n",
      "\n",
      "Iteration:  52\n",
      "Evaluation count:  [69636. 61429.]\n",
      "Front size:  200\n",
      "Elapsed time: 0.4921688600000005\n",
      "\n",
      "Iteration:  53\n",
      "Evaluation count:  [71261. 62529.]\n",
      "Front size:  200\n",
      "Elapsed time: 0.4970357339999998\n",
      "\n",
      "Iteration:  54\n",
      "Evaluation count:  [72986. 63729.]\n",
      "Front size:  200\n",
      "Elapsed time: 0.5042687560000001\n",
      "\n",
      "Iteration:  55\n",
      "Evaluation count:  [74086. 65354.]\n",
      "Front size:  200\n",
      "Elapsed time: 0.509460808\n",
      "\n",
      "Iteration:  56\n",
      "Evaluation count:  [75186. 66979.]\n",
      "Front size:  200\n",
      "Elapsed time: 0.5140916930000001\n",
      "\n",
      "Iteration:  57\n",
      "Evaluation count:  [76386. 68704.]\n",
      "Front size:  200\n",
      "Elapsed time: 0.5221177089999998\n",
      "\n",
      "Iteration:  58\n",
      "Evaluation count:  [77486. 70329.]\n",
      "Front size:  200\n",
      "Elapsed time: 0.5279639459999999\n",
      "\n",
      "Iteration:  59\n",
      "Evaluation count:  [78586. 71954.]\n",
      "Front size:  200\n",
      "Elapsed time: 0.5342558689999999\n",
      "\n",
      "Iteration:  60\n",
      "Evaluation count:  [79786. 73679.]\n",
      "Front size:  200\n",
      "Elapsed time: 0.5415048039999997\n",
      "\n",
      "Iteration:  61\n",
      "Evaluation count:  [80886. 75304.]\n",
      "Front size:  200\n",
      "Elapsed time: 0.5474199290000001\n",
      "\n",
      "Iteration:  62\n",
      "Evaluation count:  [81986. 76929.]\n",
      "Front size:  200\n",
      "Elapsed time: 0.5530585920000002\n",
      "\n",
      "Iteration:  63\n",
      "Evaluation count:  [83186. 78654.]\n",
      "Front size:  200\n",
      "Elapsed time: 0.5608838780000003\n",
      "\n",
      "Iteration:  64\n",
      "Evaluation count:  [84811. 79754.]\n",
      "Front size:  200\n",
      "Elapsed time: 0.566477795\n",
      "\n",
      "Iteration:  65\n",
      "Evaluation count:  [86436. 80854.]\n",
      "Front size:  200\n",
      "Elapsed time: 0.571946273\n",
      "\n",
      "Iteration:  66\n",
      "Evaluation count:  [88161. 82054.]\n",
      "Front size:  200\n",
      "Elapsed time: 0.5794846490000003\n",
      "\n",
      "Iteration:  67\n",
      "Evaluation count:  [89261. 83679.]\n",
      "Front size:  200\n",
      "Elapsed time: 0.5844175710000004\n",
      "\n",
      "Iteration:  68\n",
      "Evaluation count:  [90361. 85304.]\n",
      "Front size:  200\n",
      "Elapsed time: 0.5896559730000002\n",
      "\n",
      "Iteration:  69\n",
      "Evaluation count:  [91561. 87029.]\n",
      "Front size:  200\n",
      "Elapsed time: 0.5979265050000002\n",
      "\n",
      "Iteration:  70\n",
      "Evaluation count:  [92661. 88654.]\n",
      "Front size:  200\n",
      "Elapsed time: 0.6035509040000004\n",
      "\n",
      "Iteration:  71\n",
      "Evaluation count:  [93761. 90279.]\n",
      "Front size:  200\n",
      "Elapsed time: 0.6089169559999998\n",
      "\n",
      "Iteration:  72\n",
      "Evaluation count:  [94961. 92004.]\n",
      "Front size:  200\n",
      "Elapsed time: 0.6160585249999997\n",
      "\n",
      "Iteration:  73\n",
      "Evaluation count:  [96586. 93104.]\n",
      "Front size:  200\n",
      "Elapsed time: 0.6216270169999998\n",
      "\n",
      "Iteration:  74\n",
      "Evaluation count:  [98211. 94204.]\n",
      "Front size:  200\n",
      "Elapsed time: 0.6270106970000002\n",
      "\n",
      "Iteration:  75\n",
      "Evaluation count:  [99936. 95404.]\n",
      "Front size:  200\n",
      "Elapsed time: 0.633736807\n",
      "\n",
      "Iteration:  76\n",
      "Evaluation count:  [101561.  96504.]\n",
      "Front size:  200\n",
      "Elapsed time: 0.6392794430000004\n",
      "\n",
      "Iteration:  77\n",
      "Evaluation count:  [103186.  97604.]\n",
      "Front size:  200\n",
      "Elapsed time: 0.6448386189999997\n",
      "\n",
      "Iteration:  78\n",
      "Evaluation count:  [104911.  98804.]\n",
      "Front size:  200\n",
      "Elapsed time: 0.6534866859999999\n",
      "\n",
      "Iteration:  79\n",
      "Evaluation count:  [106536.  99904.]\n",
      "Front size:  200\n",
      "Elapsed time: 0.6589892510000004\n",
      "\n",
      "Iteration:  80\n",
      "Evaluation count:  [108161. 101004.]\n",
      "Front size:  200\n",
      "Elapsed time: 0.6639223899999998\n",
      "\n",
      "Iteration:  81\n",
      "Evaluation count:  [109886. 102204.]\n",
      "Front size:  200\n",
      "Elapsed time: 0.6702048710000001\n",
      "\n",
      "Iteration:  82\n",
      "Evaluation count:  [110986. 103829.]\n",
      "Front size:  200\n",
      "Elapsed time: 0.6750504829999997\n",
      "\n",
      "Iteration:  83\n",
      "Evaluation count:  [112086. 105454.]\n",
      "Front size:  200\n",
      "Elapsed time: 0.6806709030000002\n",
      "\n"
     ]
    },
    {
     "name": "stdout",
     "output_type": "stream",
     "text": [
      "Iteration:  84\n",
      "Evaluation count:  [113286. 107179.]\n",
      "Front size:  200\n",
      "Elapsed time: 0.6877845479999998\n",
      "\n",
      "Iteration:  85\n",
      "Evaluation count:  [114386. 108804.]\n",
      "Front size:  200\n",
      "Elapsed time: 0.6939584080000003\n",
      "\n",
      "Iteration:  86\n",
      "Evaluation count:  [115486. 110429.]\n",
      "Front size:  200\n",
      "Elapsed time: 0.6990258369999998\n",
      "\n",
      "Iteration:  87\n",
      "Evaluation count:  [116686. 112154.]\n",
      "Front size:  200\n",
      "Elapsed time: 0.7066059229999997\n",
      "\n",
      "Iteration:  88\n",
      "Evaluation count:  [118311. 113254.]\n",
      "Front size:  200\n",
      "Elapsed time: 0.7117783119999999\n",
      "\n",
      "Iteration:  89\n",
      "Evaluation count:  [119936. 114354.]\n",
      "Front size:  200\n",
      "Elapsed time: 0.7172997600000004\n",
      "\n",
      "Iteration:  90\n",
      "Evaluation count:  [121661. 115554.]\n",
      "Front size:  200\n",
      "Elapsed time: 0.7229172909999999\n",
      "\n",
      "Iteration:  91\n",
      "Evaluation count:  [122761. 117179.]\n",
      "Front size:  200\n",
      "Elapsed time: 0.7291240569999999\n",
      "\n",
      "Iteration:  92\n",
      "Evaluation count:  [123861. 118804.]\n",
      "Front size:  200\n",
      "Elapsed time: 0.7345326679999999\n",
      "\n",
      "Iteration:  93\n",
      "Evaluation count:  [125061. 120529.]\n",
      "Front size:  200\n",
      "Elapsed time: 0.740887345\n",
      "\n",
      "Iteration:  94\n",
      "Evaluation count:  [126686. 121629.]\n",
      "Front size:  200\n",
      "Elapsed time: 0.7463311490000004\n",
      "\n",
      "Iteration:  95\n",
      "Evaluation count:  [128311. 122729.]\n",
      "Front size:  200\n",
      "Elapsed time: 0.7531500810000002\n",
      "\n",
      "Iteration:  96\n",
      "Evaluation count:  [130036. 123929.]\n",
      "Front size:  200\n",
      "Elapsed time: 0.7598832169999996\n",
      "\n",
      "Iteration:  97\n",
      "Evaluation count:  [131136. 125554.]\n",
      "Front size:  200\n",
      "Elapsed time: 0.7648469960000002\n",
      "\n",
      "Iteration:  98\n",
      "Evaluation count:  [132236. 127179.]\n",
      "Front size:  200\n",
      "Elapsed time: 0.7715350650000001\n",
      "\n",
      "Iteration:  99\n",
      "Evaluation count:  [133436. 128904.]\n",
      "Front size:  200\n",
      "Elapsed time: 0.7774566639999998\n",
      "\n",
      "Iteration:  100\n",
      "Evaluation count:  [134536. 130529.]\n",
      "Front size:  200\n",
      "Elapsed time: 0.7826761680000001\n",
      "\n",
      "Iteration:  100\n",
      "Evaluation count:  [134536. 130529.]\n",
      "Front size:  200\n",
      "Elapsed time: 0.7831751909999998\n"
     ]
    }
   ],
   "source": [
    "solver.run_algorithm()"
   ]
  },
  {
   "cell_type": "code",
   "execution_count": 14,
   "metadata": {},
   "outputs": [
    {
     "data": {
      "image/png": "[encoded data removed]",
      "text/plain": [
       "<Figure size 432x288 with 1 Axes>"
      ]
     },
     "metadata": {
      "needs_background": "light"
     },
     "output_type": "display_data"
    }
   ],
   "source": [
    "fig, ax = plt.subplots()\n",
    "solver.result.plot_2d(ax, 0, 1)\n",
    "plt.show()"
   ]
  },
  {
   "cell_type": "code",
   "execution_count": 15,
   "metadata": {},
   "outputs": [
    {
     "data": {
      "text/plain": [
       "14407.81"
      ]
     },
     "execution_count": 15,
     "metadata": {},
     "output_type": "execute_result"
    }
   ],
   "source": [
    "14857.81-450"
   ]
  },
  {
   "cell_type": "code",
   "execution_count": null,
   "metadata": {},
   "outputs": [],
   "source": []
  }
 ],
 "metadata": {
  "kernelspec": {
   "display_name": "Python (intel36)",
   "language": "python",
   "name": "idp"
  },
  "language_info": {
   "codemirror_mode": {
    "name": "ipython",
    "version": 3
   },
   "file_extension": ".py",
   "mimetype": "text/x-python",
   "name": "python",
   "nbconvert_exporter": "python",
   "pygments_lexer": "ipython3",
   "version": "3.6.8"
  }
 },
 "nbformat": 4,
 "nbformat_minor": 2
}
