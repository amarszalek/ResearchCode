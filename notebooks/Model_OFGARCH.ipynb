{
 "cells": [
  {
   "cell_type": "code",
   "execution_count": 1,
   "metadata": {},
   "outputs": [],
   "source": [
    "import sys\n",
    "sys.path.append('../pyorderedfuzzy')"
   ]
  },
  {
   "cell_type": "code",
   "execution_count": 2,
   "metadata": {},
   "outputs": [],
   "source": [
    "import numpy as np\n",
    "import matplotlib.pyplot as plt\n",
    "import ofnumber as ofn\n",
    "import ofmodels as ofm\n",
    "import ofrandom as ofr"
   ]
  },
  {
   "cell_type": "code",
   "execution_count": 3,
   "metadata": {},
   "outputs": [],
   "source": [
    "a0 = ofn.OFNumber.init_from_scalar(0.0, dim=11) #ofr.ofnormal(mu, sig2, s2, p)\n",
    "a1 = ofn.OFNumber.init_from_scalar(0.8, dim=11) #ofr.ofnormal(mu, sig2, s2, p)\n",
    "a2 = ofn.OFNumber.init_from_scalar(-0.2, dim=11) #ofr.ofnormal(mu, sig2, s2, p)\n",
    "x_m1 = ofn.OFNumber.init_from_scalar(1.0, dim=11) #ofr.ofnormal(mu, sig2, s2, p)\n",
    "x_m2 = ofn.OFNumber.init_from_scalar(2.0, dim=11) #ofr.ofnormal(mu, sig2, s2, p)\n",
    "ofs = ofm.OFSeries([a0,a1,a2,x_m2, x_m1])"
   ]
  },
  {
   "cell_type": "code",
   "execution_count": 4,
   "metadata": {},
   "outputs": [],
   "source": [
    "ar2_model = ofm.OFAutoRegressive(order=2)"
   ]
  },
  {
   "cell_type": "code",
   "execution_count": 5,
   "metadata": {},
   "outputs": [],
   "source": [
    "ar2 = ar2_model.predict(100, coefs=[a0,a1,a2], initials=[x_m2, x_m1], error=True)"
   ]
  },
  {
   "cell_type": "code",
   "execution_count": 6,
   "metadata": {},
   "outputs": [
    {
     "data": {
      "image/png": "[encoded data removed]",
      "text/plain": [
       "<Figure size 432x288 with 1 Axes>"
      ]
     },
     "metadata": {
      "needs_background": "light"
     },
     "output_type": "display_data"
    }
   ],
   "source": [
    "fig, ax = plt.subplots()\n",
    "ar2.plot_ofseries(ax)\n",
    "plt.show()"
   ]
  },
  {
   "cell_type": "code",
   "execution_count": 7,
   "metadata": {},
   "outputs": [],
   "source": [
    "garch = ofm.OFGARCH()"
   ]
  },
  {
   "cell_type": "code",
   "execution_count": 8,
   "metadata": {},
   "outputs": [],
   "source": [
    "garch.fit(ar2)"
   ]
  },
  {
   "cell_type": "code",
   "execution_count": 9,
   "metadata": {},
   "outputs": [],
   "source": [
    "f0 = garch.models_f[0]"
   ]
  },
  {
   "cell_type": "code",
   "execution_count": 10,
   "metadata": {},
   "outputs": [
    {
     "data": {
      "text/plain": [
       "332.4166705992612"
      ]
     },
     "execution_count": 10,
     "metadata": {},
     "output_type": "execute_result"
    }
   ],
   "source": [
    "f0.aic"
   ]
  },
  {
   "cell_type": "code",
   "execution_count": null,
   "metadata": {},
   "outputs": [],
   "source": []
  }
 ],
 "metadata": {
  "kernelspec": {
   "display_name": "Python (intel36)",
   "language": "python",
   "name": "idp"
  },
  "language_info": {
   "codemirror_mode": {
    "name": "ipython",
    "version": 3
   },
   "file_extension": ".py",
   "mimetype": "text/x-python",
   "name": "python",
   "nbconvert_exporter": "python",
   "pygments_lexer": "ipython3",
   "version": "3.6.8"
  },
  "toc-showmarkdowntxt": true
 },
 "nbformat": 4,
 "nbformat_minor": 2
}
