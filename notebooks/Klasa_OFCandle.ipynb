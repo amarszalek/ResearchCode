{
 "cells": [
  {
   "cell_type": "markdown",
   "metadata": {},
   "source": [
    "## Klasa OFCandle"
   ]
  },
  {
   "cell_type": "code",
   "execution_count": 1,
   "metadata": {},
   "outputs": [],
   "source": [
    "import sys\n",
    "sys.path.append('../pyorderedfuzzy')"
   ]
  },
  {
   "cell_type": "code",
   "execution_count": 2,
   "metadata": {},
   "outputs": [],
   "source": [
    "import numpy as np\n",
    "import pandas as pd\n",
    "from ofcandle import OFCandle\n",
    "import ofnumber as ofn\n",
    "import ofmodels as ofm\n",
    "%matplotlib widget\n",
    "import matplotlib.pyplot as plt"
   ]
  },
  {
   "cell_type": "markdown",
   "metadata": {},
   "source": [
    "__Wczytanied danych__"
   ]
  },
  {
   "cell_type": "code",
   "execution_count": 3,
   "metadata": {},
   "outputs": [],
   "source": [
    "df = pd.read_csv(r'../data/WIG20.prn')"
   ]
  },
  {
   "cell_type": "code",
   "execution_count": 4,
   "metadata": {},
   "outputs": [
    {
     "data": {
      "text/html": [
       "<div>\n",
       "<style scoped>\n",
       "    .dataframe tbody tr th:only-of-type {\n",
       "        vertical-align: middle;\n",
       "    }\n",
       "\n",
       "    .dataframe tbody tr th {\n",
       "        vertical-align: top;\n",
       "    }\n",
       "\n",
       "    .dataframe thead th {\n",
       "        text-align: right;\n",
       "    }\n",
       "</style>\n",
       "<table border=\"1\" class=\"dataframe\">\n",
       "  <thead>\n",
       "    <tr style=\"text-align: right;\">\n",
       "      <th></th>\n",
       "      <th>Name</th>\n",
       "      <th>Date</th>\n",
       "      <th>Time</th>\n",
       "      <th>Open</th>\n",
       "      <th>High</th>\n",
       "      <th>Low</th>\n",
       "      <th>Close</th>\n",
       "      <th>Volume</th>\n",
       "      <th>Oi</th>\n",
       "    </tr>\n",
       "  </thead>\n",
       "  <tbody>\n",
       "    <tr>\n",
       "      <th>0</th>\n",
       "      <td>WIG20</td>\n",
       "      <td>20001117</td>\n",
       "      <td>1002</td>\n",
       "      <td>1614.0</td>\n",
       "      <td>1614.0</td>\n",
       "      <td>1614.0</td>\n",
       "      <td>1614.0</td>\n",
       "      <td>0</td>\n",
       "      <td>0</td>\n",
       "    </tr>\n",
       "    <tr>\n",
       "      <th>1</th>\n",
       "      <td>WIG20</td>\n",
       "      <td>20001117</td>\n",
       "      <td>1003</td>\n",
       "      <td>1615.0</td>\n",
       "      <td>1615.0</td>\n",
       "      <td>1615.0</td>\n",
       "      <td>1615.0</td>\n",
       "      <td>0</td>\n",
       "      <td>0</td>\n",
       "    </tr>\n",
       "    <tr>\n",
       "      <th>2</th>\n",
       "      <td>WIG20</td>\n",
       "      <td>20001117</td>\n",
       "      <td>1004</td>\n",
       "      <td>1615.0</td>\n",
       "      <td>1616.0</td>\n",
       "      <td>1615.0</td>\n",
       "      <td>1616.0</td>\n",
       "      <td>0</td>\n",
       "      <td>0</td>\n",
       "    </tr>\n",
       "    <tr>\n",
       "      <th>3</th>\n",
       "      <td>WIG20</td>\n",
       "      <td>20001117</td>\n",
       "      <td>1005</td>\n",
       "      <td>1615.0</td>\n",
       "      <td>1615.0</td>\n",
       "      <td>1615.0</td>\n",
       "      <td>1615.0</td>\n",
       "      <td>0</td>\n",
       "      <td>0</td>\n",
       "    </tr>\n",
       "    <tr>\n",
       "      <th>4</th>\n",
       "      <td>WIG20</td>\n",
       "      <td>20001117</td>\n",
       "      <td>1006</td>\n",
       "      <td>1614.0</td>\n",
       "      <td>1615.0</td>\n",
       "      <td>1614.0</td>\n",
       "      <td>1615.0</td>\n",
       "      <td>0</td>\n",
       "      <td>0</td>\n",
       "    </tr>\n",
       "  </tbody>\n",
       "</table>\n",
       "</div>"
      ],
      "text/plain": [
       "    Name      Date  Time    Open    High     Low   Close  Volume  Oi\n",
       "0  WIG20  20001117  1002  1614.0  1614.0  1614.0  1614.0       0   0\n",
       "1  WIG20  20001117  1003  1615.0  1615.0  1615.0  1615.0       0   0\n",
       "2  WIG20  20001117  1004  1615.0  1616.0  1615.0  1616.0       0   0\n",
       "3  WIG20  20001117  1005  1615.0  1615.0  1615.0  1615.0       0   0\n",
       "4  WIG20  20001117  1006  1614.0  1615.0  1614.0  1615.0       0   0"
      ]
     },
     "execution_count": 4,
     "metadata": {},
     "output_type": "execute_result"
    }
   ],
   "source": [
    "df.head()"
   ]
  },
  {
   "cell_type": "code",
   "execution_count": 5,
   "metadata": {},
   "outputs": [],
   "source": [
    "df['Date'] = df['Date'].astype(str).apply(lambda x: pd.datetime(int(x[:4]), int(x[4:6]), int(x[6:])))"
   ]
  },
  {
   "cell_type": "code",
   "execution_count": 6,
   "metadata": {},
   "outputs": [
    {
     "data": {
      "text/html": [
       "<div>\n",
       "<style scoped>\n",
       "    .dataframe tbody tr th:only-of-type {\n",
       "        vertical-align: middle;\n",
       "    }\n",
       "\n",
       "    .dataframe tbody tr th {\n",
       "        vertical-align: top;\n",
       "    }\n",
       "\n",
       "    .dataframe thead th {\n",
       "        text-align: right;\n",
       "    }\n",
       "</style>\n",
       "<table border=\"1\" class=\"dataframe\">\n",
       "  <thead>\n",
       "    <tr style=\"text-align: right;\">\n",
       "      <th></th>\n",
       "      <th>Date</th>\n",
       "      <th>Time</th>\n",
       "      <th>Close</th>\n",
       "    </tr>\n",
       "  </thead>\n",
       "  <tbody>\n",
       "    <tr>\n",
       "      <th>0</th>\n",
       "      <td>2000-11-17</td>\n",
       "      <td>1002</td>\n",
       "      <td>1614.0</td>\n",
       "    </tr>\n",
       "    <tr>\n",
       "      <th>1</th>\n",
       "      <td>2000-11-17</td>\n",
       "      <td>1003</td>\n",
       "      <td>1615.0</td>\n",
       "    </tr>\n",
       "    <tr>\n",
       "      <th>2</th>\n",
       "      <td>2000-11-17</td>\n",
       "      <td>1004</td>\n",
       "      <td>1616.0</td>\n",
       "    </tr>\n",
       "    <tr>\n",
       "      <th>3</th>\n",
       "      <td>2000-11-17</td>\n",
       "      <td>1005</td>\n",
       "      <td>1615.0</td>\n",
       "    </tr>\n",
       "    <tr>\n",
       "      <th>4</th>\n",
       "      <td>2000-11-17</td>\n",
       "      <td>1006</td>\n",
       "      <td>1615.0</td>\n",
       "    </tr>\n",
       "  </tbody>\n",
       "</table>\n",
       "</div>"
      ],
      "text/plain": [
       "        Date  Time   Close\n",
       "0 2000-11-17  1002  1614.0\n",
       "1 2000-11-17  1003  1615.0\n",
       "2 2000-11-17  1004  1616.0\n",
       "3 2000-11-17  1005  1615.0\n",
       "4 2000-11-17  1006  1615.0"
      ]
     },
     "execution_count": 6,
     "metadata": {},
     "output_type": "execute_result"
    }
   ],
   "source": [
    "df = df[['Date', 'Time', 'Close']]\n",
    "df.sort_values(by=['Date', 'Time'])\n",
    "df.head()"
   ]
  },
  {
   "cell_type": "code",
   "execution_count": 7,
   "metadata": {},
   "outputs": [],
   "source": [
    "df_day = df.groupby('Date')"
   ]
  },
  {
   "cell_type": "code",
   "execution_count": 8,
   "metadata": {},
   "outputs": [],
   "source": [
    "def to_ofc(s):\n",
    "    x = s.values\n",
    "    ctype = 'empirical'\n",
    "    data = {'price': x, 'volume': np.zeros_like(x), 'spread': np.zeros_like(x)}\n",
    "    params = {'wtype': 'clear', 'param_s': 'average', 'param_c': 'none', 'dim': 11, 'order': None}\n",
    "    return OFCandle(ctype, data, params)"
   ]
  },
  {
   "cell_type": "code",
   "execution_count": 9,
   "metadata": {},
   "outputs": [
    {
     "data": {
      "text/html": [
       "<div>\n",
       "<style scoped>\n",
       "    .dataframe tbody tr th:only-of-type {\n",
       "        vertical-align: middle;\n",
       "    }\n",
       "\n",
       "    .dataframe tbody tr th {\n",
       "        vertical-align: top;\n",
       "    }\n",
       "\n",
       "    .dataframe thead tr th {\n",
       "        text-align: left;\n",
       "    }\n",
       "\n",
       "    .dataframe thead tr:last-of-type th {\n",
       "        text-align: right;\n",
       "    }\n",
       "</style>\n",
       "<table border=\"1\" class=\"dataframe\">\n",
       "  <thead>\n",
       "    <tr>\n",
       "      <th></th>\n",
       "      <th colspan=\"2\" halign=\"left\">Close</th>\n",
       "    </tr>\n",
       "    <tr>\n",
       "      <th></th>\n",
       "      <th>to_ofc</th>\n",
       "      <th>last</th>\n",
       "    </tr>\n",
       "    <tr>\n",
       "      <th>Date</th>\n",
       "      <th></th>\n",
       "      <th></th>\n",
       "    </tr>\n",
       "  </thead>\n",
       "  <tbody>\n",
       "    <tr>\n",
       "      <th>2000-11-17</th>\n",
       "      <td>([1614.         1620.         1624.         16...</td>\n",
       "      <td>1643.0</td>\n",
       "    </tr>\n",
       "    <tr>\n",
       "      <th>2000-11-20</th>\n",
       "      <td>([1646.        1648.        1650.        1652....</td>\n",
       "      <td>1653.0</td>\n",
       "    </tr>\n",
       "    <tr>\n",
       "      <th>2000-11-21</th>\n",
       "      <td>([1650.         1651.         1652.         16...</td>\n",
       "      <td>1660.0</td>\n",
       "    </tr>\n",
       "    <tr>\n",
       "      <th>2000-11-22</th>\n",
       "      <td>([1642.         1640.         1639.         16...</td>\n",
       "      <td>1639.0</td>\n",
       "    </tr>\n",
       "    <tr>\n",
       "      <th>2000-11-23</th>\n",
       "      <td>([1645.         1635.         1632.         16...</td>\n",
       "      <td>1626.0</td>\n",
       "    </tr>\n",
       "  </tbody>\n",
       "</table>\n",
       "</div>"
      ],
      "text/plain": [
       "                                                        Close        \n",
       "                                                       to_ofc    last\n",
       "Date                                                                 \n",
       "2000-11-17  ([1614.         1620.         1624.         16...  1643.0\n",
       "2000-11-20  ([1646.        1648.        1650.        1652....  1653.0\n",
       "2000-11-21  ([1650.         1651.         1652.         16...  1660.0\n",
       "2000-11-22  ([1642.         1640.         1639.         16...  1639.0\n",
       "2000-11-23  ([1645.         1635.         1632.         16...  1626.0"
      ]
     },
     "execution_count": 9,
     "metadata": {},
     "output_type": "execute_result"
    }
   ],
   "source": [
    "df_agg = df_day.agg({'Close': [to_ofc, 'last']})\n",
    "df_agg.head()"
   ]
  },
  {
   "cell_type": "code",
   "execution_count": 10,
   "metadata": {},
   "outputs": [],
   "source": [
    "ofts = ofm.OFSeries(df_agg[('Close', 'to_ofc')].values)"
   ]
  },
  {
   "cell_type": "code",
   "execution_count": 11,
   "metadata": {},
   "outputs": [],
   "source": [
    "close = df_agg[('Close', 'last')].values"
   ]
  },
  {
   "cell_type": "code",
   "execution_count": 12,
   "metadata": {},
   "outputs": [
    {
     "data": {
      "application/vnd.jupyter.widget-view+json": {
       "model_id": "c690685ab14c44d780b32c08d704f453",
       "version_major": 2,
       "version_minor": 0
      },
      "text/plain": [
       "A Jupyter Widget"
      ]
     },
     "metadata": {},
     "output_type": "display_data"
    }
   ],
   "source": [
    "fig, ax = plt.subplots(figsize=(8, 4))\n",
    "ofts.plot_ofseries(ax, s=4000, e=4577)\n",
    "ax.plot(close[4000:4577])\n",
    "plt.show()"
   ]
  },
  {
   "cell_type": "code",
   "execution_count": 13,
   "metadata": {},
   "outputs": [],
   "source": [
    "ofts_logret = ofts.transform(method='logret')\n",
    "logret = np.log(close[1:]/close[:-1])"
   ]
  },
  {
   "cell_type": "code",
   "execution_count": 14,
   "metadata": {},
   "outputs": [
    {
     "data": {
      "application/vnd.jupyter.widget-view+json": {
       "model_id": "1f19289c70994e578374d6d4685a9c44",
       "version_major": 2,
       "version_minor": 0
      },
      "text/plain": [
       "A Jupyter Widget"
      ]
     },
     "metadata": {},
     "output_type": "display_data"
    }
   ],
   "source": [
    "fig, ax = plt.subplots(figsize=(8, 4))\n",
    "ofts_logret.plot_ofseries(ax, s=3999, e=4576)\n",
    "ax.plot(logret[3999:4576])\n",
    "plt.show()"
   ]
  },
  {
   "cell_type": "code",
   "execution_count": 15,
   "metadata": {},
   "outputs": [
    {
     "data": {
      "application/vnd.jupyter.widget-view+json": {
       "model_id": "bb923994e8ea4c92943240595861e560",
       "version_major": 2,
       "version_minor": 0
      },
      "text/plain": [
       "A Jupyter Widget"
      ]
     },
     "metadata": {},
     "output_type": "display_data"
    }
   ],
   "source": [
    "fig, ax = plt.subplots(figsize=(4, 4))\n",
    "ax.hist(logret[3999:4576], bins=40)\n",
    "plt.show()"
   ]
  },
  {
   "cell_type": "code",
   "execution_count": 16,
   "metadata": {},
   "outputs": [
    {
     "data": {
      "application/vnd.jupyter.widget-view+json": {
       "model_id": "94fa8ed40663421eb443a318d356f079",
       "version_major": 2,
       "version_minor": 0
      },
      "text/plain": [
       "A Jupyter Widget"
      ]
     },
     "metadata": {},
     "output_type": "display_data"
    }
   ],
   "source": [
    "from mpl_toolkits.mplot3d import Axes3D\n",
    "fig = plt.figure()\n",
    "axf = fig.add_subplot(121, projection='3d')\n",
    "axg = fig.add_subplot(122, projection='3d')\n",
    "ofts_logret.plot_3d_histogram(axf, axg)\n",
    "plt.show()"
   ]
  },
  {
   "cell_type": "markdown",
   "metadata": {},
   "source": [
    "Klasyczny GARCH"
   ]
  },
  {
   "cell_type": "code",
   "execution_count": 17,
   "metadata": {},
   "outputs": [
    {
     "name": "stdout",
     "output_type": "stream",
     "text": [
      "Iteration:      1,   Func. Count:      6,   Neg. LLF: 852.5104420501684\n",
      "Iteration:      2,   Func. Count:     16,   Neg. LLF: 852.4718855868891\n",
      "Iteration:      3,   Func. Count:     25,   Neg. LLF: 852.237760266993\n",
      "Iteration:      4,   Func. Count:     34,   Neg. LLF: 852.2371852712433\n",
      "Iteration:      5,   Func. Count:     41,   Neg. LLF: 852.2269061380836\n",
      "Iteration:      6,   Func. Count:     48,   Neg. LLF: 852.2176702481736\n",
      "Iteration:      7,   Func. Count:     54,   Neg. LLF: 852.2164997330856\n",
      "Iteration:      8,   Func. Count:     60,   Neg. LLF: 852.2164762132034\n",
      "Optimization terminated successfully.    (Exit mode 0)\n",
      "            Current function value: 852.2164755431113\n",
      "            Iterations: 8\n",
      "            Function evaluations: 61\n",
      "            Gradient evaluations: 8\n"
     ]
    }
   ],
   "source": [
    "from arch import arch_model\n",
    "garch = arch_model(pd.Series(logret[3999:4576]*100), mean='constant', p=1, q=1).fit()"
   ]
  },
  {
   "cell_type": "code",
   "execution_count": 18,
   "metadata": {},
   "outputs": [
    {
     "data": {
      "text/plain": [
       "mu          0.049192\n",
       "omega       0.019364\n",
       "alpha[1]    0.015655\n",
       "beta[1]     0.966774\n",
       "Name: params, dtype: float64"
      ]
     },
     "execution_count": 18,
     "metadata": {},
     "output_type": "execute_result"
    }
   ],
   "source": [
    "garch.params"
   ]
  },
  {
   "cell_type": "code",
   "execution_count": 19,
   "metadata": {},
   "outputs": [
    {
     "data": {
      "application/vnd.jupyter.widget-view+json": {
       "model_id": "c4a0805caa674e94af22d5dd1fabc7f2",
       "version_major": 2,
       "version_minor": 0
      },
      "text/plain": [
       "A Jupyter Widget"
      ]
     },
     "metadata": {},
     "output_type": "display_data"
    }
   ],
   "source": [
    "fig, ax = plt.subplots(figsize=(4, 4))\n",
    "garch.resid.hist(bins=20)\n",
    "plt.show()"
   ]
  },
  {
   "cell_type": "code",
   "execution_count": 20,
   "metadata": {},
   "outputs": [
    {
     "data": {
      "text/plain": [
       "(-0.0010089172727799343, 1.134339780283509)"
      ]
     },
     "execution_count": 20,
     "metadata": {},
     "output_type": "execute_result"
    }
   ],
   "source": [
    "garch.resid.mean(), garch.resid.var()"
   ]
  },
  {
   "cell_type": "code",
   "execution_count": 21,
   "metadata": {},
   "outputs": [],
   "source": [
    "forecast = garch.forecast(horizon=5, align='origin')"
   ]
  },
  {
   "cell_type": "code",
   "execution_count": 22,
   "metadata": {},
   "outputs": [
    {
     "data": {
      "text/plain": [
       "array([0.04919245, 0.04919245, 0.04919245, 0.04919245, 0.04919245])"
      ]
     },
     "execution_count": 22,
     "metadata": {},
     "output_type": "execute_result"
    }
   ],
   "source": [
    "forecast.mean.values[-1]"
   ]
  },
  {
   "cell_type": "code",
   "execution_count": 23,
   "metadata": {},
   "outputs": [
    {
     "data": {
      "text/plain": [
       "array([0.98054065, 0.98267584, 0.98477351, 0.98683433, 0.98885893])"
      ]
     },
     "execution_count": 23,
     "metadata": {},
     "output_type": "execute_result"
    }
   ],
   "source": [
    "forecast.variance.values[-1]"
   ]
  },
  {
   "cell_type": "code",
   "execution_count": null,
   "metadata": {},
   "outputs": [],
   "source": []
  },
  {
   "cell_type": "code",
   "execution_count": 24,
   "metadata": {},
   "outputs": [],
   "source": [
    "ofgarch = ofm.OFGARCH(tmean='constant')"
   ]
  },
  {
   "cell_type": "code",
   "execution_count": 25,
   "metadata": {},
   "outputs": [],
   "source": [
    "ofgarch.fit(ofm.OFSeries([ofn.OFNumber.init_from_scalar(x*100, dim=11) for x in logret[3999:4576]]))"
   ]
  },
  {
   "cell_type": "code",
   "execution_count": 26,
   "metadata": {},
   "outputs": [
    {
     "data": {
      "text/plain": [
       "array([([0.04919245 0.04919245 0.04919245 0.04919245 0.04919245 0.04919245\n",
       " 0.04919245 0.04919245 0.04919245 0.04919245 0.04919245], [0.04919245 0.04919245 0.04919245 0.04919245 0.04919245 0.04919245\n",
       " 0.04919245 0.04919245 0.04919245 0.04919245 0.04919245]),\n",
       "       ([0.01936432 0.01936432 0.01936432 0.01936432 0.01936432 0.01936432\n",
       " 0.01936432 0.01936432 0.01936432 0.01936432 0.01936432], [0.01936432 0.01936432 0.01936432 0.01936432 0.01936432 0.01936432\n",
       " 0.01936432 0.01936432 0.01936432 0.01936432 0.01936432]),\n",
       "       ([0.01565526 0.01565526 0.01565526 0.01565526 0.01565526 0.01565526\n",
       " 0.01565526 0.01565526 0.01565526 0.01565526 0.01565526], [0.01565526 0.01565526 0.01565526 0.01565526 0.01565526 0.01565526\n",
       " 0.01565526 0.01565526 0.01565526 0.01565526 0.01565526]),\n",
       "       ([0.96677369 0.96677369 0.96677369 0.96677369 0.96677369 0.96677369\n",
       " 0.96677369 0.96677369 0.96677369 0.96677369 0.96677369], [0.96677369 0.96677369 0.96677369 0.96677369 0.96677369 0.96677369\n",
       " 0.96677369 0.96677369 0.96677369 0.96677369 0.96677369])], dtype=object)"
      ]
     },
     "execution_count": 26,
     "metadata": {},
     "output_type": "execute_result"
    }
   ],
   "source": [
    "ofgarch.coefs.values"
   ]
  },
  {
   "cell_type": "code",
   "execution_count": 32,
   "metadata": {},
   "outputs": [],
   "source": [
    "offorecasts = ofgarch.predict(5, error=True)"
   ]
  },
  {
   "cell_type": "code",
   "execution_count": 34,
   "metadata": {},
   "outputs": [
    {
     "data": {
      "text/plain": [
       "(([0.04919245 0.04919245 0.04919245 0.04919245 0.04919245 0.04919245\n",
       "  0.04919245 0.04919245 0.04919245 0.04919245 0.04919245], [0.04919245 0.04919245 0.04919245 0.04919245 0.04919245 0.04919245\n",
       "  0.04919245 0.04919245 0.04919245 0.04919245 0.04919245]),\n",
       " ([0.98054065 0.98054065 0.98054065 0.98054065 0.98054065 0.98054065\n",
       "  0.98054065 0.98054065 0.98054065 0.98054065 0.98054065], [0.98054065 0.98054065 0.98054065 0.98054065 0.98054065 0.98054065\n",
       "  0.98054065 0.98054065 0.98054065 0.98054065 0.98054065]),\n",
       " ([1.6006325 1.6006325 1.6006325 1.6006325 1.6006325 1.6006325 1.6006325\n",
       "  1.6006325 1.6006325 1.6006325 1.6006325], [1.6006325 1.6006325 1.6006325 1.6006325 1.6006325 1.6006325 1.6006325\n",
       "  1.6006325 1.6006325 1.6006325 1.6006325]),\n",
       " ([1.56675899 1.56675899 1.56675899 1.56675899 1.56675899 1.56675899\n",
       "  1.56675899 1.56675899 1.56675899 1.56675899 1.56675899], [1.56675899 1.56675899 1.56675899 1.56675899 1.56675899 1.56675899\n",
       "  1.56675899 1.56675899 1.56675899 1.56675899 1.56675899]))"
      ]
     },
     "execution_count": 34,
     "metadata": {},
     "output_type": "execute_result"
    }
   ],
   "source": [
    "offorecasts[0].values[0], offorecasts[1].values[0], offorecasts[2].values[0], offorecasts[3].values[0]"
   ]
  },
  {
   "cell_type": "code",
   "execution_count": 35,
   "metadata": {},
   "outputs": [
    {
     "data": {
      "text/plain": [
       "1.6006324939216183"
      ]
     },
     "execution_count": 35,
     "metadata": {},
     "output_type": "execute_result"
    }
   ],
   "source": [
    "(0.98054065**0.5)*1.56675899+0.04919245"
   ]
  },
  {
   "cell_type": "code",
   "execution_count": 30,
   "metadata": {},
   "outputs": [
    {
     "data": {
      "text/plain": [
       "([1.03941498 1.03941498 1.03941498 1.03941498 1.03941498 1.03941498\n",
       " 1.03941498 1.03941498 1.03941498 1.03941498 1.03941498], [1.03941498 1.03941498 1.03941498 1.03941498 1.03941498 1.03941498\n",
       " 1.03941498 1.03941498 1.03941498 1.03941498 1.03941498])"
      ]
     },
     "execution_count": 30,
     "metadata": {},
     "output_type": "execute_result"
    }
   ],
   "source": [
    "ofn.fpower(offorecasts[1].values[0], 0.5) + offorecasts[0].values[0]"
   ]
  },
  {
   "cell_type": "code",
   "execution_count": 37,
   "metadata": {},
   "outputs": [
    {
     "data": {
      "application/vnd.jupyter.widget-view+json": {
       "model_id": "",
       "version_major": 2,
       "version_minor": 0
      },
      "text/plain": [
       "A Jupyter Widget"
      ]
     },
     "metadata": {},
     "output_type": "display_data"
    }
   ],
   "source": [
    "from mpl_toolkits.mplot3d import Axes3D\n",
    "fig = plt.figure()\n",
    "axf = fig.add_subplot(121, projection='3d')\n",
    "axg = fig.add_subplot(122, projection='3d')\n",
    "ofgarch.residuals.plot_3d_histogram(axf, axg)\n",
    "plt.show()"
   ]
  },
  {
   "cell_type": "code",
   "execution_count": 23,
   "metadata": {},
   "outputs": [],
   "source": [
    "ofgarch = ofm.OFGARCH(tmean='constant')\n",
    "ofgarch.fit(ofm.OFSeries(ofts_logret[3999:4576]*100))"
   ]
  },
  {
   "cell_type": "code",
   "execution_count": 24,
   "metadata": {},
   "outputs": [
    {
     "data": {
      "application/vnd.jupyter.widget-view+json": {
       "model_id": "",
       "version_major": 2,
       "version_minor": 0
      },
      "text/plain": [
       "A Jupyter Widget"
      ]
     },
     "metadata": {},
     "output_type": "display_data"
    }
   ],
   "source": [
    "fig, ax = plt.subplots()\n",
    "ofgarch.coefs.plot_ofseries(ax)\n",
    "plt.show()"
   ]
  },
  {
   "cell_type": "code",
   "execution_count": 25,
   "metadata": {},
   "outputs": [
    {
     "data": {
      "application/vnd.jupyter.widget-view+json": {
       "model_id": "",
       "version_major": 2,
       "version_minor": 0
      },
      "text/plain": [
       "A Jupyter Widget"
      ]
     },
     "metadata": {},
     "output_type": "display_data"
    }
   ],
   "source": [
    "from mpl_toolkits.mplot3d import Axes3D\n",
    "fig = plt.figure()\n",
    "axf = fig.add_subplot(121, projection='3d')\n",
    "axg = fig.add_subplot(122, projection='3d')\n",
    "ofgarch.residuals.plot_3d_histogram(axf, axg)\n",
    "plt.show()"
   ]
  },
  {
   "cell_type": "code",
   "execution_count": 26,
   "metadata": {},
   "outputs": [
    {
     "data": {
      "text/plain": [
       "0.5043327556325823"
      ]
     },
     "execution_count": 26,
     "metadata": {},
     "output_type": "execute_result"
    }
   ],
   "source": [
    "ofgarch.residuals.order_probability()"
   ]
  },
  {
   "cell_type": "code",
   "execution_count": 27,
   "metadata": {},
   "outputs": [
    {
     "data": {
      "text/plain": [
       "-0.0025280313668469344"
      ]
     },
     "execution_count": 27,
     "metadata": {},
     "output_type": "execute_result"
    }
   ],
   "source": [
    "ofgarch.residuals.mean_crisp()"
   ]
  },
  {
   "cell_type": "code",
   "execution_count": 28,
   "metadata": {},
   "outputs": [
    {
     "data": {
      "text/plain": [
       "([-5.41238964e-04 -1.27229321e-04  2.08824331e-06  2.28613420e-04\n",
       "  3.37238989e-04  3.16819808e-04  9.08171575e-05 -2.08106821e-04\n",
       " -1.22344196e-03 -1.73638924e-03 -2.58230950e-03], [-0.0047359  -0.00337109 -0.00384247 -0.00479481 -0.00535434 -0.00607212\n",
       " -0.00679577 -0.00544349 -0.00393079 -0.00341529 -0.00258231])"
      ]
     },
     "execution_count": 28,
     "metadata": {},
     "output_type": "execute_result"
    }
   ],
   "source": [
    "ofgarch.residuals.mean_fuzzy()"
   ]
  },
  {
   "cell_type": "code",
   "execution_count": 29,
   "metadata": {},
   "outputs": [
    {
     "data": {
      "text/plain": [
       "([1.75306144 1.27046039 1.11850956 1.02692058 0.95203067 0.89926136\n",
       " 0.85831241 0.83066025 0.80622557 0.79214796 0.78284408], [1.73334343 1.36286953 1.20965733 1.09635584 1.00908611 0.95254644\n",
       " 0.89710289 0.85744716 0.8201364  0.79732717 0.78284408])"
      ]
     },
     "execution_count": 29,
     "metadata": {},
     "output_type": "execute_result"
    }
   ],
   "source": [
    "ofgarch.residuals.var_fuzzy()"
   ]
  },
  {
   "cell_type": "code",
   "execution_count": 30,
   "metadata": {},
   "outputs": [],
   "source": [
    "import ofrandom as ofr"
   ]
  },
  {
   "cell_type": "code",
   "execution_count": 31,
   "metadata": {},
   "outputs": [
    {
     "data": {
      "text/plain": [
       "([-0.80455545 -0.60767935 -0.51501846 -0.43767389 -0.36732912 -0.30557454\n",
       " -0.24792688 -0.19120778 -0.13673664 -0.07709793 -0.00258231], [ 0.79927831  0.60418103  0.51117808  0.43310769  0.36231202  0.29981924\n",
       "  0.24122194  0.18555618  0.13158241  0.07194625 -0.00258231])"
      ]
     },
     "execution_count": 31,
     "metadata": {},
     "output_type": "execute_result"
    }
   ],
   "source": [
    "ofr.ofnormal_mu_est(ofgarch.residuals)"
   ]
  },
  {
   "cell_type": "code",
   "execution_count": 32,
   "metadata": {},
   "outputs": [
    {
     "data": {
      "text/plain": [
       "([0.367719   0.2060944  0.16192479 0.13455307 0.1063449  0.09583883\n",
       " 0.08320824 0.07363369 0.05763062 0.04881538 0.03441018], [0.33345262 0.19479537 0.1419279  0.1120797  0.09127008 0.07555266\n",
       " 0.05552202 0.04652088 0.03580717 0.03266699 0.03441018])"
      ]
     },
     "execution_count": 32,
     "metadata": {},
     "output_type": "execute_result"
    }
   ],
   "source": [
    "ofr.ofnormal_sig2_est(ofgarch.residuals)"
   ]
  },
  {
   "cell_type": "code",
   "execution_count": 33,
   "metadata": {},
   "outputs": [
    {
     "data": {
      "text/plain": [
       "0.748433902338783"
      ]
     },
     "execution_count": 33,
     "metadata": {},
     "output_type": "execute_result"
    }
   ],
   "source": [
    "ofr.ofnormal_s2_est(ofgarch.residuals)"
   ]
  },
  {
   "cell_type": "code",
   "execution_count": 34,
   "metadata": {},
   "outputs": [
    {
     "data": {
      "text/plain": [
       "0.5043327556325823"
      ]
     },
     "execution_count": 34,
     "metadata": {},
     "output_type": "execute_result"
    }
   ],
   "source": [
    "ofr.ofnormal_p_est(ofgarch.residuals)"
   ]
  },
  {
   "cell_type": "code",
   "execution_count": 23,
   "metadata": {},
   "outputs": [
    {
     "data": {
      "image/png": "[encoded data removed]",
      "text/plain": [
       "<Figure size 432x288 with 1 Axes>"
      ]
     },
     "metadata": {},
     "output_type": "display_data"
    }
   ],
   "source": [
    "c = 2 - a\n",
    "b = OFNumber.init_from_scalar(2, dim=6)\n",
    "fig, ax = plt.subplots()\n",
    "a.plot_ofn(ax, plot_as='classic', kwargs_f={'c': 'r'}, kwargs_g={'c': 'r'})\n",
    "b.plot_ofn(ax, plot_as='classic', kwargs_f={'c': 'b'}, kwargs_g={'c': 'b'})\n",
    "c.plot_ofn(ax, plot_as='classic')\n",
    "plt.show()"
   ]
  },
  {
   "cell_type": "markdown",
   "metadata": {},
   "source": [
    "- mnożenie"
   ]
  },
  {
   "cell_type": "code",
   "execution_count": 24,
   "metadata": {},
   "outputs": [
    {
     "data": {
      "image/png": "[encoded data removed]",
      "text/plain": [
       "<Figure size 432x288 with 1 Axes>"
      ]
     },
     "metadata": {},
     "output_type": "display_data"
    }
   ],
   "source": [
    "a = OFNumber.init_trapezoid_x0x1(1, 2, 5, 3, dim=6)\n",
    "b = OFNumber.init_trapezoid_x0x1(2, 4, 5, 4, dim=6)\n",
    "c = a * b\n",
    "fig, ax = plt.subplots()\n",
    "a.plot_ofn(ax, plot_as='classic', kwargs_f={'c': 'r'}, kwargs_g={'c': 'r'})\n",
    "b.plot_ofn(ax, plot_as='classic', kwargs_f={'c': 'b'}, kwargs_g={'c': 'b'})\n",
    "c.plot_ofn(ax, plot_as='classic')\n",
    "plt.show()"
   ]
  },
  {
   "cell_type": "code",
   "execution_count": 25,
   "metadata": {},
   "outputs": [
    {
     "data": {
      "image/png": "[encoded data removed]",
      "text/plain": [
       "<Figure size 432x288 with 1 Axes>"
      ]
     },
     "metadata": {},
     "output_type": "display_data"
    }
   ],
   "source": [
    "c = a * 2\n",
    "b = OFNumber.init_from_scalar(2, dim=6)\n",
    "fig, ax = plt.subplots()\n",
    "a.plot_ofn(ax, plot_as='classic', kwargs_f={'c': 'r'}, kwargs_g={'c': 'r'})\n",
    "b.plot_ofn(ax, plot_as='classic', kwargs_f={'c': 'b'}, kwargs_g={'c': 'b'})\n",
    "c.plot_ofn(ax, plot_as='classic')\n",
    "plt.show()"
   ]
  },
  {
   "cell_type": "code",
   "execution_count": 26,
   "metadata": {},
   "outputs": [
    {
     "data": {
      "image/png": "[encoded data removed]",
      "text/plain": [
       "<Figure size 432x288 with 1 Axes>"
      ]
     },
     "metadata": {},
     "output_type": "display_data"
    }
   ],
   "source": [
    "c = 2 * a\n",
    "b = OFNumber.init_from_scalar(2, dim=6)\n",
    "fig, ax = plt.subplots()\n",
    "a.plot_ofn(ax, plot_as='classic', kwargs_f={'c': 'r'}, kwargs_g={'c': 'r'})\n",
    "b.plot_ofn(ax, plot_as='classic', kwargs_f={'c': 'b'}, kwargs_g={'c': 'b'})\n",
    "c.plot_ofn(ax, plot_as='classic')\n",
    "plt.show()"
   ]
  },
  {
   "cell_type": "markdown",
   "metadata": {},
   "source": [
    "- dzielenie"
   ]
  },
  {
   "cell_type": "code",
   "execution_count": 27,
   "metadata": {},
   "outputs": [
    {
     "data": {
      "image/png": "[encoded data removed]",
      "text/plain": [
       "<Figure size 432x288 with 1 Axes>"
      ]
     },
     "metadata": {},
     "output_type": "display_data"
    }
   ],
   "source": [
    "a = OFNumber.init_trapezoid_x0x1(1, 2, 5, 3, dim=6)\n",
    "b = OFNumber.init_trapezoid_x0x1(2, 4, 5, 4, dim=6)\n",
    "c = a / b\n",
    "fig, ax = plt.subplots()\n",
    "a.plot_ofn(ax, plot_as='classic', kwargs_f={'c': 'r'}, kwargs_g={'c': 'r'})\n",
    "b.plot_ofn(ax, plot_as='classic', kwargs_f={'c': 'b'}, kwargs_g={'c': 'b'})\n",
    "c.plot_ofn(ax, plot_as='classic')\n",
    "plt.show()"
   ]
  },
  {
   "cell_type": "code",
   "execution_count": 28,
   "metadata": {},
   "outputs": [
    {
     "ename": "ZeroDivisionError",
     "evalue": "division by zero",
     "output_type": "error",
     "traceback": [
      "\u001b[0;31m---------------------------------------------------------------------------\u001b[0m",
      "\u001b[0;31mZeroDivisionError\u001b[0m                         Traceback (most recent call last)",
      "\u001b[0;32m<ipython-input-28-34c67108580f>\u001b[0m in \u001b[0;36m<module>\u001b[0;34m()\u001b[0m\n\u001b[1;32m      1\u001b[0m \u001b[0md\u001b[0m \u001b[0;34m=\u001b[0m \u001b[0mOFNumber\u001b[0m\u001b[0;34m.\u001b[0m\u001b[0minit_trapezoid_x0x1\u001b[0m\u001b[0;34m(\u001b[0m\u001b[0;34m-\u001b[0m\u001b[0;36m1\u001b[0m\u001b[0;34m,\u001b[0m \u001b[0;36m4\u001b[0m\u001b[0;34m,\u001b[0m \u001b[0;36m5\u001b[0m\u001b[0;34m,\u001b[0m \u001b[0;36m4\u001b[0m\u001b[0;34m,\u001b[0m \u001b[0mdim\u001b[0m\u001b[0;34m=\u001b[0m\u001b[0;36m6\u001b[0m\u001b[0;34m)\u001b[0m\u001b[0;34m\u001b[0m\u001b[0m\n\u001b[0;32m----> 2\u001b[0;31m \u001b[0mc\u001b[0m \u001b[0;34m=\u001b[0m \u001b[0ma\u001b[0m\u001b[0;34m/\u001b[0m\u001b[0md\u001b[0m\u001b[0;34m\u001b[0m\u001b[0m\n\u001b[0m\u001b[1;32m      3\u001b[0m \u001b[0mc\u001b[0m\u001b[0;34m\u001b[0m\u001b[0m\n",
      "\u001b[0;32m~/PycharmProjects/ResearchCode/pyorderedfuzzy/ofnumber.py\u001b[0m in \u001b[0;36m__truediv__\u001b[0;34m(self, right)\u001b[0m\n\u001b[1;32m    433\u001b[0m         \u001b[0mres\u001b[0m \u001b[0;34m=\u001b[0m \u001b[0mself\u001b[0m\u001b[0;34m.\u001b[0m\u001b[0mcopy\u001b[0m\u001b[0;34m(\u001b[0m\u001b[0;34m)\u001b[0m\u001b[0;34m\u001b[0m\u001b[0m\n\u001b[1;32m    434\u001b[0m         \u001b[0;32mif\u001b[0m \u001b[0misinstance\u001b[0m\u001b[0;34m(\u001b[0m\u001b[0mright\u001b[0m\u001b[0;34m,\u001b[0m \u001b[0mOFNumber\u001b[0m\u001b[0;34m)\u001b[0m\u001b[0;34m:\u001b[0m\u001b[0;34m\u001b[0m\u001b[0m\n\u001b[0;32m--> 435\u001b[0;31m             \u001b[0mres\u001b[0m\u001b[0;34m.\u001b[0m\u001b[0mbranch_f\u001b[0m \u001b[0;34m=\u001b[0m \u001b[0mres\u001b[0m\u001b[0;34m.\u001b[0m\u001b[0mbranch_f\u001b[0m \u001b[0;34m/\u001b[0m \u001b[0mright\u001b[0m\u001b[0;34m.\u001b[0m\u001b[0mbranch_f\u001b[0m\u001b[0;34m\u001b[0m\u001b[0m\n\u001b[0m\u001b[1;32m    436\u001b[0m             \u001b[0mres\u001b[0m\u001b[0;34m.\u001b[0m\u001b[0mbranch_g\u001b[0m \u001b[0;34m=\u001b[0m \u001b[0mres\u001b[0m\u001b[0;34m.\u001b[0m\u001b[0mbranch_g\u001b[0m \u001b[0;34m/\u001b[0m \u001b[0mright\u001b[0m\u001b[0;34m.\u001b[0m\u001b[0mbranch_g\u001b[0m\u001b[0;34m\u001b[0m\u001b[0m\n\u001b[1;32m    437\u001b[0m         \u001b[0;32melif\u001b[0m \u001b[0misscalar\u001b[0m\u001b[0;34m(\u001b[0m\u001b[0mright\u001b[0m\u001b[0;34m)\u001b[0m\u001b[0;34m:\u001b[0m\u001b[0;34m\u001b[0m\u001b[0m\n",
      "\u001b[0;32m~/PycharmProjects/ResearchCode/pyorderedfuzzy/ofnumber.py\u001b[0m in \u001b[0;36m__truediv__\u001b[0;34m(self, right)\u001b[0m\n\u001b[1;32m    151\u001b[0m         \u001b[0;32mif\u001b[0m \u001b[0misinstance\u001b[0m\u001b[0;34m(\u001b[0m\u001b[0mright\u001b[0m\u001b[0;34m,\u001b[0m \u001b[0mBranch\u001b[0m\u001b[0;34m)\u001b[0m\u001b[0;34m:\u001b[0m\u001b[0;34m\u001b[0m\u001b[0m\n\u001b[1;32m    152\u001b[0m             \u001b[0;32mif\u001b[0m \u001b[0mright\u001b[0m\u001b[0;34m.\u001b[0m\u001b[0mcontains_zero\u001b[0m\u001b[0;34m(\u001b[0m\u001b[0;34m)\u001b[0m\u001b[0;34m:\u001b[0m\u001b[0;34m\u001b[0m\u001b[0m\n\u001b[0;32m--> 153\u001b[0;31m                 \u001b[0;32mraise\u001b[0m \u001b[0mZeroDivisionError\u001b[0m\u001b[0;34m(\u001b[0m\u001b[0;34m'division by zero'\u001b[0m\u001b[0;34m)\u001b[0m\u001b[0;34m\u001b[0m\u001b[0m\n\u001b[0m\u001b[1;32m    154\u001b[0m             \u001b[0;32massert\u001b[0m \u001b[0;34m(\u001b[0m\u001b[0mres\u001b[0m\u001b[0;34m.\u001b[0m\u001b[0mdim\u001b[0m \u001b[0;34m==\u001b[0m \u001b[0mright\u001b[0m\u001b[0;34m.\u001b[0m\u001b[0mdim\u001b[0m\u001b[0;34m)\u001b[0m\u001b[0;34m,\u001b[0m \u001b[0;34m'self.dim and right.dim must be equal'\u001b[0m\u001b[0;34m\u001b[0m\u001b[0m\n\u001b[1;32m    155\u001b[0m             \u001b[0mres\u001b[0m\u001b[0;34m.\u001b[0m\u001b[0mfvalue_y\u001b[0m \u001b[0;34m=\u001b[0m \u001b[0mres\u001b[0m\u001b[0;34m.\u001b[0m\u001b[0mfvalue_y\u001b[0m \u001b[0;34m/\u001b[0m \u001b[0mright\u001b[0m\u001b[0;34m.\u001b[0m\u001b[0mfvalue_y\u001b[0m\u001b[0;34m\u001b[0m\u001b[0m\n",
      "\u001b[0;31mZeroDivisionError\u001b[0m: division by zero"
     ]
    }
   ],
   "source": [
    "d = OFNumber.init_trapezoid_x0x1(-1, 4, 5, 4, dim=6)\n",
    "c = a/d\n",
    "c"
   ]
  },
  {
   "cell_type": "code",
   "execution_count": 29,
   "metadata": {},
   "outputs": [
    {
     "data": {
      "image/png": "[encoded data removed]",
      "text/plain": [
       "<Figure size 432x288 with 1 Axes>"
      ]
     },
     "metadata": {},
     "output_type": "display_data"
    }
   ],
   "source": [
    "c = a / 2\n",
    "b = OFNumber.init_from_scalar(2, dim=6)\n",
    "fig, ax = plt.subplots()\n",
    "a.plot_ofn(ax, plot_as='classic', kwargs_f={'c': 'r'}, kwargs_g={'c': 'r'})\n",
    "b.plot_ofn(ax, plot_as='classic', kwargs_f={'c': 'b'}, kwargs_g={'c': 'b'})\n",
    "c.plot_ofn(ax, plot_as='classic')\n",
    "plt.show()"
   ]
  },
  {
   "cell_type": "code",
   "execution_count": 30,
   "metadata": {},
   "outputs": [
    {
     "data": {
      "image/png": "[encoded data removed]",
      "text/plain": [
       "<Figure size 432x288 with 1 Axes>"
      ]
     },
     "metadata": {},
     "output_type": "display_data"
    }
   ],
   "source": [
    "c = 2 / a\n",
    "b = OFNumber.init_from_scalar(2, dim=6)\n",
    "fig, ax = plt.subplots()\n",
    "a.plot_ofn(ax, plot_as='classic', kwargs_f={'c': 'r'}, kwargs_g={'c': 'r'})\n",
    "b.plot_ofn(ax, plot_as='classic', kwargs_f={'c': 'b'}, kwargs_g={'c': 'b'})\n",
    "c.plot_ofn(ax, plot_as='classic')\n",
    "plt.show()"
   ]
  },
  {
   "cell_type": "code",
   "execution_count": 31,
   "metadata": {},
   "outputs": [
    {
     "ename": "ZeroDivisionError",
     "evalue": "division by zero",
     "output_type": "error",
     "traceback": [
      "\u001b[0;31m---------------------------------------------------------------------------\u001b[0m",
      "\u001b[0;31mZeroDivisionError\u001b[0m                         Traceback (most recent call last)",
      "\u001b[0;32m<ipython-input-31-b1b092ddf03c>\u001b[0m in \u001b[0;36m<module>\u001b[0;34m()\u001b[0m\n\u001b[0;32m----> 1\u001b[0;31m \u001b[0mc\u001b[0m \u001b[0;34m=\u001b[0m \u001b[0ma\u001b[0m\u001b[0;34m/\u001b[0m\u001b[0;36m0\u001b[0m\u001b[0;34m\u001b[0m\u001b[0m\n\u001b[0m\u001b[1;32m      2\u001b[0m \u001b[0mc\u001b[0m\u001b[0;34m\u001b[0m\u001b[0m\n",
      "\u001b[0;32m~/PycharmProjects/ResearchCode/pyorderedfuzzy/ofnumber.py\u001b[0m in \u001b[0;36m__truediv__\u001b[0;34m(self, right)\u001b[0m\n\u001b[1;32m    436\u001b[0m             \u001b[0mres\u001b[0m\u001b[0;34m.\u001b[0m\u001b[0mbranch_g\u001b[0m \u001b[0;34m=\u001b[0m \u001b[0mres\u001b[0m\u001b[0;34m.\u001b[0m\u001b[0mbranch_g\u001b[0m \u001b[0;34m/\u001b[0m \u001b[0mright\u001b[0m\u001b[0;34m.\u001b[0m\u001b[0mbranch_g\u001b[0m\u001b[0;34m\u001b[0m\u001b[0m\n\u001b[1;32m    437\u001b[0m         \u001b[0;32melif\u001b[0m \u001b[0misscalar\u001b[0m\u001b[0;34m(\u001b[0m\u001b[0mright\u001b[0m\u001b[0;34m)\u001b[0m\u001b[0;34m:\u001b[0m\u001b[0;34m\u001b[0m\u001b[0m\n\u001b[0;32m--> 438\u001b[0;31m             \u001b[0mres\u001b[0m\u001b[0;34m.\u001b[0m\u001b[0mbranch_f\u001b[0m \u001b[0;34m=\u001b[0m \u001b[0mres\u001b[0m\u001b[0;34m.\u001b[0m\u001b[0mbranch_f\u001b[0m \u001b[0;34m/\u001b[0m \u001b[0mright\u001b[0m\u001b[0;34m\u001b[0m\u001b[0m\n\u001b[0m\u001b[1;32m    439\u001b[0m             \u001b[0mres\u001b[0m\u001b[0;34m.\u001b[0m\u001b[0mbranch_g\u001b[0m \u001b[0;34m=\u001b[0m \u001b[0mres\u001b[0m\u001b[0;34m.\u001b[0m\u001b[0mbranch_g\u001b[0m \u001b[0;34m/\u001b[0m \u001b[0mright\u001b[0m\u001b[0;34m\u001b[0m\u001b[0m\n\u001b[1;32m    440\u001b[0m         \u001b[0;32melse\u001b[0m\u001b[0;34m:\u001b[0m\u001b[0;34m\u001b[0m\u001b[0m\n",
      "\u001b[0;32m~/PycharmProjects/ResearchCode/pyorderedfuzzy/ofnumber.py\u001b[0m in \u001b[0;36m__truediv__\u001b[0;34m(self, right)\u001b[0m\n\u001b[1;32m    156\u001b[0m         \u001b[0;32melif\u001b[0m \u001b[0misscalar\u001b[0m\u001b[0;34m(\u001b[0m\u001b[0mright\u001b[0m\u001b[0;34m)\u001b[0m\u001b[0;34m:\u001b[0m\u001b[0;34m\u001b[0m\u001b[0m\n\u001b[1;32m    157\u001b[0m             \u001b[0;32mif\u001b[0m \u001b[0mright\u001b[0m \u001b[0;34m==\u001b[0m \u001b[0;36m0.\u001b[0m\u001b[0;34m:\u001b[0m\u001b[0;34m\u001b[0m\u001b[0m\n\u001b[0;32m--> 158\u001b[0;31m                 \u001b[0;32mraise\u001b[0m \u001b[0mZeroDivisionError\u001b[0m\u001b[0;34m(\u001b[0m\u001b[0;34m'division by zero'\u001b[0m\u001b[0;34m)\u001b[0m\u001b[0;34m\u001b[0m\u001b[0m\n\u001b[0m\u001b[1;32m    159\u001b[0m             \u001b[0mres\u001b[0m\u001b[0;34m.\u001b[0m\u001b[0mfvalue_y\u001b[0m \u001b[0;34m=\u001b[0m \u001b[0mres\u001b[0m\u001b[0;34m.\u001b[0m\u001b[0mfvalue_y\u001b[0m \u001b[0;34m/\u001b[0m \u001b[0mright\u001b[0m\u001b[0;34m\u001b[0m\u001b[0m\n\u001b[1;32m    160\u001b[0m         \u001b[0;32melse\u001b[0m\u001b[0;34m:\u001b[0m\u001b[0;34m\u001b[0m\u001b[0m\n",
      "\u001b[0;31mZeroDivisionError\u001b[0m: division by zero"
     ]
    }
   ],
   "source": [
    "c = a/0\n",
    "c"
   ]
  },
  {
   "cell_type": "markdown",
   "metadata": {},
   "source": [
    "- element przeciwny"
   ]
  },
  {
   "cell_type": "code",
   "execution_count": 32,
   "metadata": {},
   "outputs": [
    {
     "data": {
      "text/plain": [
       "([-1.  -1.2 -1.4 -1.6 -1.8 -2. ], [-5.  -4.6 -4.2 -3.8 -3.4 -3. ])"
      ]
     },
     "execution_count": 32,
     "metadata": {},
     "output_type": "execute_result"
    }
   ],
   "source": [
    "c = -a\n",
    "c"
   ]
  },
  {
   "cell_type": "markdown",
   "metadata": {},
   "source": [
    "__Porównania:__"
   ]
  },
  {
   "cell_type": "code",
   "execution_count": 33,
   "metadata": {},
   "outputs": [],
   "source": [
    "a = OFNumber.init_trapezoid_x0x1(-1, 2, 5, 3, dim=6)\n",
    "b = OFNumber.init_trapezoid_x0x1(2, 4, 5, 4, dim=6)"
   ]
  },
  {
   "cell_type": "code",
   "execution_count": 34,
   "metadata": {},
   "outputs": [
    {
     "data": {
      "text/plain": [
       "False"
      ]
     },
     "execution_count": 34,
     "metadata": {},
     "output_type": "execute_result"
    }
   ],
   "source": [
    "a == b"
   ]
  },
  {
   "cell_type": "code",
   "execution_count": 35,
   "metadata": {},
   "outputs": [
    {
     "data": {
      "text/plain": [
       "False"
      ]
     },
     "execution_count": 35,
     "metadata": {},
     "output_type": "execute_result"
    }
   ],
   "source": [
    "a == 2"
   ]
  },
  {
   "cell_type": "code",
   "execution_count": 36,
   "metadata": {},
   "outputs": [
    {
     "data": {
      "text/plain": [
       "True"
      ]
     },
     "execution_count": 36,
     "metadata": {},
     "output_type": "execute_result"
    }
   ],
   "source": [
    "a != b"
   ]
  },
  {
   "cell_type": "code",
   "execution_count": 37,
   "metadata": {},
   "outputs": [
    {
     "data": {
      "text/plain": [
       "True"
      ]
     },
     "execution_count": 37,
     "metadata": {},
     "output_type": "execute_result"
    }
   ],
   "source": [
    "2 != b"
   ]
  },
  {
   "cell_type": "code",
   "execution_count": 38,
   "metadata": {},
   "outputs": [
    {
     "data": {
      "text/plain": [
       "False"
      ]
     },
     "execution_count": 38,
     "metadata": {},
     "output_type": "execute_result"
    }
   ],
   "source": [
    "a < b"
   ]
  },
  {
   "cell_type": "code",
   "execution_count": 39,
   "metadata": {},
   "outputs": [
    {
     "data": {
      "text/plain": [
       "False"
      ]
     },
     "execution_count": 39,
     "metadata": {},
     "output_type": "execute_result"
    }
   ],
   "source": [
    "a < 2"
   ]
  },
  {
   "cell_type": "code",
   "execution_count": 40,
   "metadata": {},
   "outputs": [
    {
     "data": {
      "text/plain": [
       "False"
      ]
     },
     "execution_count": 40,
     "metadata": {},
     "output_type": "execute_result"
    }
   ],
   "source": [
    "a <= b"
   ]
  },
  {
   "cell_type": "code",
   "execution_count": 41,
   "metadata": {},
   "outputs": [
    {
     "data": {
      "text/plain": [
       "True"
      ]
     },
     "execution_count": 41,
     "metadata": {},
     "output_type": "execute_result"
    }
   ],
   "source": [
    "a <= 10"
   ]
  },
  {
   "cell_type": "code",
   "execution_count": 42,
   "metadata": {},
   "outputs": [
    {
     "data": {
      "text/plain": [
       "False"
      ]
     },
     "execution_count": 42,
     "metadata": {},
     "output_type": "execute_result"
    }
   ],
   "source": [
    "a > b"
   ]
  },
  {
   "cell_type": "code",
   "execution_count": 43,
   "metadata": {},
   "outputs": [
    {
     "data": {
      "text/plain": [
       "True"
      ]
     },
     "execution_count": 43,
     "metadata": {},
     "output_type": "execute_result"
    }
   ],
   "source": [
    "a > -2"
   ]
  },
  {
   "cell_type": "code",
   "execution_count": 44,
   "metadata": {},
   "outputs": [
    {
     "data": {
      "text/plain": [
       "False"
      ]
     },
     "execution_count": 44,
     "metadata": {},
     "output_type": "execute_result"
    }
   ],
   "source": [
    "a >= b"
   ]
  },
  {
   "cell_type": "code",
   "execution_count": 45,
   "metadata": {},
   "outputs": [
    {
     "data": {
      "text/plain": [
       "False"
      ]
     },
     "execution_count": 45,
     "metadata": {},
     "output_type": "execute_result"
    }
   ],
   "source": [
    "a >= 0"
   ]
  },
  {
   "cell_type": "markdown",
   "metadata": {},
   "source": [
    "__Wartość funkcji w dowolnym punkcie z przedziału [0, 1]:__"
   ]
  },
  {
   "cell_type": "code",
   "execution_count": 46,
   "metadata": {},
   "outputs": [
    {
     "data": {
      "text/plain": [
       "([-1.  -0.4  0.2  0.8  1.4  2. ], [5.  4.6 4.2 3.8 3.4 3. ])"
      ]
     },
     "execution_count": 46,
     "metadata": {},
     "output_type": "execute_result"
    }
   ],
   "source": [
    "a = OFNumber.init_trapezoid_x0x1(-1, 2, 5, 3, dim=6)\n",
    "a"
   ]
  },
  {
   "cell_type": "code",
   "execution_count": 47,
   "metadata": {},
   "outputs": [
    {
     "data": {
      "text/plain": [
       "(array(-0.55), array(4.7))"
      ]
     },
     "execution_count": 47,
     "metadata": {},
     "output_type": "execute_result"
    }
   ],
   "source": [
    "a(0.15)"
   ]
  },
  {
   "cell_type": "code",
   "execution_count": 48,
   "metadata": {},
   "outputs": [
    {
     "data": {
      "text/plain": [
       "(array([-0.4 ,  0.32]), array([4.6 , 4.12]))"
      ]
     },
     "execution_count": 48,
     "metadata": {},
     "output_type": "execute_result"
    }
   ],
   "source": [
    "x = np.array([0.2, 0.44])\n",
    "a(x)"
   ]
  },
  {
   "cell_type": "markdown",
   "metadata": {},
   "source": [
    "__Alpha przekrój, nośnik, jądro:__"
   ]
  },
  {
   "cell_type": "code",
   "execution_count": 49,
   "metadata": {},
   "outputs": [
    {
     "data": {
      "image/png": "[encoded data removed]",
      "text/plain": [
       "<Figure size 432x288 with 1 Axes>"
      ]
     },
     "metadata": {},
     "output_type": "display_data"
    }
   ],
   "source": [
    "a = OFNumber.init_trapezoid_x0x1(-1, 2, 5, 3, dim=6)\n",
    "fig, ax = plt.subplots()\n",
    "a.plot_ofn(ax, plot_as='classic')\n",
    "plt.show()"
   ]
  },
  {
   "cell_type": "code",
   "execution_count": 50,
   "metadata": {},
   "outputs": [
    {
     "data": {
      "text/plain": [
       "((0.56, 2.0), (3.0, 3.96))"
      ]
     },
     "execution_count": 50,
     "metadata": {},
     "output_type": "execute_result"
    }
   ],
   "source": [
    "a.acut(0.52)"
   ]
  },
  {
   "cell_type": "code",
   "execution_count": 51,
   "metadata": {},
   "outputs": [
    {
     "data": {
      "text/plain": [
       "((2.0, 2.0), (3.0, 3.0))"
      ]
     },
     "execution_count": 51,
     "metadata": {},
     "output_type": "execute_result"
    }
   ],
   "source": [
    "a.ker()"
   ]
  },
  {
   "cell_type": "code",
   "execution_count": 52,
   "metadata": {},
   "outputs": [
    {
     "data": {
      "text/plain": [
       "((-1.0, 2.0), (3.0, 5.0))"
      ]
     },
     "execution_count": 52,
     "metadata": {},
     "output_type": "execute_result"
    }
   ],
   "source": [
    "a.supp()"
   ]
  },
  {
   "cell_type": "markdown",
   "metadata": {},
   "source": [
    "__Wyostrzanie:__"
   ]
  },
  {
   "cell_type": "code",
   "execution_count": 53,
   "metadata": {},
   "outputs": [],
   "source": [
    "a = OFNumber.init_trapezoid_x0x1(-1, 2, 5, 3, dim=6)"
   ]
  },
  {
   "cell_type": "code",
   "execution_count": 54,
   "metadata": {},
   "outputs": [
    {
     "data": {
      "text/plain": [
       "2.25"
      ]
     },
     "execution_count": 54,
     "metadata": {},
     "output_type": "execute_result"
    }
   ],
   "source": [
    "a.defuzzy(method='expected')"
   ]
  },
  {
   "cell_type": "code",
   "execution_count": 55,
   "metadata": {},
   "outputs": [
    {
     "data": {
      "text/plain": [
       "2.1857142857142855"
      ]
     },
     "execution_count": 55,
     "metadata": {},
     "output_type": "execute_result"
    }
   ],
   "source": [
    "a.defuzzy(method='scog')"
   ]
  },
  {
   "cell_type": "markdown",
   "metadata": {},
   "source": [
    "__Funkcje matematyczne:__"
   ]
  },
  {
   "cell_type": "code",
   "execution_count": 56,
   "metadata": {},
   "outputs": [],
   "source": [
    "from ofnumber import fexp, fabs, flog, fpower, fmax, fmin\n",
    "a = OFNumber.init_trapezoid_x0x1(-1, 2, 5, 3, dim=6)"
   ]
  },
  {
   "cell_type": "code",
   "execution_count": 57,
   "metadata": {},
   "outputs": [
    {
     "data": {
      "image/png": "[encoded data removed]",
      "text/plain": [
       "<Figure size 432x288 with 1 Axes>"
      ]
     },
     "metadata": {},
     "output_type": "display_data"
    }
   ],
   "source": [
    "b = fabs(a)\n",
    "fig, ax = plt.subplots()\n",
    "a.plot_ofn(ax, plot_as='classic')\n",
    "b.plot_ofn(ax, plot_as='classic', kwargs_f={'c': 'r'}, kwargs_g={'c': 'r'})\n",
    "plt.show()"
   ]
  },
  {
   "cell_type": "code",
   "execution_count": 58,
   "metadata": {},
   "outputs": [
    {
     "data": {
      "image/png": "[encoded data removed]",
      "text/plain": [
       "<Figure size 432x288 with 1 Axes>"
      ]
     },
     "metadata": {},
     "output_type": "display_data"
    }
   ],
   "source": [
    "b = fexp(a)\n",
    "fig, ax = plt.subplots()\n",
    "a.plot_ofn(ax, plot_as='classic')\n",
    "b.plot_ofn(ax, plot_as='classic', kwargs_f={'c': 'r'}, kwargs_g={'c': 'r'})\n",
    "plt.show()"
   ]
  },
  {
   "cell_type": "code",
   "execution_count": 59,
   "metadata": {},
   "outputs": [
    {
     "data": {
      "image/png": "[encoded data removed]",
      "text/plain": [
       "<Figure size 432x288 with 1 Axes>"
      ]
     },
     "metadata": {},
     "output_type": "display_data"
    }
   ],
   "source": [
    "a = OFNumber.init_trapezoid_x0x1(1, 2, 5, 3, dim=6)\n",
    "b = flog(a)\n",
    "fig, ax = plt.subplots()\n",
    "a.plot_ofn(ax, plot_as='classic')\n",
    "b.plot_ofn(ax, plot_as='classic', kwargs_f={'c': 'r'}, kwargs_g={'c': 'r'})\n",
    "plt.show()"
   ]
  },
  {
   "cell_type": "code",
   "execution_count": 60,
   "metadata": {},
   "outputs": [
    {
     "data": {
      "image/png": "[encoded data removed]",
      "text/plain": [
       "<Figure size 432x288 with 1 Axes>"
      ]
     },
     "metadata": {},
     "output_type": "display_data"
    }
   ],
   "source": [
    "a = OFNumber.init_trapezoid_x0x1(1, 2, 5, 3, dim=6)\n",
    "b = fpower(2, a)\n",
    "fig, ax = plt.subplots()\n",
    "a.plot_ofn(ax, plot_as='classic')\n",
    "b.plot_ofn(ax, plot_as='classic', kwargs_f={'c': 'r'}, kwargs_g={'c': 'r'})\n",
    "plt.show()"
   ]
  },
  {
   "cell_type": "code",
   "execution_count": 61,
   "metadata": {},
   "outputs": [
    {
     "data": {
      "image/png": "[encoded data removed]",
      "text/plain": [
       "<Figure size 432x288 with 1 Axes>"
      ]
     },
     "metadata": {},
     "output_type": "display_data"
    }
   ],
   "source": [
    "a = OFNumber.init_trapezoid_x0x1(1, 2, 5, 3, dim=6)\n",
    "b = fmin(a, 2)\n",
    "fig, ax = plt.subplots()\n",
    "a.plot_ofn(ax, plot_as='classic')\n",
    "b.plot_ofn(ax, plot_as='classic', kwargs_f={'c': 'r'}, kwargs_g={'c': 'r'})\n",
    "plt.show()"
   ]
  },
  {
   "cell_type": "code",
   "execution_count": null,
   "metadata": {},
   "outputs": [],
   "source": []
  }
 ],
 "metadata": {
  "kernelspec": {
   "display_name": "Python (intel36)",
   "language": "python",
   "name": "idp"
  },
  "language_info": {
   "codemirror_mode": {
    "name": "ipython",
    "version": 3
   },
   "file_extension": ".py",
   "mimetype": "text/x-python",
   "name": "python",
   "nbconvert_exporter": "python",
   "pygments_lexer": "ipython3",
   "version": "3.6.8"
  }
 },
 "nbformat": 4,
 "nbformat_minor": 2
}
