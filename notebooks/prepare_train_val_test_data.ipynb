{
 "cells": [
  {
   "cell_type": "code",
   "execution_count": 4,
   "metadata": {
    "collapsed": true
   },
   "outputs": [],
   "source": [
    "import numpy as np\n",
    "import pandas as pd\n",
    "import matplotlib.pyplot as plt\n",
    "import pickle"
   ]
  },
  {
   "cell_type": "code",
   "execution_count": 1,
   "metadata": {},
   "outputs": [
    {
     "name": "stdout",
     "output_type": "stream",
     "text": [
      "10\n",
      "20\n",
      "1\n"
     ]
    }
   ],
   "source": [
    "labels_main = ['down', 'go', 'left', 'no', 'off', 'on', 'right', 'stop', 'up', 'yes']\n",
    "labels_unknown = ['bed', 'bird', 'cat', 'dog', 'eight', 'five', 'four', 'happy', 'house', 'marvin', 'nine', 'one', 'three', 'tree', 'two', 'seven', 'sheila', 'six', 'wow', 'zero']\n",
    "labels_silence = ['silence'] \n",
    "print(len(labels_main))\n",
    "print(len(labels_unknown))\n",
    "print(len(labels_silence))"
   ]
  },
  {
   "cell_type": "code",
   "execution_count": 18,
   "metadata": {},
   "outputs": [
    {
     "data": {
      "text/plain": [
       "12"
      ]
     },
     "execution_count": 18,
     "metadata": {},
     "output_type": "execute_result"
    }
   ],
   "source": [
    "labels = labels_main+labels_silence+['unknown']\n",
    "len(labels)"
   ]
  },
  {
   "cell_type": "code",
   "execution_count": 19,
   "metadata": {},
   "outputs": [
    {
     "data": {
      "text/html": [
       "<div>\n",
       "<style>\n",
       "    .dataframe thead tr:only-child th {\n",
       "        text-align: right;\n",
       "    }\n",
       "\n",
       "    .dataframe thead th {\n",
       "        text-align: left;\n",
       "    }\n",
       "\n",
       "    .dataframe tbody tr th {\n",
       "        vertical-align: top;\n",
       "    }\n",
       "</style>\n",
       "<table border=\"1\" class=\"dataframe\">\n",
       "  <thead>\n",
       "    <tr style=\"text-align: right;\">\n",
       "      <th></th>\n",
       "      <th>int</th>\n",
       "      <th>label</th>\n",
       "      <th>one_hot</th>\n",
       "    </tr>\n",
       "  </thead>\n",
       "  <tbody>\n",
       "    <tr>\n",
       "      <th>0</th>\n",
       "      <td>0</td>\n",
       "      <td>down</td>\n",
       "      <td>[1, 0, 0, 0, 0, 0, 0, 0, 0, 0, 0, 0]</td>\n",
       "    </tr>\n",
       "    <tr>\n",
       "      <th>1</th>\n",
       "      <td>1</td>\n",
       "      <td>go</td>\n",
       "      <td>[0, 1, 0, 0, 0, 0, 0, 0, 0, 0, 0, 0]</td>\n",
       "    </tr>\n",
       "    <tr>\n",
       "      <th>2</th>\n",
       "      <td>2</td>\n",
       "      <td>left</td>\n",
       "      <td>[0, 0, 1, 0, 0, 0, 0, 0, 0, 0, 0, 0]</td>\n",
       "    </tr>\n",
       "    <tr>\n",
       "      <th>3</th>\n",
       "      <td>3</td>\n",
       "      <td>no</td>\n",
       "      <td>[0, 0, 0, 1, 0, 0, 0, 0, 0, 0, 0, 0]</td>\n",
       "    </tr>\n",
       "    <tr>\n",
       "      <th>4</th>\n",
       "      <td>4</td>\n",
       "      <td>off</td>\n",
       "      <td>[0, 0, 0, 0, 1, 0, 0, 0, 0, 0, 0, 0]</td>\n",
       "    </tr>\n",
       "    <tr>\n",
       "      <th>5</th>\n",
       "      <td>5</td>\n",
       "      <td>on</td>\n",
       "      <td>[0, 0, 0, 0, 0, 1, 0, 0, 0, 0, 0, 0]</td>\n",
       "    </tr>\n",
       "    <tr>\n",
       "      <th>6</th>\n",
       "      <td>6</td>\n",
       "      <td>right</td>\n",
       "      <td>[0, 0, 0, 0, 0, 0, 1, 0, 0, 0, 0, 0]</td>\n",
       "    </tr>\n",
       "    <tr>\n",
       "      <th>7</th>\n",
       "      <td>7</td>\n",
       "      <td>stop</td>\n",
       "      <td>[0, 0, 0, 0, 0, 0, 0, 1, 0, 0, 0, 0]</td>\n",
       "    </tr>\n",
       "    <tr>\n",
       "      <th>8</th>\n",
       "      <td>8</td>\n",
       "      <td>up</td>\n",
       "      <td>[0, 0, 0, 0, 0, 0, 0, 0, 1, 0, 0, 0]</td>\n",
       "    </tr>\n",
       "    <tr>\n",
       "      <th>9</th>\n",
       "      <td>9</td>\n",
       "      <td>yes</td>\n",
       "      <td>[0, 0, 0, 0, 0, 0, 0, 0, 0, 1, 0, 0]</td>\n",
       "    </tr>\n",
       "    <tr>\n",
       "      <th>10</th>\n",
       "      <td>10</td>\n",
       "      <td>silence</td>\n",
       "      <td>[0, 0, 0, 0, 0, 0, 0, 0, 0, 0, 1, 0]</td>\n",
       "    </tr>\n",
       "    <tr>\n",
       "      <th>11</th>\n",
       "      <td>11</td>\n",
       "      <td>unknown</td>\n",
       "      <td>[0, 0, 0, 0, 0, 0, 0, 0, 0, 0, 0, 1]</td>\n",
       "    </tr>\n",
       "  </tbody>\n",
       "</table>\n",
       "</div>"
      ],
      "text/plain": [
       "    int    label                               one_hot\n",
       "0     0     down  [1, 0, 0, 0, 0, 0, 0, 0, 0, 0, 0, 0]\n",
       "1     1       go  [0, 1, 0, 0, 0, 0, 0, 0, 0, 0, 0, 0]\n",
       "2     2     left  [0, 0, 1, 0, 0, 0, 0, 0, 0, 0, 0, 0]\n",
       "3     3       no  [0, 0, 0, 1, 0, 0, 0, 0, 0, 0, 0, 0]\n",
       "4     4      off  [0, 0, 0, 0, 1, 0, 0, 0, 0, 0, 0, 0]\n",
       "5     5       on  [0, 0, 0, 0, 0, 1, 0, 0, 0, 0, 0, 0]\n",
       "6     6    right  [0, 0, 0, 0, 0, 0, 1, 0, 0, 0, 0, 0]\n",
       "7     7     stop  [0, 0, 0, 0, 0, 0, 0, 1, 0, 0, 0, 0]\n",
       "8     8       up  [0, 0, 0, 0, 0, 0, 0, 0, 1, 0, 0, 0]\n",
       "9     9      yes  [0, 0, 0, 0, 0, 0, 0, 0, 0, 1, 0, 0]\n",
       "10   10  silence  [0, 0, 0, 0, 0, 0, 0, 0, 0, 0, 1, 0]\n",
       "11   11  unknown  [0, 0, 0, 0, 0, 0, 0, 0, 0, 0, 0, 1]"
      ]
     },
     "execution_count": 19,
     "metadata": {},
     "output_type": "execute_result"
    }
   ],
   "source": [
    "values = np.arange(12)\n",
    "n_values = np.max(values) + 1\n",
    "one_hot = np.eye(n_values)[values]\n",
    "dic = {'label': [], 'int': [], 'one_hot': []}\n",
    "for i, row in enumerate(one_hot):\n",
    "    dic['label'].append(labels[i])\n",
    "    dic['int'].append(i)\n",
    "    dic['one_hot'].append(row.astype(int))\n",
    "df_one = pd.DataFrame(dic)\n",
    "pd.to_pickle(df_one, '../data/labels_one_hot.pkl')\n",
    "df_one"
   ]
  },
  {
   "cell_type": "code",
   "execution_count": 24,
   "metadata": {},
   "outputs": [],
   "source": [
    "df_labels = pd.read_pickle('../data/labels_one_hot.pkl')\n",
    "a = df_labels[df_labels['label']=='silence']['one_hot'].iloc[0]"
   ]
  },
  {
   "cell_type": "code",
   "execution_count": 36,
   "metadata": {},
   "outputs": [
    {
     "data": {
      "text/plain": [
       "array([[0, 0, 0, 0, 0, 0, 0, 0, 0, 0, 1, 0],\n",
       "       [0, 0, 0, 0, 0, 0, 0, 0, 0, 0, 1, 0],\n",
       "       [0, 0, 0, 0, 0, 0, 0, 0, 0, 0, 1, 0],\n",
       "       [0, 0, 0, 0, 0, 0, 0, 0, 0, 0, 1, 0],\n",
       "       [0, 0, 0, 0, 0, 0, 0, 0, 0, 0, 1, 0],\n",
       "       [0, 0, 0, 0, 0, 0, 0, 0, 0, 0, 1, 0],\n",
       "       [0, 0, 0, 0, 0, 0, 0, 0, 0, 0, 1, 0],\n",
       "       [0, 0, 0, 0, 0, 0, 0, 0, 0, 0, 1, 0],\n",
       "       [0, 0, 0, 0, 0, 0, 0, 0, 0, 0, 1, 0],\n",
       "       [0, 0, 0, 0, 0, 0, 0, 0, 0, 0, 1, 0]])"
      ]
     },
     "execution_count": 36,
     "metadata": {},
     "output_type": "execute_result"
    }
   ],
   "source": [
    "np.tile(a,10).reshape([10,-1])"
   ]
  },
  {
   "cell_type": "code",
   "execution_count": 42,
   "metadata": {},
   "outputs": [
    {
     "name": "stdout",
     "output_type": "stream",
     "text": [
      "(1920, 79, 82)\n",
      "(480, 79, 82)\n"
     ]
    }
   ],
   "source": [
    "# get silence samples\n",
    "for label in labels_silence:\n",
    "    label_one_hot = df_labels[df_labels['label']=='silence']['one_hot'].iloc[0]\n",
    "    df = pd.read_pickle('../data/'+label+'_ofcs.pkl')\n",
    "    data = df.sample(2400)\n",
    "    data = np.array(data['ofcs'].tolist())\n",
    "    labels = np.tile(label_one_hot, 2400).reshape(2400,-1)\n",
    "    train_data = data[:-480]\n",
    "    train_labels = labels[:-480]\n",
    "    val_data = data[-480:]\n",
    "    val_labels = labels[-480:]\n",
    "    print(train_data.shape)\n",
    "    print(val_data.shape)"
   ]
  },
  {
   "cell_type": "code",
   "execution_count": 43,
   "metadata": {},
   "outputs": [
    {
     "name": "stdout",
     "output_type": "stream",
     "text": [
      "(2016, 79, 82)\n",
      "(504, 79, 82)\n",
      "(2112, 79, 82)\n",
      "(528, 79, 82)\n",
      "(2208, 79, 82)\n",
      "(552, 79, 82)\n",
      "(2304, 79, 82)\n",
      "(576, 79, 82)\n",
      "(2400, 79, 82)\n",
      "(600, 79, 82)\n",
      "(2496, 79, 82)\n",
      "(624, 79, 82)\n",
      "(2592, 79, 82)\n",
      "(648, 79, 82)\n",
      "(2688, 79, 82)\n",
      "(672, 79, 82)\n",
      "(2784, 79, 82)\n",
      "(696, 79, 82)\n",
      "(2880, 79, 82)\n",
      "(720, 79, 82)\n",
      "(2976, 79, 82)\n",
      "(744, 79, 82)\n",
      "(3072, 79, 82)\n",
      "(768, 79, 82)\n",
      "(3168, 79, 82)\n",
      "(792, 79, 82)\n",
      "(3264, 79, 82)\n",
      "(816, 79, 82)\n",
      "(3360, 79, 82)\n",
      "(840, 79, 82)\n",
      "(3456, 79, 82)\n",
      "(864, 79, 82)\n",
      "(3552, 79, 82)\n",
      "(888, 79, 82)\n",
      "(3648, 79, 82)\n",
      "(912, 79, 82)\n",
      "(3744, 79, 82)\n",
      "(936, 79, 82)\n",
      "(3840, 79, 82)\n",
      "(960, 79, 82)\n"
     ]
    }
   ],
   "source": [
    "# get unknown\n",
    "for label in labels_unknown:\n",
    "    label_one_hot = df_labels[df_labels['label']=='unknown']['one_hot'].iloc[0]\n",
    "    df = pd.read_pickle('../data/'+label+'_ofcs.pkl')\n",
    "    data = df.sample(120)\n",
    "    data = np.array(data['ofcs'].tolist())\n",
    "    labels = np.tile(label_one_hot, 120).reshape(120,-1)\n",
    "    train_data = np.concatenate((train_data, data[:-24]), axis=0)\n",
    "    train_labels = np.concatenate((train_labels, labels[:-24]), axis=0)\n",
    "    val_data = np.concatenate((val_data, data[-24:]),axis=0)\n",
    "    val_labels = np.concatenate((val_labels, labels[-24:]), axis=0)\n",
    "    print(train_data.shape)\n",
    "    print(val_data.shape)"
   ]
  },
  {
   "cell_type": "code",
   "execution_count": 44,
   "metadata": {},
   "outputs": [
    {
     "name": "stdout",
     "output_type": "stream",
     "text": [
      "(5728, 79, 82)\n",
      "(1431, 79, 82)\n",
      "(7626, 79, 82)\n",
      "(1905, 79, 82)\n",
      "(9509, 79, 82)\n",
      "(2375, 79, 82)\n",
      "(11409, 79, 82)\n",
      "(2850, 79, 82)\n",
      "(13295, 79, 82)\n",
      "(3321, 79, 82)\n",
      "(15189, 79, 82)\n",
      "(3794, 79, 82)\n",
      "(17083, 79, 82)\n",
      "(4267, 79, 82)\n",
      "(18987, 79, 82)\n",
      "(4743, 79, 82)\n",
      "(20887, 79, 82)\n",
      "(5218, 79, 82)\n",
      "(22789, 79, 82)\n",
      "(5693, 79, 82)\n"
     ]
    }
   ],
   "source": [
    "# get main labels\n",
    "for label in labels_main:\n",
    "    label_one_hot = df_labels[df_labels['label']==label]['one_hot'].iloc[0]\n",
    "    df = pd.read_pickle('../data/'+label+'_ofcs.pkl')\n",
    "    num = len(df)\n",
    "    data = df.sample(num)\n",
    "    data = np.array(data['ofcs'].tolist())\n",
    "    labels = np.tile(label_one_hot, num).reshape(num,-1)\n",
    "    vnum = int(num*0.2)\n",
    "    train_data = np.concatenate((train_data, data[:-vnum]), axis=0)\n",
    "    train_labels = np.concatenate((train_labels, labels[:-vnum]), axis=0)\n",
    "    val_data = np.concatenate((val_data, data[-vnum:]),axis=0)\n",
    "    val_labels = np.concatenate((val_labels, labels[-vnum:]), axis=0)\n",
    "    print(train_data.shape)\n",
    "    print(val_data.shape)"
   ]
  },
  {
   "cell_type": "code",
   "execution_count": 50,
   "metadata": {},
   "outputs": [
    {
     "name": "stdout",
     "output_type": "stream",
     "text": [
      "(22789, 79, 82)\n",
      "(22789, 12)\n"
     ]
    }
   ],
   "source": [
    "# shuffle train\n",
    "ntrain = len(train_data)\n",
    "ran = np.arange(ntrain)\n",
    "np.random.shuffle(ran)\n",
    "train_data = train_data[ran]\n",
    "train_labels = train_labels[ran]\n",
    "print(train_data.shape)\n",
    "print(train_labels.shape)"
   ]
  },
  {
   "cell_type": "code",
   "execution_count": 51,
   "metadata": {},
   "outputs": [
    {
     "name": "stdout",
     "output_type": "stream",
     "text": [
      "(5693, 79, 82)\n",
      "(5693, 12)\n"
     ]
    }
   ],
   "source": [
    "# shuffle train\n",
    "nval = len(val_data)\n",
    "ran = np.arange(nval)\n",
    "np.random.shuffle(ran)\n",
    "val_data = val_data[ran]\n",
    "val_labels = val_labels[ran]\n",
    "print(val_data.shape)\n",
    "print(val_labels.shape)"
   ]
  },
  {
   "cell_type": "code",
   "execution_count": 52,
   "metadata": {},
   "outputs": [],
   "source": [
    "# dump to pickle\n",
    "pickle.dump([train_data, train_labels, val_data, val_labels], open('../data/train_val_data.pkl', 'wb'))"
   ]
  },
  {
   "cell_type": "code",
   "execution_count": 54,
   "metadata": {},
   "outputs": [
    {
     "name": "stdout",
     "output_type": "stream",
     "text": [
      "(22789, 79, 82)\n",
      "(22789, 12)\n",
      "(5693, 79, 82)\n",
      "(5693, 12)\n"
     ]
    }
   ],
   "source": [
    "# load test\n",
    "t_data, t_labels, v_data, v_labels = pickle.load(open('../data/train_val_data.pkl', 'rb'))\n",
    "print(t_data.shape)\n",
    "print(t_labels.shape)\n",
    "print(v_data.shape)\n",
    "print(v_labels.shape)"
   ]
  },
  {
   "cell_type": "code",
   "execution_count": null,
   "metadata": {
    "collapsed": true
   },
   "outputs": [],
   "source": []
  }
 ],
 "metadata": {
  "kernelspec": {
   "display_name": "Python 3",
   "language": "python",
   "name": "python3"
  },
  "language_info": {
   "codemirror_mode": {
    "name": "ipython",
    "version": 3
   },
   "file_extension": ".py",
   "mimetype": "text/x-python",
   "name": "python",
   "nbconvert_exporter": "python",
   "pygments_lexer": "ipython3",
   "version": "3.6.1"
  }
 },
 "nbformat": 4,
 "nbformat_minor": 2
}
