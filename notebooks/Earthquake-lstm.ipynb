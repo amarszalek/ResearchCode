{
 "cells": [
  {
   "cell_type": "code",
   "execution_count": 1,
   "metadata": {},
   "outputs": [],
   "source": [
    "import sys\n",
    "sys.path.append('../pyorderedfuzzy')"
   ]
  },
  {
   "cell_type": "code",
   "execution_count": 2,
   "metadata": {},
   "outputs": [
    {
     "name": "stderr",
     "output_type": "stream",
     "text": [
      "Using TensorFlow backend.\n"
     ]
    }
   ],
   "source": [
    "import numpy as np\n",
    "import pandas as pd\n",
    "import matplotlib.pyplot as plt\n",
    "import tensorflow as tf\n",
    "from keras.initializers import Initializer\n",
    "from keras.models import Model, Sequential\n",
    "from keras.layers import Input, Lambda, Dense, Add, Concatenate, Minimum, Dropout, Maximum, Subtract, Average, LSTM\n",
    "from keras import backend as K\n",
    "import pickle"
   ]
  },
  {
   "cell_type": "code",
   "execution_count": 3,
   "metadata": {},
   "outputs": [
    {
     "data": {
      "text/plain": [
       "((9991, 100, 42), (9991, 1))"
      ]
     },
     "execution_count": 3,
     "metadata": {},
     "output_type": "execute_result"
    }
   ],
   "source": [
    "data = pickle.load(open('../data/train_1.pkl', 'rb'))\n",
    "inputs = data[0]\n",
    "targets = data[1]\n",
    "targets = targets.reshape((-1,1))\n",
    "inputs.shape, targets.shape"
   ]
  },
  {
   "cell_type": "code",
   "execution_count": 4,
   "metadata": {},
   "outputs": [],
   "source": [
    "nsample = inputs[0]\n",
    "lag = inputs.shape[1]\n",
    "dim2 = inputs.shape[2]"
   ]
  },
  {
   "cell_type": "code",
   "execution_count": 26,
   "metadata": {},
   "outputs": [
    {
     "name": "stdout",
     "output_type": "stream",
     "text": [
      "_________________________________________________________________\n",
      "Layer (type)                 Output Shape              Param #   \n",
      "=================================================================\n",
      "lstm_8 (LSTM)                (None, 42)                14280     \n",
      "_________________________________________________________________\n",
      "lambda_7 (Lambda)            (None, 1)                 0         \n",
      "=================================================================\n",
      "Total params: 14,280\n",
      "Trainable params: 14,280\n",
      "Non-trainable params: 0\n",
      "_________________________________________________________________\n"
     ]
    }
   ],
   "source": [
    "#simple model\n",
    "#model = Sequential()\n",
    "#model.add(LSTM(dim2, activation='relu', input_shape=(lag, dim2)))\n",
    "#model.add(Lambda(lambda x: K.mean(x, axis=1), output_shape=lambda x:tuple([x[0],1])))\n",
    "#model.summary()"
   ]
  },
  {
   "cell_type": "code",
   "execution_count": 5,
   "metadata": {},
   "outputs": [],
   "source": [
    "def fsplit(tensor):\n",
    "    shape = list(tensor.shape)\n",
    "    return [tensor[:,:,i:i+1] for i in range(shape[2])]\n",
    "\n",
    "def fsplit_output_shape(input_shape):\n",
    "    shape = list(input_shape)\n",
    "    assert len(shape) == 3\n",
    "    return [tuple([shape[0], shape[1], 1]) for _ in range(shape[2])]\n",
    "\n",
    "class MyInit(Initializer):\n",
    "    def __init__(self, weights):\n",
    "        self.weights = weights\n",
    "    def __call__(self, shape, dtype=None):\n",
    "        return K.variable(self.weights, dtype=dtype)\n",
    "    def get_config(self):\n",
    "        return {'weights': self.weights}"
   ]
  },
  {
   "cell_type": "code",
   "execution_count": 6,
   "metadata": {},
   "outputs": [
    {
     "name": "stdout",
     "output_type": "stream",
     "text": [
      "WARNING:tensorflow:From /home/adamm/anaconda3/envs/idp/lib/python3.6/site-packages/tensorflow/python/framework/op_def_library.py:263: colocate_with (from tensorflow.python.framework.ops) is deprecated and will be removed in a future version.\n",
      "Instructions for updating:\n",
      "Colocations handled automatically by placer.\n"
     ]
    }
   ],
   "source": [
    "x = Input(shape=(lag, dim2), dtype=K.floatx())\n",
    "splits = Lambda(fsplit, output_shape=fsplit_output_shape)(x)\n",
    "neurons = []\n",
    "for i in range(dim2):\n",
    "    neurons.append(LSTM(1)(splits[i]))\n",
    "y = Average()(neurons)"
   ]
  },
  {
   "cell_type": "code",
   "execution_count": 7,
   "metadata": {},
   "outputs": [
    {
     "name": "stdout",
     "output_type": "stream",
     "text": [
      "__________________________________________________________________________________________________\n",
      "Layer (type)                    Output Shape         Param #     Connected to                     \n",
      "==================================================================================================\n",
      "input_1 (InputLayer)            (None, 100, 42)      0                                            \n",
      "__________________________________________________________________________________________________\n",
      "lambda_1 (Lambda)               [(None, 100, 1), (No 0           input_1[0][0]                    \n",
      "__________________________________________________________________________________________________\n",
      "lstm_1 (LSTM)                   (None, 1)            12          lambda_1[0][0]                   \n",
      "__________________________________________________________________________________________________\n",
      "lstm_2 (LSTM)                   (None, 1)            12          lambda_1[0][1]                   \n",
      "__________________________________________________________________________________________________\n",
      "lstm_3 (LSTM)                   (None, 1)            12          lambda_1[0][2]                   \n",
      "__________________________________________________________________________________________________\n",
      "lstm_4 (LSTM)                   (None, 1)            12          lambda_1[0][3]                   \n",
      "__________________________________________________________________________________________________\n",
      "lstm_5 (LSTM)                   (None, 1)            12          lambda_1[0][4]                   \n",
      "__________________________________________________________________________________________________\n",
      "lstm_6 (LSTM)                   (None, 1)            12          lambda_1[0][5]                   \n",
      "__________________________________________________________________________________________________\n",
      "lstm_7 (LSTM)                   (None, 1)            12          lambda_1[0][6]                   \n",
      "__________________________________________________________________________________________________\n",
      "lstm_8 (LSTM)                   (None, 1)            12          lambda_1[0][7]                   \n",
      "__________________________________________________________________________________________________\n",
      "lstm_9 (LSTM)                   (None, 1)            12          lambda_1[0][8]                   \n",
      "__________________________________________________________________________________________________\n",
      "lstm_10 (LSTM)                  (None, 1)            12          lambda_1[0][9]                   \n",
      "__________________________________________________________________________________________________\n",
      "lstm_11 (LSTM)                  (None, 1)            12          lambda_1[0][10]                  \n",
      "__________________________________________________________________________________________________\n",
      "lstm_12 (LSTM)                  (None, 1)            12          lambda_1[0][11]                  \n",
      "__________________________________________________________________________________________________\n",
      "lstm_13 (LSTM)                  (None, 1)            12          lambda_1[0][12]                  \n",
      "__________________________________________________________________________________________________\n",
      "lstm_14 (LSTM)                  (None, 1)            12          lambda_1[0][13]                  \n",
      "__________________________________________________________________________________________________\n",
      "lstm_15 (LSTM)                  (None, 1)            12          lambda_1[0][14]                  \n",
      "__________________________________________________________________________________________________\n",
      "lstm_16 (LSTM)                  (None, 1)            12          lambda_1[0][15]                  \n",
      "__________________________________________________________________________________________________\n",
      "lstm_17 (LSTM)                  (None, 1)            12          lambda_1[0][16]                  \n",
      "__________________________________________________________________________________________________\n",
      "lstm_18 (LSTM)                  (None, 1)            12          lambda_1[0][17]                  \n",
      "__________________________________________________________________________________________________\n",
      "lstm_19 (LSTM)                  (None, 1)            12          lambda_1[0][18]                  \n",
      "__________________________________________________________________________________________________\n",
      "lstm_20 (LSTM)                  (None, 1)            12          lambda_1[0][19]                  \n",
      "__________________________________________________________________________________________________\n",
      "lstm_21 (LSTM)                  (None, 1)            12          lambda_1[0][20]                  \n",
      "__________________________________________________________________________________________________\n",
      "lstm_22 (LSTM)                  (None, 1)            12          lambda_1[0][21]                  \n",
      "__________________________________________________________________________________________________\n",
      "lstm_23 (LSTM)                  (None, 1)            12          lambda_1[0][22]                  \n",
      "__________________________________________________________________________________________________\n",
      "lstm_24 (LSTM)                  (None, 1)            12          lambda_1[0][23]                  \n",
      "__________________________________________________________________________________________________\n",
      "lstm_25 (LSTM)                  (None, 1)            12          lambda_1[0][24]                  \n",
      "__________________________________________________________________________________________________\n",
      "lstm_26 (LSTM)                  (None, 1)            12          lambda_1[0][25]                  \n",
      "__________________________________________________________________________________________________\n",
      "lstm_27 (LSTM)                  (None, 1)            12          lambda_1[0][26]                  \n",
      "__________________________________________________________________________________________________\n",
      "lstm_28 (LSTM)                  (None, 1)            12          lambda_1[0][27]                  \n",
      "__________________________________________________________________________________________________\n",
      "lstm_29 (LSTM)                  (None, 1)            12          lambda_1[0][28]                  \n",
      "__________________________________________________________________________________________________\n",
      "lstm_30 (LSTM)                  (None, 1)            12          lambda_1[0][29]                  \n",
      "__________________________________________________________________________________________________\n",
      "lstm_31 (LSTM)                  (None, 1)            12          lambda_1[0][30]                  \n",
      "__________________________________________________________________________________________________\n",
      "lstm_32 (LSTM)                  (None, 1)            12          lambda_1[0][31]                  \n",
      "__________________________________________________________________________________________________\n",
      "lstm_33 (LSTM)                  (None, 1)            12          lambda_1[0][32]                  \n",
      "__________________________________________________________________________________________________\n",
      "lstm_34 (LSTM)                  (None, 1)            12          lambda_1[0][33]                  \n",
      "__________________________________________________________________________________________________\n",
      "lstm_35 (LSTM)                  (None, 1)            12          lambda_1[0][34]                  \n",
      "__________________________________________________________________________________________________\n",
      "lstm_36 (LSTM)                  (None, 1)            12          lambda_1[0][35]                  \n",
      "__________________________________________________________________________________________________\n",
      "lstm_37 (LSTM)                  (None, 1)            12          lambda_1[0][36]                  \n",
      "__________________________________________________________________________________________________\n",
      "lstm_38 (LSTM)                  (None, 1)            12          lambda_1[0][37]                  \n",
      "__________________________________________________________________________________________________\n",
      "lstm_39 (LSTM)                  (None, 1)            12          lambda_1[0][38]                  \n",
      "__________________________________________________________________________________________________\n",
      "lstm_40 (LSTM)                  (None, 1)            12          lambda_1[0][39]                  \n",
      "__________________________________________________________________________________________________\n",
      "lstm_41 (LSTM)                  (None, 1)            12          lambda_1[0][40]                  \n",
      "__________________________________________________________________________________________________\n",
      "lstm_42 (LSTM)                  (None, 1)            12          lambda_1[0][41]                  \n",
      "__________________________________________________________________________________________________\n",
      "average_1 (Average)             (None, 1)            0           lstm_1[0][0]                     \n",
      "                                                                 lstm_2[0][0]                     \n",
      "                                                                 lstm_3[0][0]                     \n",
      "                                                                 lstm_4[0][0]                     \n",
      "                                                                 lstm_5[0][0]                     \n",
      "                                                                 lstm_6[0][0]                     \n",
      "                                                                 lstm_7[0][0]                     \n",
      "                                                                 lstm_8[0][0]                     \n",
      "                                                                 lstm_9[0][0]                     \n",
      "                                                                 lstm_10[0][0]                    \n",
      "                                                                 lstm_11[0][0]                    \n",
      "                                                                 lstm_12[0][0]                    \n",
      "                                                                 lstm_13[0][0]                    \n",
      "                                                                 lstm_14[0][0]                    \n",
      "                                                                 lstm_15[0][0]                    \n",
      "                                                                 lstm_16[0][0]                    \n",
      "                                                                 lstm_17[0][0]                    \n",
      "                                                                 lstm_18[0][0]                    \n",
      "                                                                 lstm_19[0][0]                    \n",
      "                                                                 lstm_20[0][0]                    \n",
      "                                                                 lstm_21[0][0]                    \n",
      "                                                                 lstm_22[0][0]                    \n",
      "                                                                 lstm_23[0][0]                    \n",
      "                                                                 lstm_24[0][0]                    \n",
      "                                                                 lstm_25[0][0]                    \n",
      "                                                                 lstm_26[0][0]                    \n",
      "                                                                 lstm_27[0][0]                    \n",
      "                                                                 lstm_28[0][0]                    \n",
      "                                                                 lstm_29[0][0]                    \n",
      "                                                                 lstm_30[0][0]                    \n",
      "                                                                 lstm_31[0][0]                    \n",
      "                                                                 lstm_32[0][0]                    \n",
      "                                                                 lstm_33[0][0]                    \n",
      "                                                                 lstm_34[0][0]                    \n",
      "                                                                 lstm_35[0][0]                    \n",
      "                                                                 lstm_36[0][0]                    \n",
      "                                                                 lstm_37[0][0]                    \n",
      "                                                                 lstm_38[0][0]                    \n",
      "                                                                 lstm_39[0][0]                    \n",
      "                                                                 lstm_40[0][0]                    \n",
      "                                                                 lstm_41[0][0]                    \n",
      "                                                                 lstm_42[0][0]                    \n",
      "==================================================================================================\n",
      "Total params: 504\n",
      "Trainable params: 504\n",
      "Non-trainable params: 0\n",
      "__________________________________________________________________________________________________\n"
     ]
    }
   ],
   "source": [
    "model = Model(inputs=x, outputs=y)\n",
    "model.summary()"
   ]
  },
  {
   "cell_type": "code",
   "execution_count": 8,
   "metadata": {},
   "outputs": [],
   "source": [
    "model.compile(optimizer='adam', loss='mse', metrics=['mae'])"
   ]
  },
  {
   "cell_type": "code",
   "execution_count": null,
   "metadata": {},
   "outputs": [
    {
     "name": "stdout",
     "output_type": "stream",
     "text": [
      "WARNING:tensorflow:From /home/adamm/anaconda3/envs/idp/lib/python3.6/site-packages/tensorflow/python/ops/math_ops.py:3066: to_int32 (from tensorflow.python.ops.math_ops) is deprecated and will be removed in a future version.\n",
      "Instructions for updating:\n",
      "Use tf.cast instead.\n",
      "Train on 8991 samples, validate on 1000 samples\n",
      "Epoch 1/100\n",
      " 864/8991 [=>............................] - ETA: 36:55 - loss: 39.2106 - mean_absolute_error: 4.9868"
     ]
    }
   ],
   "source": [
    "model.fit(inputs, targets, epochs=100, verbose=1, validation_split=0.1)"
   ]
  },
  {
   "cell_type": "code",
   "execution_count": 7,
   "metadata": {},
   "outputs": [
    {
     "data": {
      "text/plain": [
       "((9991, 100, 42), (9991,))"
      ]
     },
     "execution_count": 7,
     "metadata": {},
     "output_type": "execute_result"
    }
   ],
   "source": [
    "trains = np.array(trains)\n",
    "targets = np.array(targets)\n",
    "trains.shape, targets.shape"
   ]
  },
  {
   "cell_type": "code",
   "execution_count": 8,
   "metadata": {},
   "outputs": [],
   "source": [
    "pickle.dump([trains, targets], open('../data/train_2.pkl', 'wb'))"
   ]
  },
  {
   "cell_type": "code",
   "execution_count": 10,
   "metadata": {},
   "outputs": [
    {
     "data": {
      "image/png": "[encoded data removed]",
      "text/plain": [
       "<Figure size 432x288 with 1 Axes>"
      ]
     },
     "metadata": {
      "needs_background": "light"
     },
     "output_type": "display_data"
    }
   ],
   "source": [
    "fig, ax = plt.subplots()\n",
    "ax.plot(range(len(targets)), targets)\n",
    "plt.show()"
   ]
  },
  {
   "cell_type": "code",
   "execution_count": null,
   "metadata": {},
   "outputs": [],
   "source": []
  },
  {
   "cell_type": "code",
   "execution_count": 19,
   "metadata": {},
   "outputs": [
    {
     "data": {
      "text/plain": [
       "(901, 100, 22)"
      ]
     },
     "execution_count": 19,
     "metadata": {},
     "output_type": "execute_result"
    }
   ],
   "source": [
    "trains.shape"
   ]
  },
  {
   "cell_type": "code",
   "execution_count": 8,
   "metadata": {},
   "outputs": [
    {
     "data": {
      "image/png": "[encoded data removed]",
      "text/plain": [
       "<Figure size 432x288 with 1 Axes>"
      ]
     },
     "metadata": {
      "needs_background": "light"
     },
     "output_type": "display_data"
    }
   ],
   "source": [
    "df_train['time_to_failure'].plot()\n",
    "plt.show()"
   ]
  },
  {
   "cell_type": "code",
   "execution_count": 14,
   "metadata": {},
   "outputs": [
    {
     "data": {
      "image/png": "[encoded data removed]",
      "text/plain": [
       "<Figure size 432x288 with 1 Axes>"
      ]
     },
     "metadata": {
      "needs_background": "light"
     },
     "output_type": "display_data"
    }
   ],
   "source": [
    "df_train['time_to_failure'].plot()\n",
    "plt.show()"
   ]
  },
  {
   "cell_type": "code",
   "execution_count": 1,
   "metadata": {},
   "outputs": [],
   "source": [
    "from scipy import signal\n",
    "from scipy import stats"
   ]
  },
  {
   "cell_type": "code",
   "execution_count": 7,
   "metadata": {},
   "outputs": [],
   "source": [
    "data = df_train.values[:15000,0]"
   ]
  },
  {
   "cell_type": "code",
   "execution_count": 9,
   "metadata": {},
   "outputs": [],
   "source": [
    "analytic_signal = signal.hilbert(data)\n",
    "amplitude_envelope = np.abs(analytic_signal)\n",
    "slope, intercept, r_value, p_value, std_err = stats.linregress(range(len(amplitude_envelope)), amplitude_envelope)"
   ]
  },
  {
   "cell_type": "code",
   "execution_count": 14,
   "metadata": {},
   "outputs": [
    {
     "data": {
      "text/plain": [
       "[<matplotlib.lines.Line2D at 0x7f71fad22860>]"
      ]
     },
     "execution_count": 14,
     "metadata": {},
     "output_type": "execute_result"
    },
    {
     "data": {
      "image/png": "[encoded data removed]",
      "text/plain": [
       "<Figure size 432x288 with 1 Axes>"
      ]
     },
     "metadata": {
      "needs_background": "light"
     },
     "output_type": "display_data"
    }
   ],
   "source": [
    "fig, ax = plt.subplots()\n",
    "ax.plot(range(len(data)), data)\n",
    "ax.plot(range(len(data)), amplitude_envelope)\n",
    "ax.plot(range(len(data)), slope*np.arange(len(data))+intercept)"
   ]
  },
  {
   "cell_type": "code",
   "execution_count": null,
   "metadata": {},
   "outputs": [],
   "source": []
  }
 ],
 "metadata": {
  "kernelspec": {
   "display_name": "Python (intel36)",
   "language": "python",
   "name": "idp"
  },
  "language_info": {
   "codemirror_mode": {
    "name": "ipython",
    "version": 3
   },
   "file_extension": ".py",
   "mimetype": "text/x-python",
   "name": "python",
   "nbconvert_exporter": "python",
   "pygments_lexer": "ipython3",
   "version": "3.6.8"
  }
 },
 "nbformat": 4,
 "nbformat_minor": 2
}
