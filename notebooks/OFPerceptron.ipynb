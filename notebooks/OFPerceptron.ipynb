{
 "cells": [
  {
   "cell_type": "code",
   "execution_count": 1,
   "metadata": {},
   "outputs": [],
   "source": [
    "import sys\n",
    "sys.path.append('../pyorderedfuzzy')"
   ]
  },
  {
   "cell_type": "code",
   "execution_count": 2,
   "metadata": {},
   "outputs": [],
   "source": [
    "import numpy as np\n",
    "import pandas as pd\n",
    "import ofclassifiers as ofcls\n",
    "import ofnumber as ofn"
   ]
  },
  {
   "cell_type": "code",
   "execution_count": 3,
   "metadata": {},
   "outputs": [
    {
     "data": {
      "text/html": [
       "<div>\n",
       "<style scoped>\n",
       "    .dataframe tbody tr th:only-of-type {\n",
       "        vertical-align: middle;\n",
       "    }\n",
       "\n",
       "    .dataframe tbody tr th {\n",
       "        vertical-align: top;\n",
       "    }\n",
       "\n",
       "    .dataframe thead th {\n",
       "        text-align: right;\n",
       "    }\n",
       "</style>\n",
       "<table border=\"1\" class=\"dataframe\">\n",
       "  <thead>\n",
       "    <tr style=\"text-align: right;\">\n",
       "      <th></th>\n",
       "      <th>X1</th>\n",
       "      <th>X2</th>\n",
       "      <th>Class</th>\n",
       "      <th>X0</th>\n",
       "    </tr>\n",
       "  </thead>\n",
       "  <tbody>\n",
       "    <tr>\n",
       "      <th>0</th>\n",
       "      <td>-0.036819</td>\n",
       "      <td>-0.885263</td>\n",
       "      <td>0</td>\n",
       "      <td>1.0</td>\n",
       "    </tr>\n",
       "    <tr>\n",
       "      <th>1</th>\n",
       "      <td>-0.576998</td>\n",
       "      <td>-0.367745</td>\n",
       "      <td>1</td>\n",
       "      <td>1.0</td>\n",
       "    </tr>\n",
       "    <tr>\n",
       "      <th>2</th>\n",
       "      <td>0.397497</td>\n",
       "      <td>-0.418429</td>\n",
       "      <td>0</td>\n",
       "      <td>1.0</td>\n",
       "    </tr>\n",
       "    <tr>\n",
       "      <th>3</th>\n",
       "      <td>-0.288463</td>\n",
       "      <td>0.801790</td>\n",
       "      <td>1</td>\n",
       "      <td>1.0</td>\n",
       "    </tr>\n",
       "    <tr>\n",
       "      <th>4</th>\n",
       "      <td>0.829187</td>\n",
       "      <td>-0.350243</td>\n",
       "      <td>0</td>\n",
       "      <td>1.0</td>\n",
       "    </tr>\n",
       "  </tbody>\n",
       "</table>\n",
       "</div>"
      ],
      "text/plain": [
       "         X1        X2  Class   X0\n",
       "0 -0.036819 -0.885263      0  1.0\n",
       "1 -0.576998 -0.367745      1  1.0\n",
       "2  0.397497 -0.418429      0  1.0\n",
       "3 -0.288463  0.801790      1  1.0\n",
       "4  0.829187 -0.350243      0  1.0"
      ]
     },
     "execution_count": 3,
     "metadata": {},
     "output_type": "execute_result"
    }
   ],
   "source": [
    "df = pd.read_csv('../data/2D.csv', skiprows=1, sep=';', names=['X1','X2', 'Class'], decimal=',')\n",
    "df['X0'] = np.ones(len(df))\n",
    "df.head()"
   ]
  },
  {
   "cell_type": "code",
   "execution_count": 4,
   "metadata": {},
   "outputs": [],
   "source": [
    "df['FX0']= df['X0'].apply(ofn.OFNumber.init_from_scalar)\n",
    "df['FX1']= df['X1'].apply(ofn.OFNumber.init_from_scalar)\n",
    "df['FX2']= df['X2'].apply(ofn.OFNumber.init_from_scalar)"
   ]
  },
  {
   "cell_type": "code",
   "execution_count": 5,
   "metadata": {},
   "outputs": [
    {
     "data": {
      "text/html": [
       "<div>\n",
       "<style scoped>\n",
       "    .dataframe tbody tr th:only-of-type {\n",
       "        vertical-align: middle;\n",
       "    }\n",
       "\n",
       "    .dataframe tbody tr th {\n",
       "        vertical-align: top;\n",
       "    }\n",
       "\n",
       "    .dataframe thead th {\n",
       "        text-align: right;\n",
       "    }\n",
       "</style>\n",
       "<table border=\"1\" class=\"dataframe\">\n",
       "  <thead>\n",
       "    <tr style=\"text-align: right;\">\n",
       "      <th></th>\n",
       "      <th>X1</th>\n",
       "      <th>X2</th>\n",
       "      <th>Class</th>\n",
       "      <th>X0</th>\n",
       "      <th>FX0</th>\n",
       "      <th>FX1</th>\n",
       "      <th>FX2</th>\n",
       "    </tr>\n",
       "  </thead>\n",
       "  <tbody>\n",
       "    <tr>\n",
       "      <th>0</th>\n",
       "      <td>-0.036819</td>\n",
       "      <td>-0.885263</td>\n",
       "      <td>0</td>\n",
       "      <td>1.0</td>\n",
       "      <td>([1. 1. 1. 1. 1. 1. 1. 1. 1. 1. 1.], [1. 1. 1....</td>\n",
       "      <td>([-0.03681906 -0.03681906 -0.03681906 -0.03681...</td>\n",
       "      <td>([-0.88526332 -0.88526332 -0.88526332 -0.88526...</td>\n",
       "    </tr>\n",
       "    <tr>\n",
       "      <th>1</th>\n",
       "      <td>-0.576998</td>\n",
       "      <td>-0.367745</td>\n",
       "      <td>1</td>\n",
       "      <td>1.0</td>\n",
       "      <td>([1. 1. 1. 1. 1. 1. 1. 1. 1. 1. 1.], [1. 1. 1....</td>\n",
       "      <td>([-0.57699767 -0.57699767 -0.57699767 -0.57699...</td>\n",
       "      <td>([-0.36774517 -0.36774517 -0.36774517 -0.36774...</td>\n",
       "    </tr>\n",
       "    <tr>\n",
       "      <th>2</th>\n",
       "      <td>0.397497</td>\n",
       "      <td>-0.418429</td>\n",
       "      <td>0</td>\n",
       "      <td>1.0</td>\n",
       "      <td>([1. 1. 1. 1. 1. 1. 1. 1. 1. 1. 1.], [1. 1. 1....</td>\n",
       "      <td>([0.39749724 0.39749724 0.39749724 0.39749724 ...</td>\n",
       "      <td>([-0.41842878 -0.41842878 -0.41842878 -0.41842...</td>\n",
       "    </tr>\n",
       "    <tr>\n",
       "      <th>3</th>\n",
       "      <td>-0.288463</td>\n",
       "      <td>0.801790</td>\n",
       "      <td>1</td>\n",
       "      <td>1.0</td>\n",
       "      <td>([1. 1. 1. 1. 1. 1. 1. 1. 1. 1. 1.], [1. 1. 1....</td>\n",
       "      <td>([-0.28846335 -0.28846335 -0.28846335 -0.28846...</td>\n",
       "      <td>([0.80179048 0.80179048 0.80179048 0.80179048 ...</td>\n",
       "    </tr>\n",
       "    <tr>\n",
       "      <th>4</th>\n",
       "      <td>0.829187</td>\n",
       "      <td>-0.350243</td>\n",
       "      <td>0</td>\n",
       "      <td>1.0</td>\n",
       "      <td>([1. 1. 1. 1. 1. 1. 1. 1. 1. 1. 1.], [1. 1. 1....</td>\n",
       "      <td>([0.82918696 0.82918696 0.82918696 0.82918696 ...</td>\n",
       "      <td>([-0.35024341 -0.35024341 -0.35024341 -0.35024...</td>\n",
       "    </tr>\n",
       "  </tbody>\n",
       "</table>\n",
       "</div>"
      ],
      "text/plain": [
       "         X1        X2  Class   X0  \\\n",
       "0 -0.036819 -0.885263      0  1.0   \n",
       "1 -0.576998 -0.367745      1  1.0   \n",
       "2  0.397497 -0.418429      0  1.0   \n",
       "3 -0.288463  0.801790      1  1.0   \n",
       "4  0.829187 -0.350243      0  1.0   \n",
       "\n",
       "                                                 FX0  \\\n",
       "0  ([1. 1. 1. 1. 1. 1. 1. 1. 1. 1. 1.], [1. 1. 1....   \n",
       "1  ([1. 1. 1. 1. 1. 1. 1. 1. 1. 1. 1.], [1. 1. 1....   \n",
       "2  ([1. 1. 1. 1. 1. 1. 1. 1. 1. 1. 1.], [1. 1. 1....   \n",
       "3  ([1. 1. 1. 1. 1. 1. 1. 1. 1. 1. 1.], [1. 1. 1....   \n",
       "4  ([1. 1. 1. 1. 1. 1. 1. 1. 1. 1. 1.], [1. 1. 1....   \n",
       "\n",
       "                                                 FX1  \\\n",
       "0  ([-0.03681906 -0.03681906 -0.03681906 -0.03681...   \n",
       "1  ([-0.57699767 -0.57699767 -0.57699767 -0.57699...   \n",
       "2  ([0.39749724 0.39749724 0.39749724 0.39749724 ...   \n",
       "3  ([-0.28846335 -0.28846335 -0.28846335 -0.28846...   \n",
       "4  ([0.82918696 0.82918696 0.82918696 0.82918696 ...   \n",
       "\n",
       "                                                 FX2  \n",
       "0  ([-0.88526332 -0.88526332 -0.88526332 -0.88526...  \n",
       "1  ([-0.36774517 -0.36774517 -0.36774517 -0.36774...  \n",
       "2  ([-0.41842878 -0.41842878 -0.41842878 -0.41842...  \n",
       "3  ([0.80179048 0.80179048 0.80179048 0.80179048 ...  \n",
       "4  ([-0.35024341 -0.35024341 -0.35024341 -0.35024...  "
      ]
     },
     "execution_count": 5,
     "metadata": {},
     "output_type": "execute_result"
    }
   ],
   "source": [
    "df.head()"
   ]
  },
  {
   "cell_type": "code",
   "execution_count": 6,
   "metadata": {},
   "outputs": [
    {
     "name": "stdout",
     "output_type": "stream",
     "text": [
      "(500, 3) (500,)\n"
     ]
    }
   ],
   "source": [
    "X = df[['FX0','FX1','FX2']].values\n",
    "d = df['Class'].values\n",
    "print(X.shape, d.shape)"
   ]
  },
  {
   "cell_type": "code",
   "execution_count": 7,
   "metadata": {},
   "outputs": [],
   "source": [
    "perceptron = ofcls.OFPercepton()"
   ]
  },
  {
   "cell_type": "code",
   "execution_count": 8,
   "metadata": {},
   "outputs": [
    {
     "name": "stdout",
     "output_type": "stream",
     "text": [
      "Epoach: 1, Error: 332\n",
      "Epoach: 2, Error: 296\n",
      "Epoach: 3, Error: 255\n",
      "Epoach: 4, Error: 214\n",
      "Epoach: 5, Error: 186\n",
      "Epoach: 6, Error: 166\n",
      "Epoach: 7, Error: 42\n",
      "Epoach: 8, Error: 11\n",
      "Epoach: 9, Error: 3\n",
      "Epoach: 10, Error: 2\n",
      "Epoach: 11, Error: 2\n",
      "Epoach: 12, Error: 3\n",
      "Epoach: 13, Error: 2\n",
      "Epoach: 14, Error: 4\n",
      "Epoach: 15, Error: 10\n",
      "Epoach: 16, Error: 10\n",
      "Epoach: 17, Error: 9\n",
      "Epoach: 18, Error: 9\n",
      "Epoach: 19, Error: 2\n",
      "Epoach: 20, Error: 2\n",
      "Epoach: 21, Error: 0\n",
      "Finish after 21 epochs, Error: 0\n"
     ]
    }
   ],
   "source": [
    "perceptron.fit(X, d, eta=0.001, epoch=100)"
   ]
  },
  {
   "cell_type": "code",
   "execution_count": 9,
   "metadata": {},
   "outputs": [
    {
     "data": {
      "text/plain": [
       "array([([0.01978758 0.01978758 0.01978758 0.01978758 0.01978758 0.01978758\n",
       " 0.01978758 0.01978758 0.01978758 0.01978758 0.01978758], [0.01978758 0.01978758 0.01978758 0.01978758 0.01978758 0.01978758\n",
       " 0.01978758 0.01978758 0.01978758 0.01978758 0.01978758]),\n",
       "       ([-0.04918367 -0.04918367 -0.04918367 -0.04918367 -0.04918367 -0.04918367\n",
       " -0.04918367 -0.04918367 -0.04918367 -0.04918367 -0.04918367], [-0.04918367 -0.04918367 -0.04918367 -0.04918367 -0.04918367 -0.04918367\n",
       " -0.04918367 -0.04918367 -0.04918367 -0.04918367 -0.04918367]),\n",
       "       ([0.02488069 0.02488069 0.02488069 0.02488069 0.02488069 0.02488069\n",
       " 0.02488069 0.02488069 0.02488069 0.02488069 0.02488069], [0.02488069 0.02488069 0.02488069 0.02488069 0.02488069 0.02488069\n",
       " 0.02488069 0.02488069 0.02488069 0.02488069 0.02488069])], dtype=object)"
      ]
     },
     "execution_count": 9,
     "metadata": {},
     "output_type": "execute_result"
    }
   ],
   "source": [
    "perceptron.weights.values"
   ]
  },
  {
   "cell_type": "code",
   "execution_count": 11,
   "metadata": {},
   "outputs": [
    {
     "data": {
      "text/plain": [
       "(([-0.79529872 -0.79529872 -0.79529872 -0.79529872 -0.79529872 -0.79529872\n",
       "  -0.79529872 -0.79529872 -0.79529872 -0.79529872 -0.79529872], [-0.79529872 -0.79529872 -0.79529872 -0.79529872 -0.79529872 -0.79529872\n",
       "  -0.79529872 -0.79529872 -0.79529872 -0.79529872 -0.79529872]),\n",
       " ([1.97678041 1.97678041 1.97678041 1.97678041 1.97678041 1.97678041\n",
       "  1.97678041 1.97678041 1.97678041 1.97678041 1.97678041], [1.97678041 1.97678041 1.97678041 1.97678041 1.97678041 1.97678041\n",
       "  1.97678041 1.97678041 1.97678041 1.97678041 1.97678041]))"
      ]
     },
     "execution_count": 11,
     "metadata": {},
     "output_type": "execute_result"
    }
   ],
   "source": [
    "a = -perceptron.weights[0]/perceptron.weights[2]\n",
    "b = -perceptron.weights[1]/perceptron.weights[2]\n",
    "a, b"
   ]
  },
  {
   "cell_type": "code",
   "execution_count": null,
   "metadata": {},
   "outputs": [],
   "source": []
  }
 ],
 "metadata": {
  "kernelspec": {
   "display_name": "Python 3",
   "language": "python",
   "name": "python3"
  },
  "language_info": {
   "codemirror_mode": {
    "name": "ipython",
    "version": 3
   },
   "file_extension": ".py",
   "mimetype": "text/x-python",
   "name": "python",
   "nbconvert_exporter": "python",
   "pygments_lexer": "ipython3",
   "version": "3.7.0"
  }
 },
 "nbformat": 4,
 "nbformat_minor": 2
}
