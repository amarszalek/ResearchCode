{
 "cells": [
  {
   "cell_type": "code",
   "execution_count": 1,
   "metadata": {},
   "outputs": [
    {
     "name": "stdout",
     "output_type": "stream",
     "text": [
      "Your browser has been opened to visit:\n",
      "\n",
      "    https://accounts.google.com/o/oauth2/auth?client_id=952519826912-nvdfgs4t9ce93ciogfsmkcj6obaicd7n.apps.googleusercontent.com&redirect_uri=http%3A%2F%2Flocalhost%3A8080%2F&scope=https%3A%2F%2Fwww.googleapis.com%2Fauth%2Fdrive&access_type=offline&response_type=code\n",
      "\n",
      "Authentication successful.\n"
     ]
    }
   ],
   "source": [
    "from pydrive.auth import GoogleAuth\n",
    "gauth = GoogleAuth()\n",
    "gauth.LocalWebserverAuth() # Creates local webserver and auto handles authentication."
   ]
  },
  {
   "cell_type": "code",
   "execution_count": 2,
   "metadata": {
    "collapsed": true
   },
   "outputs": [],
   "source": [
    "from pydrive.drive import GoogleDrive\n",
    "drive = GoogleDrive(gauth)"
   ]
  },
  {
   "cell_type": "code",
   "execution_count": 3,
   "metadata": {},
   "outputs": [
    {
     "name": "stdout",
     "output_type": "stream",
     "text": [
      "title: speech, id: 1UfQClDUeQdFLt3l_XRBbt0lvM302uKmA\n",
      "title: Shevchuk and Zyra-17-9education Wroclaw-I final.doc, id: 1rXvOLa6xZwYIPX1zMVcupc2Q9eLLtdoQ\n",
      "title: Wstep_do_sztucznej_inteligencji.zip, id: 0Bxa8gZELXKJ1LWp5SDliWDN2enM\n",
      "title: Matematyka_dyskretna.zip, id: 0Bxa8gZELXKJ1N2hrX2RUVnc0TGc\n",
      "title: prez, id: 0Bxa8gZELXKJ1Z0hTOXRpSUhWakE\n",
      "title: wig20_garch.pickle, id: 0Bxa8gZELXKJ1eFpuVHNKLUJOVVE\n",
      "title: Rozprawa_all_03_04_2017.zip, id: 0Bxa8gZELXKJ1b1BmSlNIelI5ajg\n",
      "title: Rozprawa_22_03_2017.zip, id: 0Bxa8gZELXKJ1UmpIei1fTlQ3OEE\n",
      "title: Rozprawa_17_02_2017.zip, id: 0Bxa8gZELXKJ1WkRyb25zUjhGTGM\n",
      "title: Rozprawa_09_01_17.zip, id: 0Bxa8gZELXKJ1ckN6YVh3djBsekk\n",
      "title: Rozdzial_mono_ofn, id: 0Bxa8gZELXKJ1T2RERHlyVWVQenM\n",
      "title: Doktorat, id: 0Bxa8gZELXKJ1T3J5a2Y3d2hpTnc\n",
      "title: XAGUSD_2010.zip, id: 0Bxa8gZELXKJ1TzhQSTFsTGR1WTQ\n"
     ]
    }
   ],
   "source": [
    "file_list = drive.ListFile({'q': \"'root' in parents and trashed=false\"}).GetList()\n",
    "for file1 in file_list:\n",
    "  print('title: %s, id: %s' % (file1['title'], file1['id']))"
   ]
  },
  {
   "cell_type": "code",
   "execution_count": 8,
   "metadata": {},
   "outputs": [
    {
     "name": "stdout",
     "output_type": "stream",
     "text": [
      "title: zero.pkl, id: 1jXpPGDGgiPhzp9w8lz3THK5LweMKAfl6\n"
     ]
    }
   ],
   "source": [
    "file_list = drive.ListFile({'q': \"'1UfQClDUeQdFLt3l_XRBbt0lvM302uKmA' in parents and title='zero.pkl' and trashed=false\"}).GetList()\n",
    "for file1 in file_list:\n",
    "  print('title: %s, id: %s' % (file1['title'], file1['id']))"
   ]
  },
  {
   "cell_type": "code",
   "execution_count": null,
   "metadata": {
    "collapsed": true
   },
   "outputs": [],
   "source": []
  }
 ],
 "metadata": {
  "kernelspec": {
   "display_name": "Python 3",
   "language": "python",
   "name": "python3"
  },
  "language_info": {
   "codemirror_mode": {
    "name": "ipython",
    "version": 3
   },
   "file_extension": ".py",
   "mimetype": "text/x-python",
   "name": "python",
   "nbconvert_exporter": "python",
   "pygments_lexer": "ipython3",
   "version": "3.6.1"
  }
 },
 "nbformat": 4,
 "nbformat_minor": 2
}
